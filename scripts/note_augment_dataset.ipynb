{
 "cells": [
  {
   "cell_type": "code",
   "execution_count": 2,
   "id": "f3dae988",
   "metadata": {},
   "outputs": [],
   "source": [
    "import collections\n",
    "import json\n",
    "import math\n",
    "import os\n",
    "import shutil\n",
    "import sys\n",
    "from tqdm.notebook import tqdm\n",
    "\n",
    "from transformers import AutoTokenizer, AutoModel\n",
    "import numpy as np\n",
    "import pandas as pd\n",
    "from rouge_score import rouge_scorer\n",
    "\n",
    "from utils import (\n",
    "    get_rouge_score,\n",
    "    get_levenshtein_score\n",
    ")"
   ]
  },
  {
   "cell_type": "code",
   "execution_count": 2,
   "id": "110a1af0",
   "metadata": {},
   "outputs": [],
   "source": [
    "input_dir = '../data/N2C2-Track3-May3/'\n",
    "input_dir2 = '../data/N2C2-Track3-May3_rowid/'\n",
    "output_dir = '../data/N2C2-Track3-May3_noteaug/'\n",
    "test_fpath = '../data/n2c2_test_noLabel.csv'\n",
    "mimic_note_fpath = '../data/mimic3/NOTEEVENTS.csv'\n",
    "section_titles_fpath = '../data/mimic3/section_title_cands.json'"
   ]
  },
  {
   "cell_type": "markdown",
   "id": "c2ff3f5b",
   "metadata": {},
   "source": [
    "# Load data"
   ]
  },
  {
   "cell_type": "markdown",
   "id": "34b78a31",
   "metadata": {},
   "source": [
    "### 1. Load original dataset"
   ]
  },
  {
   "cell_type": "code",
   "execution_count": 156,
   "id": "7064c5bf",
   "metadata": {},
   "outputs": [],
   "source": [
    "df_train = pd.read_csv(os.path.join(input_dir, 'train.csv'), low_memory=False)\n",
    "df_dev = pd.read_csv(os.path.join(input_dir, 'dev.csv'), low_memory=False)\n",
    "pd.concat([df_train, df_dev]).to_csv(os.path.join(input_dir, 'traindev.csv'))"
   ]
  },
  {
   "cell_type": "code",
   "execution_count": 4,
   "id": "5378080a",
   "metadata": {},
   "outputs": [],
   "source": [
    "# Fix anon fields\n",
    "# def fix_wrong_anon_field(text):\n",
    "#     if text.startswith('**') and text[2] != '*':\n",
    "#         text = '[' + text\n",
    "#     if text.endswith('**') and text[-3] != '*':\n",
    "#         text = text + ']'\n",
    "#     return text\n",
    "\n",
    "# df_train['Assessment'] = df_train['Assessment'].map(fix_wrong_anon_field)\n",
    "# df_train['Plan Subsection'] = df_train['Plan Subsection'].map(fix_wrong_anon_field)\n",
    "# df_dev['Assessment'] = df_dev['Assessment'].map(fix_wrong_anon_field)\n",
    "# df_dev['Plan Subsection'] = df_dev['Plan Subsection'].map(fix_wrong_anon_field)"
   ]
  },
  {
   "cell_type": "code",
   "execution_count": 4,
   "id": "e261e766",
   "metadata": {},
   "outputs": [
    {
     "data": {
      "text/html": [
       "<div>\n",
       "<style scoped>\n",
       "    .dataframe tbody tr th:only-of-type {\n",
       "        vertical-align: middle;\n",
       "    }\n",
       "\n",
       "    .dataframe tbody tr th {\n",
       "        vertical-align: top;\n",
       "    }\n",
       "\n",
       "    .dataframe thead th {\n",
       "        text-align: right;\n",
       "    }\n",
       "</style>\n",
       "<table border=\"1\" class=\"dataframe\">\n",
       "  <thead>\n",
       "    <tr style=\"text-align: right;\">\n",
       "      <th></th>\n",
       "      <th>ROW ID</th>\n",
       "      <th>HADM ID</th>\n",
       "      <th>Assessment</th>\n",
       "      <th>Plan Subsection</th>\n",
       "      <th>Relation</th>\n",
       "    </tr>\n",
       "  </thead>\n",
       "  <tbody>\n",
       "    <tr>\n",
       "      <th>0</th>\n",
       "      <td>701359</td>\n",
       "      <td>186454</td>\n",
       "      <td>51 yr old F with a history of 3V CAD, confirme...</td>\n",
       "      <td># CORONARIES: Patient with 3 vessel disease on...</td>\n",
       "      <td>Direct</td>\n",
       "    </tr>\n",
       "    <tr>\n",
       "      <th>1</th>\n",
       "      <td>701359</td>\n",
       "      <td>186454</td>\n",
       "      <td>51 yr old F with a history of 3V CAD, confirme...</td>\n",
       "      <td># Acute on Chronic systolic CHF: Patient with ...</td>\n",
       "      <td>Indirect</td>\n",
       "    </tr>\n",
       "    <tr>\n",
       "      <th>2</th>\n",
       "      <td>701359</td>\n",
       "      <td>186454</td>\n",
       "      <td>51 yr old F with a history of 3V CAD, confirme...</td>\n",
       "      <td># Social stressors: Recently lost mother to ca...</td>\n",
       "      <td>Neither</td>\n",
       "    </tr>\n",
       "    <tr>\n",
       "      <th>3</th>\n",
       "      <td>701359</td>\n",
       "      <td>186454</td>\n",
       "      <td>51 yr old F with a history of 3V CAD, confirme...</td>\n",
       "      <td># FEN: Replete lytes PRN, NPO for CABG today\\n...</td>\n",
       "      <td>Not Relevant</td>\n",
       "    </tr>\n",
       "    <tr>\n",
       "      <th>4</th>\n",
       "      <td>554144</td>\n",
       "      <td>196435</td>\n",
       "      <td>CHRONIC OBSTRUCTIVE PULMONARY DISEASE (COPD, B...</td>\n",
       "      <td># Dyspnea: Differential in this patient would ...</td>\n",
       "      <td>Direct</td>\n",
       "    </tr>\n",
       "  </tbody>\n",
       "</table>\n",
       "</div>"
      ],
      "text/plain": [
       "   ROW ID  HADM ID                                         Assessment  \\\n",
       "0  701359   186454  51 yr old F with a history of 3V CAD, confirme...   \n",
       "1  701359   186454  51 yr old F with a history of 3V CAD, confirme...   \n",
       "2  701359   186454  51 yr old F with a history of 3V CAD, confirme...   \n",
       "3  701359   186454  51 yr old F with a history of 3V CAD, confirme...   \n",
       "4  554144   196435  CHRONIC OBSTRUCTIVE PULMONARY DISEASE (COPD, B...   \n",
       "\n",
       "                                     Plan Subsection      Relation  \n",
       "0  # CORONARIES: Patient with 3 vessel disease on...        Direct  \n",
       "1  # Acute on Chronic systolic CHF: Patient with ...      Indirect  \n",
       "2  # Social stressors: Recently lost mother to ca...       Neither  \n",
       "3  # FEN: Replete lytes PRN, NPO for CABG today\\n...  Not Relevant  \n",
       "4  # Dyspnea: Differential in this patient would ...        Direct  "
      ]
     },
     "execution_count": 4,
     "metadata": {},
     "output_type": "execute_result"
    }
   ],
   "source": [
    "df_train.head()"
   ]
  },
  {
   "cell_type": "code",
   "execution_count": 5,
   "id": "96860a75",
   "metadata": {
    "scrolled": true
   },
   "outputs": [
    {
     "data": {
      "text/plain": [
       "ROW ID                                                        701359\n",
       "HADM ID                                                       186454\n",
       "Assessment         51 yr old F with a history of 3V CAD, confirme...\n",
       "Plan Subsection    # CORONARIES: Patient with 3 vessel disease on...\n",
       "Relation                                                      Direct\n",
       "Name: 0, dtype: object"
      ]
     },
     "execution_count": 5,
     "metadata": {},
     "output_type": "execute_result"
    }
   ],
   "source": [
    "df_train.iloc[0]"
   ]
  },
  {
   "cell_type": "markdown",
   "id": "9a5906ed",
   "metadata": {},
   "source": [
    "### 2. Update ROW_ID"
   ]
  },
  {
   "cell_type": "code",
   "execution_count": 6,
   "id": "82ebfc1e",
   "metadata": {},
   "outputs": [],
   "source": [
    "# Updated ROW_ID (Jun 26th, 2022)\n",
    "updated_rowid_dir = '../data/ROWID_Updated/'\n",
    "df_rowid_train = pd.read_csv(os.path.join(updated_rowid_dir, 'ROWID_Updated_train.csv'))\n",
    "df_rowid_dev = pd.read_csv(os.path.join(updated_rowid_dir, 'ROWID_Updated_dev.csv'))"
   ]
  },
  {
   "cell_type": "code",
   "execution_count": 7,
   "id": "cf6d26ec",
   "metadata": {},
   "outputs": [
    {
     "data": {
      "text/html": [
       "<div>\n",
       "<style scoped>\n",
       "    .dataframe tbody tr th:only-of-type {\n",
       "        vertical-align: middle;\n",
       "    }\n",
       "\n",
       "    .dataframe tbody tr th {\n",
       "        vertical-align: top;\n",
       "    }\n",
       "\n",
       "    .dataframe thead th {\n",
       "        text-align: right;\n",
       "    }\n",
       "</style>\n",
       "<table border=\"1\" class=\"dataframe\">\n",
       "  <thead>\n",
       "    <tr style=\"text-align: right;\">\n",
       "      <th></th>\n",
       "      <th>original_RowID</th>\n",
       "      <th>updated_RowID</th>\n",
       "      <th>updated_HadmID</th>\n",
       "      <th>updated_SubjID</th>\n",
       "    </tr>\n",
       "  </thead>\n",
       "  <tbody>\n",
       "    <tr>\n",
       "      <th>0</th>\n",
       "      <td>315721</td>\n",
       "      <td>315979</td>\n",
       "      <td>111458</td>\n",
       "      <td>31820</td>\n",
       "    </tr>\n",
       "    <tr>\n",
       "      <th>1</th>\n",
       "      <td>316897</td>\n",
       "      <td>316897</td>\n",
       "      <td>197423</td>\n",
       "      <td>12113</td>\n",
       "    </tr>\n",
       "    <tr>\n",
       "      <th>2</th>\n",
       "      <td>317744</td>\n",
       "      <td>317923</td>\n",
       "      <td>109679</td>\n",
       "      <td>27866</td>\n",
       "    </tr>\n",
       "    <tr>\n",
       "      <th>3</th>\n",
       "      <td>318258</td>\n",
       "      <td>318497</td>\n",
       "      <td>186721</td>\n",
       "      <td>4588</td>\n",
       "    </tr>\n",
       "    <tr>\n",
       "      <th>4</th>\n",
       "      <td>318860</td>\n",
       "      <td>318905</td>\n",
       "      <td>111039</td>\n",
       "      <td>30663</td>\n",
       "    </tr>\n",
       "  </tbody>\n",
       "</table>\n",
       "</div>"
      ],
      "text/plain": [
       "   original_RowID  updated_RowID  updated_HadmID  updated_SubjID\n",
       "0          315721         315979          111458           31820\n",
       "1          316897         316897          197423           12113\n",
       "2          317744         317923          109679           27866\n",
       "3          318258         318497          186721            4588\n",
       "4          318860         318905          111039           30663"
      ]
     },
     "execution_count": 7,
     "metadata": {},
     "output_type": "execute_result"
    }
   ],
   "source": [
    "df_rowid_train.head()"
   ]
  },
  {
   "cell_type": "code",
   "execution_count": 8,
   "id": "7a5377d7",
   "metadata": {},
   "outputs": [],
   "source": [
    "# Check whether all ROW_IDs are unique in the update files\n",
    "assert len(df_rowid_train) == len(df_rowid_train['original_RowID'].unique())\n",
    "assert len(df_rowid_train) == len(df_rowid_train['updated_RowID'].unique())\n",
    "assert len(df_rowid_dev) == len(df_rowid_dev['original_RowID'].unique())\n",
    "assert len(df_rowid_dev) == len(df_rowid_dev['updated_RowID'].unique())\n",
    "\n",
    "# Check whether the ROW_IDs match with the dataset file\n",
    "assert set(df_rowid_train['original_RowID']) == set(df_train['ROW ID'].unique())\n",
    "assert set(df_rowid_dev['original_RowID']) == set(df_dev['ROW ID'].unique())"
   ]
  },
  {
   "cell_type": "code",
   "execution_count": 9,
   "id": "7bda8c07",
   "metadata": {},
   "outputs": [],
   "source": [
    "for df_data, df_update in [(df_train, df_rowid_train), (df_dev, df_rowid_dev)]:    \n",
    "    update_map = {row.original_RowID: (row.updated_RowID, row.updated_HadmID, row.updated_SubjID)\n",
    "                  for _, row in df_update.iterrows()}\n",
    "    new_rowid = [update_map[row['ROW ID']][0] for _, row in df_data.iterrows()]\n",
    "    new_hadmid = [update_map[row['ROW ID']][1] for _, row in df_data.iterrows()]\n",
    "    new_subjid = [update_map[row['ROW ID']][2] for _, row in df_data.iterrows()]\n",
    "    \n",
    "    assert all(df_data['HADM ID'] == new_hadmid)\n",
    "    df_data['ROW ID'] = new_rowid\n",
    "    df_data.insert(2, 'SUBJECT ID', new_subjid)"
   ]
  },
  {
   "cell_type": "code",
   "execution_count": 10,
   "id": "fd5f9f90",
   "metadata": {},
   "outputs": [
    {
     "data": {
      "text/html": [
       "<div>\n",
       "<style scoped>\n",
       "    .dataframe tbody tr th:only-of-type {\n",
       "        vertical-align: middle;\n",
       "    }\n",
       "\n",
       "    .dataframe tbody tr th {\n",
       "        vertical-align: top;\n",
       "    }\n",
       "\n",
       "    .dataframe thead th {\n",
       "        text-align: right;\n",
       "    }\n",
       "</style>\n",
       "<table border=\"1\" class=\"dataframe\">\n",
       "  <thead>\n",
       "    <tr style=\"text-align: right;\">\n",
       "      <th></th>\n",
       "      <th>ROW ID</th>\n",
       "      <th>HADM ID</th>\n",
       "      <th>SUBJECT ID</th>\n",
       "      <th>Assessment</th>\n",
       "      <th>Plan Subsection</th>\n",
       "      <th>Relation</th>\n",
       "    </tr>\n",
       "  </thead>\n",
       "  <tbody>\n",
       "    <tr>\n",
       "      <th>0</th>\n",
       "      <td>701531</td>\n",
       "      <td>186454</td>\n",
       "      <td>40514</td>\n",
       "      <td>51 yr old F with a history of 3V CAD, confirme...</td>\n",
       "      <td># CORONARIES: Patient with 3 vessel disease on...</td>\n",
       "      <td>Direct</td>\n",
       "    </tr>\n",
       "    <tr>\n",
       "      <th>1</th>\n",
       "      <td>701531</td>\n",
       "      <td>186454</td>\n",
       "      <td>40514</td>\n",
       "      <td>51 yr old F with a history of 3V CAD, confirme...</td>\n",
       "      <td># Acute on Chronic systolic CHF: Patient with ...</td>\n",
       "      <td>Indirect</td>\n",
       "    </tr>\n",
       "    <tr>\n",
       "      <th>2</th>\n",
       "      <td>701531</td>\n",
       "      <td>186454</td>\n",
       "      <td>40514</td>\n",
       "      <td>51 yr old F with a history of 3V CAD, confirme...</td>\n",
       "      <td># Social stressors: Recently lost mother to ca...</td>\n",
       "      <td>Neither</td>\n",
       "    </tr>\n",
       "    <tr>\n",
       "      <th>3</th>\n",
       "      <td>701531</td>\n",
       "      <td>186454</td>\n",
       "      <td>40514</td>\n",
       "      <td>51 yr old F with a history of 3V CAD, confirme...</td>\n",
       "      <td># FEN: Replete lytes PRN, NPO for CABG today\\n...</td>\n",
       "      <td>Not Relevant</td>\n",
       "    </tr>\n",
       "    <tr>\n",
       "      <th>4</th>\n",
       "      <td>554204</td>\n",
       "      <td>196435</td>\n",
       "      <td>85490</td>\n",
       "      <td>CHRONIC OBSTRUCTIVE PULMONARY DISEASE (COPD, B...</td>\n",
       "      <td># Dyspnea: Differential in this patient would ...</td>\n",
       "      <td>Direct</td>\n",
       "    </tr>\n",
       "  </tbody>\n",
       "</table>\n",
       "</div>"
      ],
      "text/plain": [
       "   ROW ID  HADM ID  SUBJECT ID  \\\n",
       "0  701531   186454       40514   \n",
       "1  701531   186454       40514   \n",
       "2  701531   186454       40514   \n",
       "3  701531   186454       40514   \n",
       "4  554204   196435       85490   \n",
       "\n",
       "                                          Assessment  \\\n",
       "0  51 yr old F with a history of 3V CAD, confirme...   \n",
       "1  51 yr old F with a history of 3V CAD, confirme...   \n",
       "2  51 yr old F with a history of 3V CAD, confirme...   \n",
       "3  51 yr old F with a history of 3V CAD, confirme...   \n",
       "4  CHRONIC OBSTRUCTIVE PULMONARY DISEASE (COPD, B...   \n",
       "\n",
       "                                     Plan Subsection      Relation  \n",
       "0  # CORONARIES: Patient with 3 vessel disease on...        Direct  \n",
       "1  # Acute on Chronic systolic CHF: Patient with ...      Indirect  \n",
       "2  # Social stressors: Recently lost mother to ca...       Neither  \n",
       "3  # FEN: Replete lytes PRN, NPO for CABG today\\n...  Not Relevant  \n",
       "4  # Dyspnea: Differential in this patient would ...        Direct  "
      ]
     },
     "execution_count": 10,
     "metadata": {},
     "output_type": "execute_result"
    }
   ],
   "source": [
    "df_train.head()"
   ]
  },
  {
   "cell_type": "markdown",
   "id": "6d9b8a43",
   "metadata": {},
   "source": [
    "### 3. Load MIMIC-III notes"
   ]
  },
  {
   "cell_type": "code",
   "execution_count": 11,
   "id": "a2f13d72",
   "metadata": {},
   "outputs": [
    {
     "data": {
      "text/plain": [
       "2083180"
      ]
     },
     "execution_count": 11,
     "metadata": {},
     "output_type": "execute_result"
    }
   ],
   "source": [
    "df_notes = pd.read_csv(mimic_note_fpath, low_memory=False)\n",
    "assert len(df_notes) == len(df_notes.ROW_ID.unique())\n",
    "len(df_notes)"
   ]
  },
  {
   "cell_type": "markdown",
   "id": "2ec2b6e4",
   "metadata": {},
   "source": [
    "# Check the ROW ID and the source of input texts\n",
    "\n",
    "Let's see the `ROW ID` in the dataset actually refers to the note that contains \"Assessment\" and \"Plan Subsection\".  \n",
    "$\\rightarrow$ The notes where ROW ID are under `Physician` category. Sub-category (Description) differs by note, but mostly they are `Physician Resident Progress Note`."
   ]
  },
  {
   "cell_type": "code",
   "execution_count": 14,
   "id": "c2413d37",
   "metadata": {},
   "outputs": [
    {
     "data": {
      "text/plain": [
       "ROW ID                                                        701531\n",
       "HADM ID                                                       186454\n",
       "SUBJECT ID                                                     40514\n",
       "Assessment         51 yr old F with a history of 3V CAD, confirme...\n",
       "Plan Subsection    # CORONARIES: Patient with 3 vessel disease on...\n",
       "Relation                                                      Direct\n",
       "Name: 0, dtype: object"
      ]
     },
     "execution_count": 14,
     "metadata": {},
     "output_type": "execute_result"
    }
   ],
   "source": [
    "# A train example\n",
    "row_ex = df_train.iloc[0]\n",
    "row_ex"
   ]
  },
  {
   "cell_type": "code",
   "execution_count": 15,
   "id": "2c9cb5e5",
   "metadata": {},
   "outputs": [
    {
     "data": {
      "text/plain": [
       "ROW_ID                                                    701531\n",
       "SUBJECT_ID                                                 40514\n",
       "HADM_ID                                                 186454.0\n",
       "CHARTDATE                                             2181-11-05\n",
       "CHARTTIME                                    2181-11-05 06:53:00\n",
       "STORETIME                                    2181-11-05 12:15:54\n",
       "CATEGORY                                              Physician \n",
       "DESCRIPTION                     Physician Resident Progress Note\n",
       "CGID                                                     19759.0\n",
       "ISERROR                                                      NaN\n",
       "TEXT           TITLE:\\n   Chief Complaint:\\n   None.\\n   24 H...\n",
       "Name: 697123, dtype: object"
      ]
     },
     "execution_count": 15,
     "metadata": {},
     "output_type": "execute_result"
    }
   ],
   "source": [
    "# The MIMIC-III note that `ROW ID` refers to\n",
    "row_note = df_notes[df_notes.ROW_ID == 701531].iloc[0]\n",
    "row_note"
   ]
  },
  {
   "cell_type": "code",
   "execution_count": 16,
   "id": "ef4e853f",
   "metadata": {},
   "outputs": [
    {
     "data": {
      "application/vnd.jupyter.widget-view+json": {
       "model_id": "c68a5f31467042069238c5966a1aa8a4",
       "version_major": 2,
       "version_minor": 0
      },
      "text/plain": [
       "  0%|          | 0/4633 [00:00<?, ?it/s]"
      ]
     },
     "metadata": {},
     "output_type": "display_data"
    },
    {
     "name": "stdout",
     "output_type": "stream",
     "text": [
      "674484 - 185903\n"
     ]
    },
    {
     "data": {
      "application/vnd.jupyter.widget-view+json": {
       "model_id": "192bb754a58a40fa9a0cb9b7487f27c2",
       "version_major": 2,
       "version_minor": 0
      },
      "text/plain": [
       "  0%|          | 0/597 [00:00<?, ?it/s]"
      ]
     },
     "metadata": {},
     "output_type": "display_data"
    }
   ],
   "source": [
    "# Now check whether the corresponding notes contain the assessments and the plans\n",
    "for df_data in [df_train, df_dev]:\n",
    "    for _, row_ex in tqdm(df_data.iterrows(), total=len(df_data)):\n",
    "        row_note = df_notes[df_notes.ROW_ID == row_ex['ROW ID']].iloc[0]\n",
    "        assert int(row_note.SUBJECT_ID) == row_ex['SUBJECT ID'] # Additional sanity check of the SUBJECT ID\n",
    "        check = (row_ex['Assessment'] in row_note.TEXT) and (row_ex['Plan Subsection'] in row_note.TEXT)\n",
    "        if not check:\n",
    "            print(f'{row_ex[\"ROW ID\"]} - {row_ex[\"HADM ID\"]}')"
   ]
  },
  {
   "cell_type": "markdown",
   "id": "df313ce0",
   "metadata": {},
   "source": [
    "- There is one note that does not contain the assessment and the plan"
   ]
  },
  {
   "cell_type": "code",
   "execution_count": 17,
   "id": "1be56c0e",
   "metadata": {},
   "outputs": [
    {
     "data": {
      "text/html": [
       "<div>\n",
       "<style scoped>\n",
       "    .dataframe tbody tr th:only-of-type {\n",
       "        vertical-align: middle;\n",
       "    }\n",
       "\n",
       "    .dataframe tbody tr th {\n",
       "        vertical-align: top;\n",
       "    }\n",
       "\n",
       "    .dataframe thead th {\n",
       "        text-align: right;\n",
       "    }\n",
       "</style>\n",
       "<table border=\"1\" class=\"dataframe\">\n",
       "  <thead>\n",
       "    <tr style=\"text-align: right;\">\n",
       "      <th></th>\n",
       "      <th>ROW ID</th>\n",
       "      <th>HADM ID</th>\n",
       "      <th>SUBJECT ID</th>\n",
       "      <th>Assessment</th>\n",
       "      <th>Plan Subsection</th>\n",
       "      <th>Relation</th>\n",
       "    </tr>\n",
       "  </thead>\n",
       "  <tbody>\n",
       "    <tr>\n",
       "      <th>4318</th>\n",
       "      <td>674484</td>\n",
       "      <td>185903</td>\n",
       "      <td>65448</td>\n",
       "      <td>78 year old female with atrial fibrillation s/...</td>\n",
       "      <td># Acute Anemia - HCT dropped from 32 to 26 but...</td>\n",
       "      <td>Direct</td>\n",
       "    </tr>\n",
       "    <tr>\n",
       "      <th>4319</th>\n",
       "      <td>674484</td>\n",
       "      <td>185903</td>\n",
       "      <td>65448</td>\n",
       "      <td>78 year old female with atrial fibrillation s/...</td>\n",
       "      <td># Hypotension - resolved after dropping briefl...</td>\n",
       "      <td>Direct</td>\n",
       "    </tr>\n",
       "    <tr>\n",
       "      <th>4320</th>\n",
       "      <td>674484</td>\n",
       "      <td>185903</td>\n",
       "      <td>65448</td>\n",
       "      <td>78 year old female with atrial fibrillation s/...</td>\n",
       "      <td># Atrial Fibrillation - current in NSR post pr...</td>\n",
       "      <td>Indirect</td>\n",
       "    </tr>\n",
       "    <tr>\n",
       "      <th>4321</th>\n",
       "      <td>674484</td>\n",
       "      <td>185903</td>\n",
       "      <td>65448</td>\n",
       "      <td>78 year old female with atrial fibrillation s/...</td>\n",
       "      <td># Hypothyroidism\\n   -- continue levothyroxine</td>\n",
       "      <td>Neither</td>\n",
       "    </tr>\n",
       "    <tr>\n",
       "      <th>4322</th>\n",
       "      <td>674484</td>\n",
       "      <td>185903</td>\n",
       "      <td>65448</td>\n",
       "      <td>78 year old female with atrial fibrillation s/...</td>\n",
       "      <td># Osteoporosis\\n   -- continue Ca+D, bisphosph...</td>\n",
       "      <td>Neither</td>\n",
       "    </tr>\n",
       "    <tr>\n",
       "      <th>4323</th>\n",
       "      <td>674484</td>\n",
       "      <td>185903</td>\n",
       "      <td>65448</td>\n",
       "      <td>78 year old female with atrial fibrillation s/...</td>\n",
       "      <td># FEN:\\n   -- Cardiac HH diet, rplete lytes pr...</td>\n",
       "      <td>Not Relevant</td>\n",
       "    </tr>\n",
       "  </tbody>\n",
       "</table>\n",
       "</div>"
      ],
      "text/plain": [
       "      ROW ID  HADM ID  SUBJECT ID  \\\n",
       "4318  674484   185903       65448   \n",
       "4319  674484   185903       65448   \n",
       "4320  674484   185903       65448   \n",
       "4321  674484   185903       65448   \n",
       "4322  674484   185903       65448   \n",
       "4323  674484   185903       65448   \n",
       "\n",
       "                                             Assessment  \\\n",
       "4318  78 year old female with atrial fibrillation s/...   \n",
       "4319  78 year old female with atrial fibrillation s/...   \n",
       "4320  78 year old female with atrial fibrillation s/...   \n",
       "4321  78 year old female with atrial fibrillation s/...   \n",
       "4322  78 year old female with atrial fibrillation s/...   \n",
       "4323  78 year old female with atrial fibrillation s/...   \n",
       "\n",
       "                                        Plan Subsection      Relation  \n",
       "4318  # Acute Anemia - HCT dropped from 32 to 26 but...        Direct  \n",
       "4319  # Hypotension - resolved after dropping briefl...        Direct  \n",
       "4320  # Atrial Fibrillation - current in NSR post pr...      Indirect  \n",
       "4321     # Hypothyroidism\\n   -- continue levothyroxine       Neither  \n",
       "4322  # Osteoporosis\\n   -- continue Ca+D, bisphosph...       Neither  \n",
       "4323  # FEN:\\n   -- Cardiac HH diet, rplete lytes pr...  Not Relevant  "
      ]
     },
     "execution_count": 17,
     "metadata": {},
     "output_type": "execute_result"
    }
   ],
   "source": [
    "df_train_check = df_train[df_train['HADM ID'] == 185903]\n",
    "df_train_check"
   ]
  },
  {
   "cell_type": "code",
   "execution_count": 18,
   "id": "55514175",
   "metadata": {},
   "outputs": [
    {
     "data": {
      "text/html": [
       "<div>\n",
       "<style scoped>\n",
       "    .dataframe tbody tr th:only-of-type {\n",
       "        vertical-align: middle;\n",
       "    }\n",
       "\n",
       "    .dataframe tbody tr th {\n",
       "        vertical-align: top;\n",
       "    }\n",
       "\n",
       "    .dataframe thead th {\n",
       "        text-align: right;\n",
       "    }\n",
       "</style>\n",
       "<table border=\"1\" class=\"dataframe\">\n",
       "  <thead>\n",
       "    <tr style=\"text-align: right;\">\n",
       "      <th></th>\n",
       "      <th>ROW_ID</th>\n",
       "      <th>SUBJECT_ID</th>\n",
       "      <th>HADM_ID</th>\n",
       "      <th>CHARTDATE</th>\n",
       "      <th>CHARTTIME</th>\n",
       "      <th>STORETIME</th>\n",
       "      <th>CATEGORY</th>\n",
       "      <th>DESCRIPTION</th>\n",
       "      <th>CGID</th>\n",
       "      <th>ISERROR</th>\n",
       "      <th>TEXT</th>\n",
       "    </tr>\n",
       "  </thead>\n",
       "  <tbody>\n",
       "    <tr>\n",
       "      <th>40118</th>\n",
       "      <td>35558</td>\n",
       "      <td>65448</td>\n",
       "      <td>185903.0</td>\n",
       "      <td>2186-06-07</td>\n",
       "      <td>NaN</td>\n",
       "      <td>NaN</td>\n",
       "      <td>Discharge summary</td>\n",
       "      <td>Report</td>\n",
       "      <td>NaN</td>\n",
       "      <td>NaN</td>\n",
       "      <td>Admission Date:  [**2186-6-6**]              D...</td>\n",
       "    </tr>\n",
       "    <tr>\n",
       "      <th>88457</th>\n",
       "      <td>89204</td>\n",
       "      <td>65448</td>\n",
       "      <td>185903.0</td>\n",
       "      <td>2186-06-06</td>\n",
       "      <td>NaN</td>\n",
       "      <td>NaN</td>\n",
       "      <td>Echo</td>\n",
       "      <td>Report</td>\n",
       "      <td>NaN</td>\n",
       "      <td>NaN</td>\n",
       "      <td>PATIENT/TEST INFORMATION:\\nIndication: Eval. F...</td>\n",
       "    </tr>\n",
       "    <tr>\n",
       "      <th>230045</th>\n",
       "      <td>240253</td>\n",
       "      <td>65448</td>\n",
       "      <td>185903.0</td>\n",
       "      <td>2186-06-07</td>\n",
       "      <td>NaN</td>\n",
       "      <td>NaN</td>\n",
       "      <td>ECG</td>\n",
       "      <td>Report</td>\n",
       "      <td>NaN</td>\n",
       "      <td>NaN</td>\n",
       "      <td>Sinus rhythm.  Inferolateral T wave flattening...</td>\n",
       "    </tr>\n",
       "    <tr>\n",
       "      <th>230046</th>\n",
       "      <td>240254</td>\n",
       "      <td>65448</td>\n",
       "      <td>185903.0</td>\n",
       "      <td>2186-06-06</td>\n",
       "      <td>NaN</td>\n",
       "      <td>NaN</td>\n",
       "      <td>ECG</td>\n",
       "      <td>Report</td>\n",
       "      <td>NaN</td>\n",
       "      <td>NaN</td>\n",
       "      <td>Atrial flutter.  Right bundle-branch block.  M...</td>\n",
       "    </tr>\n",
       "    <tr>\n",
       "      <th>666051</th>\n",
       "      <td>674428</td>\n",
       "      <td>65448</td>\n",
       "      <td>185903.0</td>\n",
       "      <td>2186-06-07</td>\n",
       "      <td>2186-06-07 12:32:00</td>\n",
       "      <td>2186-06-07 12:33:09</td>\n",
       "      <td>Nursing</td>\n",
       "      <td>Nursing Progress Note</td>\n",
       "      <td>18424.0</td>\n",
       "      <td>NaN</td>\n",
       "      <td>Atrial fibrillation (Afib)\\n   Assessment:\\n  ...</td>\n",
       "    </tr>\n",
       "    <tr>\n",
       "      <th>666415</th>\n",
       "      <td>674389</td>\n",
       "      <td>65448</td>\n",
       "      <td>185903.0</td>\n",
       "      <td>2186-06-07</td>\n",
       "      <td>2186-06-07 07:04:00</td>\n",
       "      <td>2186-06-07 09:26:11</td>\n",
       "      <td>Physician</td>\n",
       "      <td>Physician Resident Progress Note</td>\n",
       "      <td>17550.0</td>\n",
       "      <td>NaN</td>\n",
       "      <td>Chief Complaint:\\n   24 Hour Events:\\n   Aller...</td>\n",
       "    </tr>\n",
       "    <tr>\n",
       "      <th>666418</th>\n",
       "      <td>674392</td>\n",
       "      <td>65448</td>\n",
       "      <td>185903.0</td>\n",
       "      <td>2186-06-07</td>\n",
       "      <td>2186-06-07 07:04:00</td>\n",
       "      <td>2186-06-07 10:12:02</td>\n",
       "      <td>Physician</td>\n",
       "      <td>Physician Resident Progress Note</td>\n",
       "      <td>18900.0</td>\n",
       "      <td>NaN</td>\n",
       "      <td>Chief Complaint:\\n   24 Hour Events: ADMITTED\\...</td>\n",
       "    </tr>\n",
       "    <tr>\n",
       "      <th>666464</th>\n",
       "      <td>674272</td>\n",
       "      <td>65448</td>\n",
       "      <td>185903.0</td>\n",
       "      <td>2186-06-06</td>\n",
       "      <td>2186-06-06 22:28:00</td>\n",
       "      <td>2186-06-06 22:28:12</td>\n",
       "      <td>Physician</td>\n",
       "      <td>Physician Resident Admission Note</td>\n",
       "      <td>21468.0</td>\n",
       "      <td>NaN</td>\n",
       "      <td>TITLE:\\n   Chief Complaint:  hypotension afer ...</td>\n",
       "    </tr>\n",
       "    <tr>\n",
       "      <th>666503</th>\n",
       "      <td>674383</td>\n",
       "      <td>65448</td>\n",
       "      <td>185903.0</td>\n",
       "      <td>2186-06-07</td>\n",
       "      <td>2186-06-07 08:55:00</td>\n",
       "      <td>2186-06-07 08:55:59</td>\n",
       "      <td>General</td>\n",
       "      <td>Generic Note</td>\n",
       "      <td>17923.0</td>\n",
       "      <td>NaN</td>\n",
       "      <td>TITLE:  EP note.\\n   1 day post  PVI for PAF a...</td>\n",
       "    </tr>\n",
       "    <tr>\n",
       "      <th>666551</th>\n",
       "      <td>674275</td>\n",
       "      <td>65448</td>\n",
       "      <td>185903.0</td>\n",
       "      <td>2186-06-07</td>\n",
       "      <td>2186-06-06 22:28:00</td>\n",
       "      <td>2186-06-07 00:41:57</td>\n",
       "      <td>Physician</td>\n",
       "      <td>Physician Resident Admission Note</td>\n",
       "      <td>19996.0</td>\n",
       "      <td>NaN</td>\n",
       "      <td>TITLE:\\n   Chief Complaint:  hypotension afer ...</td>\n",
       "    </tr>\n",
       "    <tr>\n",
       "      <th>666612</th>\n",
       "      <td>674484</td>\n",
       "      <td>65448</td>\n",
       "      <td>185903.0</td>\n",
       "      <td>2186-06-07</td>\n",
       "      <td>2186-06-07 07:04:00</td>\n",
       "      <td>2186-06-07 16:19:29</td>\n",
       "      <td>Physician</td>\n",
       "      <td>Physician Resident Progress Note</td>\n",
       "      <td>19759.0</td>\n",
       "      <td>NaN</td>\n",
       "      <td>Chief Complaint:\\n   24 Hour Events: ADMITTED\\...</td>\n",
       "    </tr>\n",
       "    <tr>\n",
       "      <th>666696</th>\n",
       "      <td>674339</td>\n",
       "      <td>65448</td>\n",
       "      <td>185903.0</td>\n",
       "      <td>2186-06-07</td>\n",
       "      <td>2186-06-07 07:04:00</td>\n",
       "      <td>2186-06-07 07:04:22</td>\n",
       "      <td>Physician</td>\n",
       "      <td>Physician Resident Progress Note</td>\n",
       "      <td>17550.0</td>\n",
       "      <td>NaN</td>\n",
       "      <td>Chief Complaint:\\n   24 Hour Events:\\n   Aller...</td>\n",
       "    </tr>\n",
       "    <tr>\n",
       "      <th>669949</th>\n",
       "      <td>674317</td>\n",
       "      <td>65448</td>\n",
       "      <td>185903.0</td>\n",
       "      <td>2186-06-07</td>\n",
       "      <td>2186-06-07 06:22:00</td>\n",
       "      <td>2186-06-07 06:22:39</td>\n",
       "      <td>Nursing</td>\n",
       "      <td>Nursing Progress Note</td>\n",
       "      <td>16948.0</td>\n",
       "      <td>NaN</td>\n",
       "      <td>78 y/o F w/ h/o PAFAflutter, s/p mult drug tri...</td>\n",
       "    </tr>\n",
       "    <tr>\n",
       "      <th>669950</th>\n",
       "      <td>674318</td>\n",
       "      <td>65448</td>\n",
       "      <td>185903.0</td>\n",
       "      <td>2186-06-07</td>\n",
       "      <td>2186-06-07 06:22:00</td>\n",
       "      <td>2186-06-07 06:24:21</td>\n",
       "      <td>Nursing</td>\n",
       "      <td>Nursing Progress Note</td>\n",
       "      <td>16948.0</td>\n",
       "      <td>NaN</td>\n",
       "      <td>78 y/o F w/ h/o PAFAflutter, s/p mult drug tri...</td>\n",
       "    </tr>\n",
       "    <tr>\n",
       "      <th>1053723</th>\n",
       "      <td>1078133</td>\n",
       "      <td>65448</td>\n",
       "      <td>185903.0</td>\n",
       "      <td>2186-06-06</td>\n",
       "      <td>2186-06-06 18:37:00</td>\n",
       "      <td>NaN</td>\n",
       "      <td>Radiology</td>\n",
       "      <td>CT PELVIS W/O CONTRAST</td>\n",
       "      <td>NaN</td>\n",
       "      <td>NaN</td>\n",
       "      <td>[**2186-6-6**] 6:37 PM\\n CT ABDOMEN W/O CONTRA...</td>\n",
       "    </tr>\n",
       "  </tbody>\n",
       "</table>\n",
       "</div>"
      ],
      "text/plain": [
       "          ROW_ID  SUBJECT_ID   HADM_ID   CHARTDATE            CHARTTIME  \\\n",
       "40118      35558       65448  185903.0  2186-06-07                  NaN   \n",
       "88457      89204       65448  185903.0  2186-06-06                  NaN   \n",
       "230045    240253       65448  185903.0  2186-06-07                  NaN   \n",
       "230046    240254       65448  185903.0  2186-06-06                  NaN   \n",
       "666051    674428       65448  185903.0  2186-06-07  2186-06-07 12:32:00   \n",
       "666415    674389       65448  185903.0  2186-06-07  2186-06-07 07:04:00   \n",
       "666418    674392       65448  185903.0  2186-06-07  2186-06-07 07:04:00   \n",
       "666464    674272       65448  185903.0  2186-06-06  2186-06-06 22:28:00   \n",
       "666503    674383       65448  185903.0  2186-06-07  2186-06-07 08:55:00   \n",
       "666551    674275       65448  185903.0  2186-06-07  2186-06-06 22:28:00   \n",
       "666612    674484       65448  185903.0  2186-06-07  2186-06-07 07:04:00   \n",
       "666696    674339       65448  185903.0  2186-06-07  2186-06-07 07:04:00   \n",
       "669949    674317       65448  185903.0  2186-06-07  2186-06-07 06:22:00   \n",
       "669950    674318       65448  185903.0  2186-06-07  2186-06-07 06:22:00   \n",
       "1053723  1078133       65448  185903.0  2186-06-06  2186-06-06 18:37:00   \n",
       "\n",
       "                   STORETIME           CATEGORY  \\\n",
       "40118                    NaN  Discharge summary   \n",
       "88457                    NaN               Echo   \n",
       "230045                   NaN                ECG   \n",
       "230046                   NaN                ECG   \n",
       "666051   2186-06-07 12:33:09            Nursing   \n",
       "666415   2186-06-07 09:26:11         Physician    \n",
       "666418   2186-06-07 10:12:02         Physician    \n",
       "666464   2186-06-06 22:28:12         Physician    \n",
       "666503   2186-06-07 08:55:59            General   \n",
       "666551   2186-06-07 00:41:57         Physician    \n",
       "666612   2186-06-07 16:19:29         Physician    \n",
       "666696   2186-06-07 07:04:22         Physician    \n",
       "669949   2186-06-07 06:22:39            Nursing   \n",
       "669950   2186-06-07 06:24:21            Nursing   \n",
       "1053723                  NaN          Radiology   \n",
       "\n",
       "                               DESCRIPTION     CGID  ISERROR  \\\n",
       "40118                               Report      NaN      NaN   \n",
       "88457                               Report      NaN      NaN   \n",
       "230045                              Report      NaN      NaN   \n",
       "230046                              Report      NaN      NaN   \n",
       "666051               Nursing Progress Note  18424.0      NaN   \n",
       "666415    Physician Resident Progress Note  17550.0      NaN   \n",
       "666418    Physician Resident Progress Note  18900.0      NaN   \n",
       "666464   Physician Resident Admission Note  21468.0      NaN   \n",
       "666503                        Generic Note  17923.0      NaN   \n",
       "666551   Physician Resident Admission Note  19996.0      NaN   \n",
       "666612    Physician Resident Progress Note  19759.0      NaN   \n",
       "666696    Physician Resident Progress Note  17550.0      NaN   \n",
       "669949               Nursing Progress Note  16948.0      NaN   \n",
       "669950               Nursing Progress Note  16948.0      NaN   \n",
       "1053723             CT PELVIS W/O CONTRAST      NaN      NaN   \n",
       "\n",
       "                                                      TEXT  \n",
       "40118    Admission Date:  [**2186-6-6**]              D...  \n",
       "88457    PATIENT/TEST INFORMATION:\\nIndication: Eval. F...  \n",
       "230045   Sinus rhythm.  Inferolateral T wave flattening...  \n",
       "230046   Atrial flutter.  Right bundle-branch block.  M...  \n",
       "666051   Atrial fibrillation (Afib)\\n   Assessment:\\n  ...  \n",
       "666415   Chief Complaint:\\n   24 Hour Events:\\n   Aller...  \n",
       "666418   Chief Complaint:\\n   24 Hour Events: ADMITTED\\...  \n",
       "666464   TITLE:\\n   Chief Complaint:  hypotension afer ...  \n",
       "666503   TITLE:  EP note.\\n   1 day post  PVI for PAF a...  \n",
       "666551   TITLE:\\n   Chief Complaint:  hypotension afer ...  \n",
       "666612   Chief Complaint:\\n   24 Hour Events: ADMITTED\\...  \n",
       "666696   Chief Complaint:\\n   24 Hour Events:\\n   Aller...  \n",
       "669949   78 y/o F w/ h/o PAFAflutter, s/p mult drug tri...  \n",
       "669950   78 y/o F w/ h/o PAFAflutter, s/p mult drug tri...  \n",
       "1053723  [**2186-6-6**] 6:37 PM\\n CT ABDOMEN W/O CONTRA...  "
      ]
     },
     "execution_count": 18,
     "metadata": {},
     "output_type": "execute_result"
    }
   ],
   "source": [
    "df_notes_check = df_notes[df_notes.HADM_ID == 185903]\n",
    "df_notes_check"
   ]
  },
  {
   "cell_type": "code",
   "execution_count": 20,
   "id": "ae788d05",
   "metadata": {},
   "outputs": [
    {
     "name": "stdout",
     "output_type": "stream",
     "text": [
      "35558: False\n",
      "89204: False\n",
      "240253: False\n",
      "240254: False\n",
      "674428: False\n",
      "674389: True\n",
      "674392: False\n",
      "674272: False\n",
      "674383: False\n",
      "674275: False\n",
      "674484: False\n",
      "674339: False\n",
      "674317: False\n",
      "674318: False\n",
      "1078133: False\n"
     ]
    }
   ],
   "source": [
    "for _, row_note in df_notes_check.iterrows():\n",
    "    check = True\n",
    "    for _, row_ex in df_train_check.iterrows():\n",
    "        if not (row_ex['Assessment'] in row_note.TEXT) or not (row_ex['Plan Subsection'] in row_note.TEXT):\n",
    "            check = False\n",
    "            break\n",
    "    print(f'{row_note.ROW_ID}: {check}')"
   ]
  },
  {
   "cell_type": "markdown",
   "id": "07202be1",
   "metadata": {},
   "source": [
    "- Okay we found the correct note, just update this. (`674484` $\\rightarrow$ `674389`)"
   ]
  },
  {
   "cell_type": "code",
   "execution_count": 21,
   "id": "1a19145a",
   "metadata": {},
   "outputs": [
    {
     "data": {
      "text/plain": [
       "6"
      ]
     },
     "execution_count": 21,
     "metadata": {},
     "output_type": "execute_result"
    }
   ],
   "source": [
    "sum(df_train['ROW ID'] == 674484)"
   ]
  },
  {
   "cell_type": "code",
   "execution_count": 22,
   "id": "07dd4774",
   "metadata": {},
   "outputs": [
    {
     "data": {
      "text/plain": [
       "0"
      ]
     },
     "execution_count": 22,
     "metadata": {},
     "output_type": "execute_result"
    }
   ],
   "source": [
    "sum(df_train['ROW ID'] == 674389)"
   ]
  },
  {
   "cell_type": "code",
   "execution_count": 23,
   "id": "d51a3f6a",
   "metadata": {},
   "outputs": [],
   "source": [
    "temp = df_train['ROW ID'].tolist()\n",
    "temp = [row_id if (row_id != 674484) else 674389 for row_id in temp]\n",
    "df_train['ROW ID'] = temp"
   ]
  },
  {
   "cell_type": "code",
   "execution_count": 24,
   "id": "0c430527",
   "metadata": {},
   "outputs": [
    {
     "data": {
      "text/plain": [
       "0"
      ]
     },
     "execution_count": 24,
     "metadata": {},
     "output_type": "execute_result"
    }
   ],
   "source": [
    "sum(df_train['ROW ID'] == 674484)"
   ]
  },
  {
   "cell_type": "code",
   "execution_count": 25,
   "id": "1cf0630f",
   "metadata": {},
   "outputs": [
    {
     "data": {
      "text/plain": [
       "6"
      ]
     },
     "execution_count": 25,
     "metadata": {},
     "output_type": "execute_result"
    }
   ],
   "source": [
    "sum(df_train['ROW ID'] == 674389)"
   ]
  },
  {
   "cell_type": "markdown",
   "id": "66dc79d6",
   "metadata": {},
   "source": [
    "- Okay now we can save the dataset with the row_ids updated"
   ]
  },
  {
   "cell_type": "markdown",
   "id": "db923c36",
   "metadata": {},
   "source": [
    "### Save the rowid-updated dataset"
   ]
  },
  {
   "cell_type": "code",
   "execution_count": 26,
   "id": "fa3bd8e1",
   "metadata": {},
   "outputs": [],
   "source": [
    "if not os.path.exists(input_dir2):\n",
    "    os.makedirs(input_dir2)\n",
    "    \n",
    "df_train.to_csv(os.path.join(input_dir2, 'train.csv'), index=False)\n",
    "df_dev.to_csv(os.path.join(input_dir2, 'dev.csv'), index=False)"
   ]
  },
  {
   "cell_type": "code",
   "execution_count": 155,
   "id": "944d27b9",
   "metadata": {},
   "outputs": [],
   "source": [
    "df_traindev = pd.concat([df_train, df_dev])\n",
    "df_traindev.to_csv(os.path.join(input_dir2, 'traindev.csv'), index=False)"
   ]
  },
  {
   "cell_type": "markdown",
   "id": "4387b259",
   "metadata": {},
   "source": [
    "### Note category statistics"
   ]
  },
  {
   "cell_type": "markdown",
   "id": "5f0260ca",
   "metadata": {},
   "source": [
    "- What are the categories/sub-categories of the notes referring assessments/plans"
   ]
  },
  {
   "cell_type": "code",
   "execution_count": 27,
   "id": "7c522ca0",
   "metadata": {},
   "outputs": [
    {
     "data": {
      "application/vnd.jupyter.widget-view+json": {
       "model_id": "2c9b5ba53f794d279560b40502b0b371",
       "version_major": 2,
       "version_minor": 0
      },
      "text/plain": [
       "  0%|          | 0/4633 [00:00<?, ?it/s]"
      ]
     },
     "metadata": {},
     "output_type": "display_data"
    },
    {
     "data": {
      "application/vnd.jupyter.widget-view+json": {
       "model_id": "4d022cae57864cfe984b1b1dd31211b2",
       "version_major": 2,
       "version_minor": 0
      },
      "text/plain": [
       "  0%|          | 0/597 [00:00<?, ?it/s]"
      ]
     },
     "metadata": {},
     "output_type": "display_data"
    }
   ],
   "source": [
    "note_cat_counter = collections.Counter()\n",
    "note_desc_counter = collections.Counter()\n",
    "for df_data in [df_train, df_dev]:\n",
    "    for _, row_ex in tqdm(df_data.iterrows(), total=len(df_data)):\n",
    "        row_note = df_notes[df_notes.ROW_ID == row_ex['ROW ID']].iloc[0]\n",
    "        note_cat_counter[row_note['CATEGORY']] += 1\n",
    "        note_desc_counter[row_note['DESCRIPTION']] += 1"
   ]
  },
  {
   "cell_type": "code",
   "execution_count": 28,
   "id": "1a994d82",
   "metadata": {},
   "outputs": [
    {
     "data": {
      "text/plain": [
       "[('Physician ', 5230)]"
      ]
     },
     "execution_count": 28,
     "metadata": {},
     "output_type": "execute_result"
    }
   ],
   "source": [
    "note_cat_counter.most_common()"
   ]
  },
  {
   "cell_type": "code",
   "execution_count": 29,
   "id": "bc5cf47b",
   "metadata": {},
   "outputs": [
    {
     "data": {
      "text/plain": [
       "[('Physician Resident Progress Note', 4846),\n",
       " ('Intensivist Note', 197),\n",
       " ('Physician Resident/Attending Progress Note - MICU', 123),\n",
       " ('Physician Attending Progress Note', 44),\n",
       " ('Physician Resident Admission Note', 11),\n",
       " ('Resident / Attending Notes', 9)]"
      ]
     },
     "execution_count": 29,
     "metadata": {},
     "output_type": "execute_result"
    }
   ],
   "source": [
    "note_desc_counter.most_common()"
   ]
  },
  {
   "cell_type": "code",
   "execution_count": null,
   "id": "f4827818",
   "metadata": {},
   "outputs": [],
   "source": []
  },
  {
   "cell_type": "markdown",
   "id": "ba29755e",
   "metadata": {},
   "source": [
    "# Assessment and Plan Subsection text analysis\n",
    "\n",
    "Can we specify the name of the problem/disease at the beginning of Plan text?  \n",
    "$\\rightarrow$ Not clear"
   ]
  },
  {
   "cell_type": "code",
   "execution_count": 30,
   "id": "18337beb",
   "metadata": {},
   "outputs": [
    {
     "data": {
      "text/plain": [
       "ROW ID                                                        701531\n",
       "HADM ID                                                       186454\n",
       "SUBJECT ID                                                     40514\n",
       "Assessment         51 yr old F with a history of 3V CAD, confirme...\n",
       "Plan Subsection    # CORONARIES: Patient with 3 vessel disease on...\n",
       "Relation                                                      Direct\n",
       "Name: 0, dtype: object"
      ]
     },
     "execution_count": 30,
     "metadata": {},
     "output_type": "execute_result"
    }
   ],
   "source": [
    "df_train.iloc[0]"
   ]
  },
  {
   "cell_type": "code",
   "execution_count": 31,
   "id": "5ce2092e",
   "metadata": {},
   "outputs": [
    {
     "name": "stdout",
     "output_type": "stream",
     "text": [
      "51 yr old F with a history of 3V CAD, confirmed on C. cath during this\n",
      "   admission, EF of 40%, who is transferred to CCU for monitoring of\n",
      "   recurrent chest pain. Plan for CABG today to revascularize due to\n",
      "   3-vessel disease.\n"
     ]
    }
   ],
   "source": [
    "print(df_train.iloc[0]['Assessment'])"
   ]
  },
  {
   "cell_type": "code",
   "execution_count": 32,
   "id": "41bacf85",
   "metadata": {
    "scrolled": true
   },
   "outputs": [
    {
     "name": "stdout",
     "output_type": "stream",
     "text": [
      "# CORONARIES: Patient with 3 vessel disease on cath. Previously found\n",
      "   to be the case in [**2174**], but had been treated medically. On the floor,\n",
      "   patient with recurrent chest pain and EKG changes, concerning for\n",
      "   further ischemia. Chest pain has been controlled on nitro gtt. Patient\n",
      "   in CCU for monitoring; plan for CABG today.\n",
      "   - continue nitro gtt\n",
      "   - if has further CP, would uptitrate nitro, and contact [**Name2 (NI) 9339**] and\n",
      "   attending for potential balloon pump vs. urgent CABG\n",
      "   - appreciate CT [**Doctor First Name 91**] recs\n",
      "   - continue [**Last Name (LF) **], [**First Name3 (LF) 119**], ACE-i, simvastatin\n"
     ]
    }
   ],
   "source": [
    "print(df_train.iloc[0]['Plan Subsection'])"
   ]
  },
  {
   "cell_type": "code",
   "execution_count": 33,
   "id": "16a89aaf",
   "metadata": {
    "scrolled": true
   },
   "outputs": [
    {
     "name": "stdout",
     "output_type": "stream",
     "text": [
      "# Acute on Chronic systolic CHF: Patient with EF of 25% at OSH, but\n",
      "   repeat echo at [**Hospital1 5**] showed EF of 40%, consistent with prior echo. SOB\n",
      "   resolved, but still with elevated JVP (no crackles on my exam this\n",
      "   morning).\n",
      "   -Goal even I\n",
      "s & O\n",
      "s as preparation for CABG today\n",
      "   -Continue BB, ACEi, [**Hospital1 119**], statin\n"
     ]
    }
   ],
   "source": [
    "print(df_train.iloc[1]['Plan Subsection'])"
   ]
  },
  {
   "cell_type": "code",
   "execution_count": 34,
   "id": "7cb6922f",
   "metadata": {
    "scrolled": true
   },
   "outputs": [
    {
     "name": "stdout",
     "output_type": "stream",
     "text": [
      "Train colon: 3527/4633 (first line 3237/4633)\n",
      "Dev colon: 451/597 (first line 410/597)\n"
     ]
    }
   ],
   "source": [
    "def check_plan_colon(text):\n",
    "    return text.find(':') != -1\n",
    "\n",
    "def check_plan_colon_firstline(text):\n",
    "    return text.split('\\n')[0].find(':') != -1\n",
    "\n",
    "train_colon = df_train['Plan Subsection'].map(check_plan_colon)\n",
    "train_colon_firstline = df_train['Plan Subsection'].map(check_plan_colon_firstline)\n",
    "dev_colon = df_dev['Plan Subsection'].map(check_plan_colon)\n",
    "dev_colon_firstline = df_dev['Plan Subsection'].map(check_plan_colon_firstline)\n",
    "print(f'Train colon: {sum(train_colon)}/{len(train_colon)} '\n",
    "      f'(first line {sum(train_colon_firstline)}/{len(train_colon_firstline)})')\n",
    "print(f'Dev colon: {sum(dev_colon)}/{len(dev_colon)} '\n",
    "      f'(first line {sum(dev_colon_firstline)}/{len(dev_colon_firstline)})')"
   ]
  },
  {
   "cell_type": "code",
   "execution_count": 35,
   "id": "62a2aac5",
   "metadata": {},
   "outputs": [],
   "source": [
    "df_train_colon = df_train[train_colon_firstline]\n",
    "df_train_nocolon = df_train[train_colon_firstline.map(lambda x: not x)]"
   ]
  },
  {
   "cell_type": "markdown",
   "id": "9e84cc8d",
   "metadata": {},
   "source": [
    "Colon is not the unique delimiter of the problem... Let's see some more examples!"
   ]
  },
  {
   "cell_type": "code",
   "execution_count": 36,
   "id": "4a452443",
   "metadata": {},
   "outputs": [
    {
     "data": {
      "text/plain": [
       "ROW ID                                                        679140\n",
       "HADM ID                                                       187377\n",
       "SUBJECT ID                                                     98413\n",
       "Assessment         This is a 67 year old male h/o HTN, systolic H...\n",
       "Plan Subsection    ICU Care\\n   Nutrition:\\n   Glycemic Control:\\...\n",
       "Relation                                                Not Relevant\n",
       "Name: 596, dtype: object"
      ]
     },
     "execution_count": 36,
     "metadata": {},
     "output_type": "execute_result"
    }
   ],
   "source": [
    "row_ex"
   ]
  },
  {
   "cell_type": "code",
   "execution_count": 37,
   "id": "868bb58f",
   "metadata": {},
   "outputs": [
    {
     "name": "stdout",
     "output_type": "stream",
     "text": [
      "========================================\n",
      "(ROW ID: 334065 / Direct)\n",
      "# Pneumoperitoneum - Exam reassuring.  No leukoctyosis or fevers. CT\n",
      "   confirms pneumoperitoneum without free fluid, fat stranding or contrast\n",
      "   leakage.\n",
      "   - Continue empiric Zosyn (day 2) and metronidazole (day 2)\n",
      "   - IV fluids\n",
      "   - Appreciate surgery recommendations. No plan for OR currently.\n",
      "   - Serial abdominal exams\n",
      "   - Holding PO anti-hypertensives, substitute with IV metoprolol q6H\n",
      "========================================\n",
      "(ROW ID: 329070 / Neither)\n",
      "Depression. Appropriate mood and affect.\n",
      "   - Continue home citalopram.\n",
      "   .\n",
      "========================================\n",
      "(ROW ID: 705751 / Indirect)\n",
      "Asthma-\n",
      "   - Continue with atrovent nebs\n",
      "========================================\n",
      "(ROW ID: 501377 / Neither)\n",
      "# Hypothyroidism.\n",
      "   - continue levothyroxine IV for now..\n",
      "========================================\n",
      "(ROW ID: 379349 / Not Relevant)\n",
      "ICU Care\n",
      "   Nutrition: Restart diabetic diet this am\n",
      "   Glycemic Control:\n",
      "   Lines:\n",
      "   20 Gauge - [**2181-5-22**] 03:30 PM\n",
      "   18 Gauge - [**2181-5-22**] 03:42 PM\n",
      "   Prophylaxis:\n",
      "   DVT: heparin SC\n",
      "   Stress ulcer: not indicated\n",
      "   VAP:\n",
      "========================================\n",
      "(ROW ID: 430048 / Direct)\n",
      "# Fever/chills/malaise/CP.  These are consistent w/ PNA, especially\n",
      "   given pleuritic CP and rub on exam heard on transfer.  Unlikely that\n",
      "   this is due purely due to vascular congestion w/ MR given such local\n",
      "   distribution.  No other sources of infection evident.  Pt. has hx of\n",
      "   STDs including Syphillis, GC/Ch previously treated.  He is not\n",
      "   currently sexually active, but has had intercourse in the past year.\n",
      "   HIV tested in 89, reportedly negative.  No urinary sx, but will obtain\n",
      "   UA and Cx if UA positive.   Continues to have O2 requirement, w/ repeat\n",
      "   CXR now w/ effusion and continued infiltrate.\n",
      "   - Recheck CXR in AM tomorrow\n",
      "   - Sputum smear/Cx\n",
      "   - Given that this is likely [**Last Name (LF) **], [**First Name3 (LF) **] d/c vanc/gent and start\n",
      "   Levofloxacin for total of 5d.\n",
      "========================================\n",
      "(ROW ID: 675009 / Direct)\n",
      "Coffee grounds per NG tube. In setting of epistaxis. Patient with\n",
      "   h/o grade one varices. Crit 32-> 28.\n",
      "   - gastrocult NG aspirate\n",
      "   - will d/w liver\n",
      "   - [**Hospital1 **] PPI\n",
      "========================================\n",
      "(ROW ID: 355371 / Neither)\n",
      "INEFFECTIVE COPING\n",
      " ALTERATION IN NUTRITION\n",
      " EDEMA, PERIPHERAL\n",
      " IMPAIRED SKIN INTEGRITY\n",
      " AEROBIC CAPACITY / ENDURANCE, IMPAIRED\n",
      " AIRWAY CLEARANCE, IMPAIRED\n",
      " COMMUNICATE, INABILITY TO\n",
      " KNOWLEDGE, IMPAIRED\n",
      " POSTURE, IMPAIRED\n",
      " BALANCE, IMPAIRED\n",
      " AROUSAL, ATTENTION, AND COGNITION, IMPAIRED\n",
      "========================================\n",
      "(ROW ID: 651676 / Indirect)\n",
      "# BMD\n",
      "   - Continue Baclofen 10 tid\n",
      "========================================\n",
      "(ROW ID: 716755 / Direct)\n",
      "Seizure likely due to underlying seizure disorder combined\n",
      "   with SDH. Seen by neurology Bedside EEG x 24h to rule out status\n",
      "   epilepticus folow up final read\n",
      "   -Repeat CT scan head Stable appearance of left sided acute on chronic\n",
      "   subdural hemorrhage\n",
      "   --Neuro checks Q4\n",
      "   --Continue Lamictal, Keppra; c-spine cleared\n",
      "   --Minimize narcotics\n",
      "   --No further seizure activity noted\n",
      " EEG preliminary read\n"
     ]
    }
   ],
   "source": [
    "for i in range(10):\n",
    "    print('='*40)\n",
    "    row_ex = df_train_nocolon.iloc[(i * 101) % len(df_train_nocolon)]\n",
    "    print(f\"(ROW ID: {row_ex['ROW ID']} / {row_ex['Relation']})\")\n",
    "    print(row_ex['Plan Subsection'])"
   ]
  },
  {
   "cell_type": "markdown",
   "id": "9ad7d413",
   "metadata": {},
   "source": [
    "$\\rightarrow$ Still not sure what is the best way to split sections in those notes.\n",
    "\n"
   ]
  },
  {
   "cell_type": "code",
   "execution_count": null,
   "id": "94ad9a67",
   "metadata": {},
   "outputs": [],
   "source": []
  },
  {
   "cell_type": "markdown",
   "id": "e890581a",
   "metadata": {},
   "source": [
    "# MIMIC-III section augmentation"
   ]
  },
  {
   "cell_type": "markdown",
   "id": "53e8b427",
   "metadata": {},
   "source": [
    "### Load discharge summary"
   ]
  },
  {
   "cell_type": "code",
   "execution_count": 38,
   "id": "8dc522c1",
   "metadata": {},
   "outputs": [
    {
     "data": {
      "text/plain": [
       "59652"
      ]
     },
     "execution_count": 38,
     "metadata": {},
     "output_type": "execute_result"
    }
   ],
   "source": [
    "# Discharge summaries\n",
    "df_ds = df_notes[df_notes.CATEGORY == 'Discharge summary']\n",
    "len(df_ds)"
   ]
  },
  {
   "cell_type": "code",
   "execution_count": 39,
   "id": "4bbabef5",
   "metadata": {
    "scrolled": true
   },
   "outputs": [
    {
     "data": {
      "application/vnd.jupyter.widget-view+json": {
       "model_id": "d2695c3f14194157969cb68c7312a7b3",
       "version_major": 2,
       "version_minor": 0
      },
      "text/plain": [
       "  0%|          | 0/598 [00:00<?, ?it/s]"
      ]
     },
     "metadata": {},
     "output_type": "display_data"
    },
    {
     "name": "stdout",
     "output_type": "stream",
     "text": [
      "Train: 7 ([193540, 106860, 111857, 101199, 186902, 193824, 195120])\n"
     ]
    },
    {
     "data": {
      "application/vnd.jupyter.widget-view+json": {
       "model_id": "2fa4fe0867e04213a55eed1629538d31",
       "version_major": 2,
       "version_minor": 0
      },
      "text/plain": [
       "  0%|          | 0/75 [00:00<?, ?it/s]"
      ]
     },
     "metadata": {},
     "output_type": "display_data"
    },
    {
     "name": "stdout",
     "output_type": "stream",
     "text": [
      "Dev: 4 ([197436, 197560, 107025, 187208])\n"
     ]
    }
   ],
   "source": [
    "# Find HADM IDs of the dataset without discharge summary\n",
    "for data_name, df_data in [('Train', df_train), ('Dev', df_dev)]:\n",
    "    hadm_ids_no_ds = []\n",
    "    for hadm_id in tqdm(df_data['HADM ID'].unique()):\n",
    "        if sum(df_ds.HADM_ID == float(hadm_id)) == 0:\n",
    "            hadm_ids_no_ds.append(hadm_id)\n",
    "    print(f'{data_name}: {len(hadm_ids_no_ds)} ({hadm_ids_no_ds})')"
   ]
  },
  {
   "cell_type": "code",
   "execution_count": 40,
   "id": "731c8524",
   "metadata": {},
   "outputs": [],
   "source": [
    "# Get the longest discharge summary\n",
    "def get_discharge_summary(hadm_id):\n",
    "    rows = df_ds[df_ds.HADM_ID == float(hadm_id)]\n",
    "    notes = [row.TEXT for _, row in rows.iterrows()]\n",
    "    if notes:\n",
    "        return notes[np.argmax(list(map(len, notes)))]\n",
    "    else:\n",
    "        return \"\""
   ]
  },
  {
   "cell_type": "markdown",
   "id": "993e2fda",
   "metadata": {},
   "source": [
    "### Extract specific types of section"
   ]
  },
  {
   "cell_type": "code",
   "execution_count": 41,
   "id": "2a7ea68e",
   "metadata": {},
   "outputs": [
    {
     "name": "stdout",
     "output_type": "stream",
     "text": [
      "106 title lines\n"
     ]
    }
   ],
   "source": [
    "# Predefined section titles\n",
    "with open(section_titles_fpath, 'r') as fd:\n",
    "    section_titles = json.load(fd)\n",
    "\n",
    "print(f'{len(section_titles)} title lines')\n",
    "section_titles_set = set(section_titles)\n",
    "\n",
    "def split_ds_sections(note, verbose=False):\n",
    "    # Split into lines\n",
    "    lines = note.splitlines()\n",
    "    \n",
    "    # Detect section title lines\n",
    "    title_idxs = []\n",
    "    for i, line in enumerate(lines):\n",
    "#         line = line.lstrip()\n",
    "        if ':' in line:\n",
    "            title_cand = line.lower()[:line.index(':')]\n",
    "            if title_cand in section_titles_set:\n",
    "                title_idxs.append(i)\n",
    "                if verbose:\n",
    "                    print(f'Found ({line[:line.index(\":\")]})')\n",
    "    \n",
    "    # Output sections\n",
    "    sections = []\n",
    "    last_idx = 0\n",
    "    for idx in title_idxs:\n",
    "        if last_idx == idx:\n",
    "            continue\n",
    "        sections.append('\\n'.join(lines[last_idx:idx]))\n",
    "        last_idx = idx\n",
    "    sections.append('\\n'.join(lines[last_idx:]))\n",
    "            \n",
    "    return sections\n",
    "\n",
    "def get_section_title(section):\n",
    "    if '\\n' in section:\n",
    "        first_line = section[:section.index('\\n')]\n",
    "    else:\n",
    "        first_line = section\n",
    "    assert ':' in first_line\n",
    "    return first_line[:first_line.index(':')]"
   ]
  },
  {
   "cell_type": "markdown",
   "id": "ead1711d",
   "metadata": {},
   "source": [
    "- Example discharge summary sections"
   ]
  },
  {
   "cell_type": "code",
   "execution_count": 42,
   "id": "5223f6eb",
   "metadata": {
    "scrolled": true
   },
   "outputs": [
    {
     "name": "stdout",
     "output_type": "stream",
     "text": [
      "Found (Admission Date)\n",
      "Found (Date of Birth)\n",
      "Found (Service)\n",
      "Found (Allergies)\n",
      "Found (Attending)\n",
      "Found (Chief Complaint)\n",
      "Found (Major Surgical or Invasive Procedure)\n",
      "Found (History of Present Illness)\n",
      "Found (Past Medical History)\n",
      "Found (Social History)\n",
      "Found (Family History)\n",
      "Found (Physical Exam)\n",
      "Found (Pertinent Results)\n",
      "Found (HISTORY)\n",
      "Found (Brief Hospital Course)\n",
      "Found (Medications on Admission)\n",
      "Found (Discharge Medications)\n",
      "Found (Discharge Disposition)\n",
      "Found (Facility)\n",
      "Found (Discharge Diagnosis)\n",
      "Found (Discharge Condition)\n",
      "Found (Discharge Instructions)\n",
      "Found (Followup Instructions)\n",
      "Found (Completed by)\n",
      "====================[Admission Date]====================\n",
      "Admission Date:  [**2181-10-30**]              Discharge Date:   [**2181-11-9**]\n",
      "\n",
      "====================[Date of Birth]====================\n",
      "Date of Birth:  [**2129-12-24**]             Sex:   M\n",
      "\n",
      "====================[Service]====================\n",
      "Service: CARDIOTHORACIC\n",
      "\n",
      "====================[Allergies]====================\n",
      "Allergies:\n",
      "Vancomycin\n",
      "\n",
      "====================[Attending]====================\n",
      "Attending:[**First Name3 (LF) 1406**]\n",
      "====================[Chief Complaint]====================\n",
      "Chief Complaint:\n",
      "Chest pain\n",
      "\n",
      "====================[Major Surgical or Invasive Procedure]====================\n",
      "Major Surgical or Invasive Procedure:\n",
      "Cardiac Catherization\n",
      "s/p CABGx5(LIMA->LAD, SVG->Diag1, Diag2, OM, PDA) [**2181-11-5**]\n",
      "\n",
      "\n",
      "====================[History of Present Illness]====================\n",
      "History of Present Illness:\n",
      "51 year male that presented on [**10-30**] with chest pain, SOB that\n",
      "had been occuring for over a month. Of note, the patient has\n",
      "been non-compliant with medications because of lack of insurance\n",
      "because he lost his job. The patient woke up at 3am on [**10-29**]\n",
      "with acute SOB. His father drove him to emergency department.\n",
      "He was gasping, saturating 78% on RA, [**Doctor Last Name 352**] in color with a\n",
      "respiratory rate in the 40s.\n",
      "In OSH ED, he was thought to be in pulmonary edema. He was given\n",
      "Lasix 240 total, morphine, placed on a non-rebreather and then\n",
      "eventually bipap briefly. Then weaned to non-rebreather and then\n",
      "back to 6L NC, with sats 93-95%. A foley was placed- has since\n",
      "diuresed 1920cc since admission. EKG showed new left bundle on\n",
      "admission, with trop of 0.15. An echo was done on [**2181-10-29**]\n",
      "showing new low EF of 25% with akinesis of apex, posterior and\n",
      "inferior walls, severe hypokinesis of septum and anterior walls.\n",
      "Given CP, elevated trop, he was put on a heparin gtt and was\n",
      "referred to [**Hospital1 18**] for cardiac evaluation.\n",
      "\n",
      "\n",
      "====================[Past Medical History]====================\n",
      "Past Medical History:\n",
      "Coronary artery disease\n",
      "hypertension\n",
      "hyperlipidemia\n",
      "\n",
      "\n",
      "====================[Social History]====================\n",
      "Social History:\n",
      "-Tobacco history: 30 pack year history, current smoker though\n",
      "able to quit intermittently\n",
      "-ETOH: occasional\n",
      "-Recently lost his job\n",
      "-Recently lost his mother to cancer last week\n",
      "\n",
      "\n",
      "====================[Family History]====================\n",
      "Family History:\n",
      "Strong family history of MI (men in his family with MI's in\n",
      "their 40's). Mother passed away from cancer last week.\n",
      "\n",
      "====================[Physical Exam]====================\n",
      "Physical Exam:\n",
      "VS: AF 110/63, 68, 20, 98% on 2L NC (for comfort only)\n",
      "GENERAL: WDWN Caucasian male in NAD. Oriented x3. Mood, affect\n",
      "appropriate.\n",
      "HEENT: NCAT. Sclera anicteric. PERRL, EOMI. Conjunctiva were\n",
      "pink, no pallor or cyanosis of the oral mucosa. No xanthalesma.\n",
      "\n",
      "NECK: Supple with JVP to mid SCM.\n",
      "CARDIAC: PMI located in 5th intercostal space, midclavicular\n",
      "line. RR, normal S1, S2. No m/r/g. No thrills, lifts. No S3 or\n",
      "S4.\n",
      "LUNGS: No chest wall deformities, scoliosis or kyphosis.\n",
      "Occasional crackles in anterior and lateral fields at lower lung\n",
      "bases\n",
      "ABDOMEN: Soft, NTND. No HSM or tenderness.\n",
      "EXTREMITIES: No c/c/e.\n",
      "SKIN: No stasis dermatitis, ulcers, scars, or xanthomas.\n",
      "PULSES:\n",
      "Right: Carotid 2+ Femoral 2+ Popliteal 2+ DP 2+ PT 2+; cath site\n",
      "with no hematoma, mild tenderness.\n",
      "Left: Carotid 2+ Femoral 2+ Popliteal 2+ DP 2+ PT 2+\n",
      "\n",
      "\n",
      "====================[Pertinent Results]====================\n",
      "Pertinent Results:\n",
      "[**2181-11-9**] 05:45AM BLOOD WBC-7.4 RBC-2.32* Hgb-7.4* Hct-22.0*\n",
      "MCV-95 MCH-32.0 MCHC-33.8 RDW-13.7 Plt Ct-310\n",
      "[**2181-11-7**] 02:29AM BLOOD PT-12.9 PTT-35.8* INR(PT)-1.1\n",
      "[**2181-11-8**] 06:30AM BLOOD Glucose-98 UreaN-12 Creat-0.8 Na-142\n",
      "K-4.4 Cl-107 HCO3-28 AnGap-11\n",
      "\n",
      "Final Report\n",
      "AP CHEST 10:23 A.M. [**11-7**]:\n",
      "\n",
      "====================[HISTORY]====================\n",
      "HISTORY: CABG. Chest tube removed.\n",
      "\n",
      "IMPRESSION: AP chest compared to [**11-5**]:\n",
      "\n",
      "Moderate right pleural effusion is larger. Moderately severe\n",
      "bibasilar\n",
      "atelectasis, stable on the left, increased on the right. No\n",
      "definite\n",
      "pneumothorax. Stable normal appearance to the postoperative\n",
      "cardiomediastinal\n",
      "silhouette. Upper lungs clear.\n",
      "\n",
      "DR. [**First Name11 (Name Pattern1) **] [**Initial (NamePattern1) **] [**Last Name (NamePattern4) 3891**]\n",
      "Approved: WED [**2181-11-7**] 12:34 PM\n",
      "\n",
      "[**Hospital1 18**] ECHOCARDIOGRAPHY REPORT\n",
      "\n",
      "[**Known lastname 84520**], [**Known firstname 198**]       [**Hospital1 18**] [**Numeric Identifier 84521**]\n",
      "(Complete) Done [**2181-11-5**] at 1:31:53 PM      FINAL\n",
      "Referring Physician     [**Name9 (PRE) **] Information\n",
      "[**Name9 (PRE) **], [**First Name3 (LF) 177**] C.\n",
      "[**Hospital Unit Name 927**]\n",
      "[**Location (un) 86**], [**Numeric Identifier 718**]  Status: Inpatient DOB: [**2129-12-24**]\n",
      "Age (years): 51 M  Hgt (in):\n",
      "BP (mm Hg): /  Wgt (lb):\n",
      "HR (bpm):  BSA (m2):\n",
      "Indication: Abnormal ECG. Chest pain. Coronary artery disease.\n",
      "Dilated cardiomyopathy. Hypertension. Myocardial infarction.\n",
      "ICD-9 Codes: 402.90, 786.51, 440.0\n",
      "Test Information\n",
      "Date/Time: [**2181-11-5**] at 13:31    Interpret MD: [**First Name8 (NamePattern2) **] [**Last Name (NamePattern1) 5209**],\n",
      "MD\n",
      "Test Type: TEE (Complete) Son[**Name (NI) 930**]: [**Initials (NamePattern4) **] [**Last Name (NamePattern4) 5209**], MD\n",
      "Doppler: Full Doppler and color Doppler Test Location:\n",
      "Anesthesia West OR cardiac\n",
      "Contrast: None Tech Quality: Adequate\n",
      "Tape #: 2009AW33-: Machine:\n",
      "Echocardiographic Measurements\n",
      "Results  Measurements  Normal Range\n",
      "Left Ventricle - Ejection Fraction:  30% to 35%  >= 55%\n",
      "\n",
      "Findings\n",
      "LEFT ATRIUM: Marked LA enlargement. Good (>20 cm/s) LAA ejection\n",
      "velocity. No thrombus in the LAA.\n",
      "\n",
      "RIGHT ATRIUM/INTERATRIAL SEPTUM: Mildly dilated RA. A catheter\n",
      "or pacing wire is seen in the RA and extending into the RV. No\n",
      "ASD by 2D or color Doppler.\n",
      "\n",
      "LEFT VENTRICLE: Normal LV wall thickness. Moderately dilated LV\n",
      "cavity. Moderately depressed LVEF. Doppler parameters are most\n",
      "consistent with Grade I (mild) LV diastolic dysfunction.\n",
      "\n",
      "RIGHT VENTRICLE: Normal RV chamber size and free wall motion.\n",
      "\n",
      "AORTA: Normal aortic diameter at the sinus level. Simple\n",
      "atheroma in aortic root. Normal ascending aorta diameter. Simple\n",
      "atheroma in ascending aorta. Normal descending aorta diameter.\n",
      "Simple atheroma in descending aorta. Focal calcifications in\n",
      "descending aorta.\n",
      "\n",
      "AORTIC VALVE: Three aortic valve leaflets. Trace AR.\n",
      "\n",
      "MITRAL VALVE: Mild (1+) MR.\n",
      "\n",
      "TRICUSPID VALVE: No TR.\n",
      "\n",
      "PULMONIC VALVE/PULMONARY ARTERY: Normal pulmonic valve leaflet.\n",
      "No PS. Physiologic PR.\n",
      "\n",
      "PERICARDIUM: Trivial/physiologic pericardial effusion.\n",
      "\n",
      "GENERAL COMMENTS: A TEE was performed in the location listed\n",
      "above. I certify I was present in compliance with HCFA\n",
      "regulations. The patient was under general anesthesia throughout\n",
      "the procedure. The patient received antibiotic prophylaxis. The\n",
      "TEE probe was passed with assistance from the anesthesioology\n",
      "staff using a laryngoscope. No TEE related complications.\n",
      "patient.\n",
      "\n",
      "Conclusions\n",
      "PRE-CPB:1. The left atrium is markedly dilated. No thrombus is\n",
      "seen in the left atrial appendage. No atrial septal defect is\n",
      "seen by 2D or color Doppler.\n",
      "2. Left ventricular wall thicknesses are normal. The left\n",
      "ventricular cavity is moderately dilated. Overall left\n",
      "ventricular systolic function is moderately depressed (LVEF= 35\n",
      "%). Transmitral Doppler and tissue velocity imaging are\n",
      "consistent with Grade I (mild) LV diastolic dysfunction.\n",
      "3. Right ventricular chamber size and free wall motion are\n",
      "normal.\n",
      "4. There are simple atheroma in the aortic root. There are\n",
      "simple atheroma in the ascending aorta. There are simple\n",
      "atheroma in the descending thoracic aorta.\n",
      "5. There are three aortic valve leaflets. Trace aortic\n",
      "regurgitation is seen. Mild (1+) mitral regurgitation is seen.\n",
      "6. There is a trivial/physiologic pericardial effusion.\n",
      "Drs. [**Last Name (STitle) 914**] and [**Name5 (PTitle) 4043**] notified in person of the results.\n",
      "\n",
      "POST-CPB: On infusion of phenylephrine, a-pacing. Improved\n",
      "biventricular systolic function. LVEF is now 40%. Improved\n",
      "inferoapical and anterior hypokinesis. MR, AI, TR all remain\n",
      "trace to mild. Aortic contour is normal post decannulation.\n",
      "  I certify that I was present for this procedure in compliance\n",
      "with HCFA regulations.\n",
      "\n",
      "Electronically signed by [**First Name8 (NamePattern2) **] [**Last Name (NamePattern1) 5209**], MD, Interpreting\n",
      "physician [**Last Name (NamePattern4) **] [**2181-11-5**] 16:33\n",
      "\n",
      "\n",
      "\n",
      "\n",
      "\n",
      "====================[Brief Hospital Course]====================\n",
      "Brief Hospital Course:\n",
      "Transferred from outside hospital for cardiac evaluation,\n",
      "underwent cardiac catherization that revealed coronary artery\n",
      "disease.  He underwent preoperative workup for cardiac surgery.\n",
      "On [**11-5**] was brought to the operating room and underwent\n",
      "coronary artery bypass graft surgery.  See operative report for\n",
      "further details.  He was transferred to the intensive care unit\n",
      "for hemodynamic management.  In the first twenty four hours he\n",
      "was weaned from sedation, awoke neurologically intact, and was\n",
      "extubated without complications.  On postoperative day one he\n",
      "was weaned from pressors and remained in the intensive care unit\n",
      "for hemodynamic management.  On postoperative day two he was\n",
      "started on betablockers and diuretics, transferred to the floor.\n",
      " Physical therapy worked with him on strength and mobility.  His\n",
      "chest tubes were discontinued on POD 2 and his epicardial pacing\n",
      "wires were discontinued in POD 3.  He was discharged to home in\n",
      "stable condition on POD 4.\n",
      "\n",
      "\n",
      "====================[Medications on Admission]====================\n",
      "Medications on Admission:\n",
      "Metoprolol 25mg [**Hospital1 **]\n",
      "Lisinopril 5mg daily\n",
      "ASA 81mg daily\n",
      "Crestor daily\n",
      "\n",
      "\n",
      "====================[Discharge Medications]====================\n",
      "Discharge Medications:\n",
      "1. Furosemide 20 mg Tablet Sig: One (1) Tablet PO Q12H (every 12\n",
      "hours) for 7 days.\n",
      "Disp:*14 Tablet(s)* Refills:*0*\n",
      "2. Potassium Chloride 20 mEq Tab Sust.Rel. Particle/Crystal Sig:\n",
      "One (1) Tab Sust.Rel. Particle/Crystal PO Q12H (every 12 hours)\n",
      "for 7 days.\n",
      "Disp:*14 Tab Sust.Rel. Particle/Crystal(s)* Refills:*0*\n",
      "3. Docusate Sodium 100 mg Capsule Sig: One (1) Capsule PO BID (2\n",
      "times a day).\n",
      "Disp:*60 Capsule(s)* Refills:*2*\n",
      "4. Aspirin 81 mg Tablet, Delayed Release (E.C.) Sig: One (1)\n",
      "Tablet, Delayed Release (E.C.) PO DAILY (Daily).\n",
      "Disp:*30 Tablet, Delayed Release (E.C.)(s)* Refills:*2*\n",
      "5. Hydromorphone 2 mg Tablet Sig: 1-2 Tablets PO every 4-6 hours\n",
      "as needed for pain.\n",
      "Disp:*60 Tablet(s)* Refills:*0*\n",
      "6. Rosuvastatin 5 mg Tablet Sig: One (1) Tablet PO DAILY\n",
      "(Daily).\n",
      "Disp:*30 Tablet(s)* Refills:*2*\n",
      "7. Ferrous Sulfate 325 mg (65 mg Iron) Tablet Sig: One (1)\n",
      "Tablet PO DAILY (Daily).\n",
      "Disp:*30 Tablet(s)* Refills:*2*\n",
      "8. Toprol XL 25 mg Tablet Sustained Release 24 hr Sig: 0.5\n",
      "Tablet Sustained Release 24 hr PO once a day.\n",
      "Disp:*15 Tablet Sustained Release 24 hr(s)* Refills:*2*\n",
      "9. Lisinopril 2.5 mg Tablet Sig: One (1) Tablet PO once a day.\n",
      "Disp:*30 Tablet(s)* Refills:*2*\n",
      "\n",
      "\n",
      "====================[Discharge Disposition]====================\n",
      "Discharge Disposition:\n",
      "Home With Service\n",
      "\n",
      "====================[Facility]====================\n",
      "Facility:\n",
      "[**Hospital 119**] Homecare\n",
      "\n",
      "====================[Discharge Diagnosis]====================\n",
      "Discharge Diagnosis:\n",
      "coronary artery disease\n",
      "hypertension\n",
      "hyperlipidemia\n",
      "\n",
      "\n",
      "====================[Discharge Condition]====================\n",
      "Discharge Condition:\n",
      "Good.\n",
      "\n",
      "\n",
      "====================[Discharge Instructions]====================\n",
      "Discharge Instructions:\n",
      "Weigh yourself every morning, [**Name8 (MD) 138**] MD if weight goes up more\n",
      "than 3 lbs.\n",
      "Adhere to 2 gm sodium diet\n",
      "Take medications as directed on discharge instructions.\n",
      "Do not drive for 4 weeks.\n",
      "Do not lift more than 10 lbs. for 10 weeks.\n",
      "Shower daily, let water flow over wounds, pat dry with a towel.\n",
      "Do not use creams, powders, or lotions on wounds.\n",
      "Call our office for temp >101.5, sternal drainage.\n",
      "\n",
      "\n",
      "====================[Followup Instructions]====================\n",
      "Followup Instructions:\n",
      "Make an appointment with Dr. [**Last Name (STitle) 44890**] for 1-2 weeks.\n",
      "Make an appointment with Dr. [**Last Name (STitle) **] for 2-3 weeks.\n",
      "Make an appointment with Dr. [**Last Name (STitle) **] for 4 weeks.\n",
      "\n",
      "\n",
      "\n",
      "====================[Completed by]====================\n",
      "Completed by:[**2181-11-9**]\n"
     ]
    }
   ],
   "source": [
    "# Test split\n",
    "row_ex = df_train.iloc[0]\n",
    "note = get_discharge_summary(row_ex['HADM ID'])\n",
    "sections = split_ds_sections(note, verbose=True)\n",
    "for section in sections:\n",
    "    sec_title = get_section_title(section)\n",
    "    print('='*20 + f'[{sec_title}]' + '='*20)\n",
    "    print(section)"
   ]
  },
  {
   "cell_type": "code",
   "execution_count": 43,
   "id": "8ed29a51",
   "metadata": {},
   "outputs": [],
   "source": [
    "present_history_titles = [\n",
    "    \"history of present illness\",\n",
    "    \"history of the present illness\",\n",
    "]\n",
    "\n",
    "chief_complaint_titles = [\n",
    "    \"chief complaint\",\n",
    "]\n",
    "\n",
    "hospital_course_titles = [\n",
    "    \"brief hospital course\",\n",
    "    \"hospital course\",\n",
    "    \"review of systems\",\n",
    "    \"summary of hospital course by systems\",\n",
    "    \"hospital course by systems\",\n",
    "    \"summary of hospital course\",\n",
    "    \"hospital course by system\",\n",
    "    \"brief summary of hospital course\",\n",
    "    \"summary of hospital course by system\",\n",
    "    \"history of hospital course by systems\",\n",
    "]\n",
    "\n",
    "section_title_dict = {\n",
    "    'present_history': set(present_history_titles),\n",
    "    'chief_complaint': set(chief_complaint_titles),\n",
    "    'hospital_course': set(hospital_course_titles)\n",
    "}\n",
    "\n",
    "all_section_names = list(section_title_dict.keys())\n",
    "\n",
    "def extract_sections(note, section_names=all_section_names):\n",
    "    assert all([name in section_title_dict for name in section_names])\n",
    "    ret = {name: [] for name in section_names}\n",
    "    \n",
    "    sections = split_ds_sections(note)\n",
    "    for section in sections:\n",
    "        if not section: continue\n",
    "        sec_title = get_section_title(section).lower()\n",
    "        for k, v in section_title_dict.items():\n",
    "            if sec_title in v:\n",
    "                ret[k].append(section)\n",
    "                \n",
    "    return {name: '\\n'.join(sections) for name, sections in ret.items()}"
   ]
  },
  {
   "cell_type": "markdown",
   "id": "bbe575cb",
   "metadata": {},
   "source": [
    "- Example augmentation"
   ]
  },
  {
   "cell_type": "code",
   "execution_count": 44,
   "id": "eb99944e",
   "metadata": {},
   "outputs": [
    {
     "name": "stdout",
     "output_type": "stream",
     "text": [
      "ROW ID: 701531\n",
      "HADM ID: 186454\n",
      "Assessment: 51 yr old F with a history of 3V CAD, confirmed on C. cath during this\n",
      "   admission, EF of 40%, who is transferred to CCU for monitoring of\n",
      "   recurrent chest pain. Plan for CABG today to revascularize due to\n",
      "   3-vessel disease.\n",
      "Plan Subsection: # CORONARIES: Patient with 3 vessel disease on cath. Previously found\n",
      "   to be the case in [**2174**], but had been treated medically. On the floor,\n",
      "   patient with recurrent chest pain and EKG changes, concerning for\n",
      "   further ischemia. Chest pain has been controlled on nitro gtt. Patient\n",
      "   in CCU for monitoring; plan for CABG today.\n",
      "   - continue nitro gtt\n",
      "   - if has further CP, would uptitrate nitro, and contact [**Name2 (NI) 9339**] and\n",
      "   attending for potential balloon pump vs. urgent CABG\n",
      "   - appreciate CT [**Doctor First Name 91**] recs\n",
      "   - continue [**Last Name (LF) **], [**First Name3 (LF) 119**], ACE-i, simvastatin\n",
      "Relation: Direct\n"
     ]
    }
   ],
   "source": [
    "print(f'ROW ID: {row_ex[\"ROW ID\"]}')\n",
    "print(f'HADM ID: {row_ex[\"HADM ID\"]}')\n",
    "print(f'Assessment: {row_ex[\"Assessment\"]}')\n",
    "print(f'Plan Subsection: {row_ex[\"Plan Subsection\"]}')\n",
    "print(f'Relation: {row_ex[\"Relation\"]}')"
   ]
  },
  {
   "cell_type": "code",
   "execution_count": 45,
   "id": "d75b4776",
   "metadata": {
    "scrolled": true
   },
   "outputs": [
    {
     "name": "stdout",
     "output_type": "stream",
     "text": [
      "====================[present_history]====================\n",
      "History of Present Illness:\n",
      "51 year male that presented on [**10-30**] with chest pain, SOB that\n",
      "had been occuring for over a month. Of note, the patient has\n",
      "been non-compliant with medications because of lack of insurance\n",
      "because he lost his job. The patient woke up at 3am on [**10-29**]\n",
      "with acute SOB. His father drove him to emergency department.\n",
      "He was gasping, saturating 78% on RA, [**Doctor Last Name 352**] in color with a\n",
      "respiratory rate in the 40s.\n",
      "In OSH ED, he was thought to be in pulmonary edema. He was given\n",
      "Lasix 240 total, morphine, placed on a non-rebreather and then\n",
      "eventually bipap briefly. Then weaned to non-rebreather and then\n",
      "back to 6L NC, with sats 93-95%. A foley was placed- has since\n",
      "diuresed 1920cc since admission. EKG showed new left bundle on\n",
      "admission, with trop of 0.15. An echo was done on [**2181-10-29**]\n",
      "showing new low EF of 25% with akinesis of apex, posterior and\n",
      "inferior walls, severe hypokinesis of septum and anterior walls.\n",
      "Given CP, elevated trop, he was put on a heparin gtt and was\n",
      "referred to [**Hospital1 18**] for cardiac evaluation.\n",
      "\n",
      "\n",
      "====================[chief_complaint]====================\n",
      "Chief Complaint:\n",
      "Chest pain\n",
      "\n",
      "====================[hospital_course]====================\n",
      "Brief Hospital Course:\n",
      "Transferred from outside hospital for cardiac evaluation,\n",
      "underwent cardiac catherization that revealed coronary artery\n",
      "disease.  He underwent preoperative workup for cardiac surgery.\n",
      "On [**11-5**] was brought to the operating room and underwent\n",
      "coronary artery bypass graft surgery.  See operative report for\n",
      "further details.  He was transferred to the intensive care unit\n",
      "for hemodynamic management.  In the first twenty four hours he\n",
      "was weaned from sedation, awoke neurologically intact, and was\n",
      "extubated without complications.  On postoperative day one he\n",
      "was weaned from pressors and remained in the intensive care unit\n",
      "for hemodynamic management.  On postoperative day two he was\n",
      "started on betablockers and diuretics, transferred to the floor.\n",
      " Physical therapy worked with him on strength and mobility.  His\n",
      "chest tubes were discontinued on POD 2 and his epicardial pacing\n",
      "wires were discontinued in POD 3.  He was discharged to home in\n",
      "stable condition on POD 4.\n",
      "\n",
      "\n"
     ]
    }
   ],
   "source": [
    "for k, v in extract_sections(note).items():\n",
    "    print('='*20 + f'[{k}]' + '='*20)\n",
    "    print(v)"
   ]
  },
  {
   "cell_type": "markdown",
   "id": "e3c03213",
   "metadata": {},
   "source": [
    "### Augmented section analysis"
   ]
  },
  {
   "cell_type": "markdown",
   "id": "155cd3c2",
   "metadata": {},
   "source": [
    "- Similarity with the assessment"
   ]
  },
  {
   "cell_type": "code",
   "execution_count": 46,
   "id": "9426abd8",
   "metadata": {},
   "outputs": [
    {
     "name": "stdout",
     "output_type": "stream",
     "text": [
      "assessment - present_history\n",
      "Levenshtein: 0.05319148936170213\n",
      "Rouge-1    : 0.09032258064516129\n",
      "Rouge-2    : 0.0130718954248366\n",
      "Rouge-L    : 0.03870967741935484\n",
      "\n",
      "assessment - chief_complaint\n",
      "Levenshtein: 0.0\n",
      "Rouge-1    : 0.12903225806451613\n",
      "Rouge-2    : 0.06896551724137931\n",
      "Rouge-L    : 0.12903225806451613\n",
      "\n",
      "assessment - hospital_course\n",
      "Levenshtein: 0.04054054054054054\n",
      "Rouge-1    : 0.062015503875969\n",
      "Rouge-2    : 0.0\n",
      "Rouge-L    : 0.04651162790697674\n",
      "\n"
     ]
    }
   ],
   "source": [
    "# Compute the similarity between the input and additional sections\n",
    "assessment = row_ex[\"Assessment\"]\n",
    "section_dict = extract_sections(note)\n",
    "\n",
    "for name, section in section_dict.items():\n",
    "    print(f'assessment - {name}')\n",
    "    print(f'Levenshtein: {get_levenshtein_score(assessment.split(), section.split(), similarity=True)}')\n",
    "    print(f'Rouge-1    : {get_rouge_score(assessment, section, metric=\"rouge1\")}')\n",
    "    print(f'Rouge-2    : {get_rouge_score(assessment, section, metric=\"rouge2\")}')\n",
    "    print(f'Rouge-L    : {get_rouge_score(assessment, section, metric=\"rougeL\")}')\n",
    "    print()"
   ]
  },
  {
   "cell_type": "markdown",
   "id": "60434f34",
   "metadata": {},
   "source": [
    "### Dataset Augmentation"
   ]
  },
  {
   "cell_type": "markdown",
   "id": "5d840e4d",
   "metadata": {},
   "source": [
    "- Get train augmentation sections"
   ]
  },
  {
   "cell_type": "code",
   "execution_count": 47,
   "id": "3ee1a087",
   "metadata": {},
   "outputs": [
    {
     "data": {
      "application/vnd.jupyter.widget-view+json": {
       "model_id": "8bf63c0090b34e2cbdc6509d63f7b8f1",
       "version_major": 2,
       "version_minor": 0
      },
      "text/plain": [
       "  0%|          | 0/4633 [00:00<?, ?it/s]"
      ]
     },
     "metadata": {},
     "output_type": "display_data"
    }
   ],
   "source": [
    "# Get sections\n",
    "train_no_ds_cnt = 0\n",
    "train_additional_data = {name: [] for name in all_section_names}\n",
    "for i, row in tqdm(df_train.iterrows(), total=len(df_train)):\n",
    "    note = get_discharge_summary(row['HADM ID'])\n",
    "    section_dict = extract_sections(note)\n",
    "    for name, section in section_dict.items():\n",
    "        train_additional_data[name].append(section)\n",
    "    train_no_ds_cnt += 1 if not note else 0"
   ]
  },
  {
   "cell_type": "code",
   "execution_count": 48,
   "id": "9177fe62",
   "metadata": {},
   "outputs": [
    {
     "data": {
      "text/plain": [
       "63"
      ]
     },
     "execution_count": 48,
     "metadata": {},
     "output_type": "execute_result"
    }
   ],
   "source": [
    "train_no_ds_cnt"
   ]
  },
  {
   "cell_type": "code",
   "execution_count": 51,
   "id": "4a88f88d",
   "metadata": {},
   "outputs": [],
   "source": [
    "# Checkout the length statistics\n",
    "tokenizer = AutoTokenizer.from_pretrained(\"emilyalsentzer/Bio_ClinicalBERT\")\n",
    "scorer = rouge_scorer.RougeScorer(rouge_types=['rouge1'], use_stemmer=False)"
   ]
  },
  {
   "cell_type": "code",
   "execution_count": 53,
   "id": "8f1d015c",
   "metadata": {},
   "outputs": [
    {
     "name": "stdout",
     "output_type": "stream",
     "text": [
      "present_history (4570)\n",
      "- Word    : 268.6223\n",
      "- Token   : 458.3471\n",
      "- Rouge1 R: 0.6064\n",
      "- Leven   : 0.0534\n",
      "chief_complaint (4558)\n",
      "- Word    : 6.0246\n",
      "- Token   : 11.2599\n",
      "- Rouge1 R: 0.0462\n",
      "- Leven   : 0.0211\n",
      "hospital_course (4570)\n",
      "- Word    : 519.8973\n",
      "- Token   : 891.7118\n",
      "- Rouge1 R: 0.6877\n",
      "- Leven   : 0.0377\n"
     ]
    }
   ],
   "source": [
    "for name, sections in train_additional_data.items():\n",
    "    print(f'{name} ({sum([bool(x) for x in sections])})')\n",
    "    \n",
    "    word_cnt = [len(x.split()) for x in sections]\n",
    "    print(f'- Word    : {np.mean(word_cnt):.4f}')\n",
    "    \n",
    "    token_cnt = [len(tokenizer.encode(x, add_special_tokens=False)) for x in sections]\n",
    "    print(f'- Token   : {np.mean(token_cnt):.4f}')\n",
    "    \n",
    "    assessments = df_train2['Assessment']\n",
    "    rouge_scores = [scorer.score(assessments[i], x)['rouge1'].recall for i, x in enumerate(sections)]\n",
    "    print(f'- Rouge1 R: {np.mean(rouge_scores):.4f}')\n",
    "    \n",
    "    leven_scores = [get_levenshtein_score(assessments[i].split(), x.split(), similarity=True)\n",
    "                    for i, x in enumerate(sections)]\n",
    "    print(f'- Leven   : {np.mean(leven_scores):.4f}')"
   ]
  },
  {
   "cell_type": "markdown",
   "id": "cabece4d",
   "metadata": {},
   "source": [
    "- Augment the train data"
   ]
  },
  {
   "cell_type": "code",
   "execution_count": 49,
   "id": "8ac6c3c7",
   "metadata": {},
   "outputs": [],
   "source": [
    "df_train2 = df_train.copy()\n",
    "for i, (name, sections) in enumerate(train_additional_data.items()):\n",
    "    df_train2.insert(loc=5 + i, column=name, value=sections)"
   ]
  },
  {
   "cell_type": "code",
   "execution_count": 50,
   "id": "2b274f19",
   "metadata": {
    "scrolled": false
   },
   "outputs": [
    {
     "name": "stdout",
     "output_type": "stream",
     "text": [
      "4633\n"
     ]
    },
    {
     "data": {
      "text/html": [
       "<div>\n",
       "<style scoped>\n",
       "    .dataframe tbody tr th:only-of-type {\n",
       "        vertical-align: middle;\n",
       "    }\n",
       "\n",
       "    .dataframe tbody tr th {\n",
       "        vertical-align: top;\n",
       "    }\n",
       "\n",
       "    .dataframe thead th {\n",
       "        text-align: right;\n",
       "    }\n",
       "</style>\n",
       "<table border=\"1\" class=\"dataframe\">\n",
       "  <thead>\n",
       "    <tr style=\"text-align: right;\">\n",
       "      <th></th>\n",
       "      <th>ROW ID</th>\n",
       "      <th>HADM ID</th>\n",
       "      <th>SUBJECT ID</th>\n",
       "      <th>Assessment</th>\n",
       "      <th>Plan Subsection</th>\n",
       "      <th>present_history</th>\n",
       "      <th>chief_complaint</th>\n",
       "      <th>hospital_course</th>\n",
       "      <th>Relation</th>\n",
       "    </tr>\n",
       "  </thead>\n",
       "  <tbody>\n",
       "    <tr>\n",
       "      <th>0</th>\n",
       "      <td>701531</td>\n",
       "      <td>186454</td>\n",
       "      <td>40514</td>\n",
       "      <td>51 yr old F with a history of 3V CAD, confirme...</td>\n",
       "      <td># CORONARIES: Patient with 3 vessel disease on...</td>\n",
       "      <td>History of Present Illness:\\n51 year male that...</td>\n",
       "      <td>Chief Complaint:\\nChest pain\\n</td>\n",
       "      <td>Brief Hospital Course:\\nTransferred from outsi...</td>\n",
       "      <td>Direct</td>\n",
       "    </tr>\n",
       "    <tr>\n",
       "      <th>1</th>\n",
       "      <td>701531</td>\n",
       "      <td>186454</td>\n",
       "      <td>40514</td>\n",
       "      <td>51 yr old F with a history of 3V CAD, confirme...</td>\n",
       "      <td># Acute on Chronic systolic CHF: Patient with ...</td>\n",
       "      <td>History of Present Illness:\\n51 year male that...</td>\n",
       "      <td>Chief Complaint:\\nChest pain\\n</td>\n",
       "      <td>Brief Hospital Course:\\nTransferred from outsi...</td>\n",
       "      <td>Indirect</td>\n",
       "    </tr>\n",
       "    <tr>\n",
       "      <th>2</th>\n",
       "      <td>701531</td>\n",
       "      <td>186454</td>\n",
       "      <td>40514</td>\n",
       "      <td>51 yr old F with a history of 3V CAD, confirme...</td>\n",
       "      <td># Social stressors: Recently lost mother to ca...</td>\n",
       "      <td>History of Present Illness:\\n51 year male that...</td>\n",
       "      <td>Chief Complaint:\\nChest pain\\n</td>\n",
       "      <td>Brief Hospital Course:\\nTransferred from outsi...</td>\n",
       "      <td>Neither</td>\n",
       "    </tr>\n",
       "    <tr>\n",
       "      <th>3</th>\n",
       "      <td>701531</td>\n",
       "      <td>186454</td>\n",
       "      <td>40514</td>\n",
       "      <td>51 yr old F with a history of 3V CAD, confirme...</td>\n",
       "      <td># FEN: Replete lytes PRN, NPO for CABG today\\n...</td>\n",
       "      <td>History of Present Illness:\\n51 year male that...</td>\n",
       "      <td>Chief Complaint:\\nChest pain\\n</td>\n",
       "      <td>Brief Hospital Course:\\nTransferred from outsi...</td>\n",
       "      <td>Not Relevant</td>\n",
       "    </tr>\n",
       "    <tr>\n",
       "      <th>4</th>\n",
       "      <td>554204</td>\n",
       "      <td>196435</td>\n",
       "      <td>85490</td>\n",
       "      <td>CHRONIC OBSTRUCTIVE PULMONARY DISEASE (COPD, B...</td>\n",
       "      <td># Dyspnea: Differential in this patient would ...</td>\n",
       "      <td>History of Present Illness:\\n57 y/o man with a...</td>\n",
       "      <td>Chief Complaint:\\nDyspnea\\n</td>\n",
       "      <td>Brief Hospital Course:\\n57 y/o man with long s...</td>\n",
       "      <td>Direct</td>\n",
       "    </tr>\n",
       "  </tbody>\n",
       "</table>\n",
       "</div>"
      ],
      "text/plain": [
       "   ROW ID  HADM ID  SUBJECT ID  \\\n",
       "0  701531   186454       40514   \n",
       "1  701531   186454       40514   \n",
       "2  701531   186454       40514   \n",
       "3  701531   186454       40514   \n",
       "4  554204   196435       85490   \n",
       "\n",
       "                                          Assessment  \\\n",
       "0  51 yr old F with a history of 3V CAD, confirme...   \n",
       "1  51 yr old F with a history of 3V CAD, confirme...   \n",
       "2  51 yr old F with a history of 3V CAD, confirme...   \n",
       "3  51 yr old F with a history of 3V CAD, confirme...   \n",
       "4  CHRONIC OBSTRUCTIVE PULMONARY DISEASE (COPD, B...   \n",
       "\n",
       "                                     Plan Subsection  \\\n",
       "0  # CORONARIES: Patient with 3 vessel disease on...   \n",
       "1  # Acute on Chronic systolic CHF: Patient with ...   \n",
       "2  # Social stressors: Recently lost mother to ca...   \n",
       "3  # FEN: Replete lytes PRN, NPO for CABG today\\n...   \n",
       "4  # Dyspnea: Differential in this patient would ...   \n",
       "\n",
       "                                     present_history  \\\n",
       "0  History of Present Illness:\\n51 year male that...   \n",
       "1  History of Present Illness:\\n51 year male that...   \n",
       "2  History of Present Illness:\\n51 year male that...   \n",
       "3  History of Present Illness:\\n51 year male that...   \n",
       "4  History of Present Illness:\\n57 y/o man with a...   \n",
       "\n",
       "                  chief_complaint  \\\n",
       "0  Chief Complaint:\\nChest pain\\n   \n",
       "1  Chief Complaint:\\nChest pain\\n   \n",
       "2  Chief Complaint:\\nChest pain\\n   \n",
       "3  Chief Complaint:\\nChest pain\\n   \n",
       "4     Chief Complaint:\\nDyspnea\\n   \n",
       "\n",
       "                                     hospital_course      Relation  \n",
       "0  Brief Hospital Course:\\nTransferred from outsi...        Direct  \n",
       "1  Brief Hospital Course:\\nTransferred from outsi...      Indirect  \n",
       "2  Brief Hospital Course:\\nTransferred from outsi...       Neither  \n",
       "3  Brief Hospital Course:\\nTransferred from outsi...  Not Relevant  \n",
       "4  Brief Hospital Course:\\n57 y/o man with long s...        Direct  "
      ]
     },
     "execution_count": 50,
     "metadata": {},
     "output_type": "execute_result"
    }
   ],
   "source": [
    "print(len(df_train2))\n",
    "df_train2.head()"
   ]
  },
  {
   "cell_type": "markdown",
   "id": "f03ca257",
   "metadata": {},
   "source": [
    "- Same for the dev set"
   ]
  },
  {
   "cell_type": "code",
   "execution_count": 54,
   "id": "1e7f4a22",
   "metadata": {
    "scrolled": true
   },
   "outputs": [
    {
     "data": {
      "application/vnd.jupyter.widget-view+json": {
       "model_id": "a6c79e9ae64c48768ae7d5bd8fdea690",
       "version_major": 2,
       "version_minor": 0
      },
      "text/plain": [
       "  0%|          | 0/597 [00:00<?, ?it/s]"
      ]
     },
     "metadata": {},
     "output_type": "display_data"
    }
   ],
   "source": [
    "dev_no_ds_cnt = 0\n",
    "dev_additional_data = {name: [] for name in all_section_names}\n",
    "for i, row in tqdm(df_dev.iterrows(), total=len(df_dev)):\n",
    "    note = get_discharge_summary(row['HADM ID'])\n",
    "    section_dict = extract_sections(note)\n",
    "    for name, section in section_dict.items():\n",
    "        dev_additional_data[name].append(section)\n",
    "    dev_no_ds_cnt += 1 if not note else 0"
   ]
  },
  {
   "cell_type": "code",
   "execution_count": 55,
   "id": "db76798d",
   "metadata": {
    "scrolled": true
   },
   "outputs": [
    {
     "data": {
      "text/plain": [
       "32"
      ]
     },
     "execution_count": 55,
     "metadata": {},
     "output_type": "execute_result"
    }
   ],
   "source": [
    "dev_no_ds_cnt"
   ]
  },
  {
   "cell_type": "code",
   "execution_count": 64,
   "id": "836cd57f",
   "metadata": {
    "scrolled": true
   },
   "outputs": [
    {
     "name": "stdout",
     "output_type": "stream",
     "text": [
      "present_history (565)\n",
      "- Word    : 252.5126\n",
      "- Token   : 426.6683\n",
      "- Rouge1 R: 0.5464\n",
      "- Leven   : 0.0508\n",
      "chief_complaint (565)\n",
      "- Word    : 5.0419\n",
      "- Token   : 9.5812\n",
      "- Rouge1 R: 0.0406\n",
      "- Leven   : 0.0206\n",
      "hospital_course (565)\n",
      "- Word    : 559.2479\n",
      "- Token   : 945.0352\n",
      "- Rouge1 R: 0.6432\n",
      "- Leven   : 0.0304\n"
     ]
    }
   ],
   "source": [
    "for name, sections in dev_additional_data.items():\n",
    "    print(f'{name} ({sum([bool(x) for x in sections])})')\n",
    "    \n",
    "    word_cnt = [len(x.split()) for x in sections]\n",
    "    print(f'- Word    : {np.mean(word_cnt):.4f}')\n",
    "    \n",
    "    token_cnt = [len(tokenizer.encode(x, add_special_tokens=False)) for x in sections]\n",
    "    print(f'- Token   : {np.mean(token_cnt):.4f}')\n",
    "    \n",
    "    assessments = df_dev2['Assessment']\n",
    "    rouge_scores = [scorer.score(assessments[i], x)['rouge1'].recall for i, x in enumerate(sections)]\n",
    "    print(f'- Rouge1 R: {np.mean(rouge_scores):.4f}')\n",
    "    \n",
    "    leven_scores = [get_levenshtein_score(assessments[i].split(), x.split(), similarity=True)\n",
    "                    for i, x in enumerate(sections)]\n",
    "    print(f'- Leven   : {np.mean(leven_scores):.4f}')"
   ]
  },
  {
   "cell_type": "code",
   "execution_count": 61,
   "id": "1ec0f91a",
   "metadata": {},
   "outputs": [],
   "source": [
    "df_dev2 = df_dev.copy()\n",
    "for i, (name, sections) in enumerate(dev_additional_data.items()):\n",
    "    df_dev2.insert(loc=5 + i, column=name, value=sections)"
   ]
  },
  {
   "cell_type": "code",
   "execution_count": 62,
   "id": "5357b576",
   "metadata": {
    "scrolled": false
   },
   "outputs": [
    {
     "name": "stdout",
     "output_type": "stream",
     "text": [
      "597\n"
     ]
    },
    {
     "data": {
      "text/html": [
       "<div>\n",
       "<style scoped>\n",
       "    .dataframe tbody tr th:only-of-type {\n",
       "        vertical-align: middle;\n",
       "    }\n",
       "\n",
       "    .dataframe tbody tr th {\n",
       "        vertical-align: top;\n",
       "    }\n",
       "\n",
       "    .dataframe thead th {\n",
       "        text-align: right;\n",
       "    }\n",
       "</style>\n",
       "<table border=\"1\" class=\"dataframe\">\n",
       "  <thead>\n",
       "    <tr style=\"text-align: right;\">\n",
       "      <th></th>\n",
       "      <th>ROW ID</th>\n",
       "      <th>HADM ID</th>\n",
       "      <th>SUBJECT ID</th>\n",
       "      <th>Assessment</th>\n",
       "      <th>Plan Subsection</th>\n",
       "      <th>present_history</th>\n",
       "      <th>chief_complaint</th>\n",
       "      <th>hospital_course</th>\n",
       "      <th>Relation</th>\n",
       "    </tr>\n",
       "  </thead>\n",
       "  <tbody>\n",
       "    <tr>\n",
       "      <th>0</th>\n",
       "      <td>575156</td>\n",
       "      <td>112508</td>\n",
       "      <td>91333</td>\n",
       "      <td>A 60 year old woman with recurrent ALL with CN...</td>\n",
       "      <td>CNS VRE:  S/P Omaya removal, on linezolid for ...</td>\n",
       "      <td>History of Present Illness:\\n60-year-old woman...</td>\n",
       "      <td>Chief Complaint:\\n10% blasts on routine differ...</td>\n",
       "      <td>Brief Hospital Course:\\n60 YO F with recurrent...</td>\n",
       "      <td>Direct</td>\n",
       "    </tr>\n",
       "    <tr>\n",
       "      <th>1</th>\n",
       "      <td>575156</td>\n",
       "      <td>112508</td>\n",
       "      <td>91333</td>\n",
       "      <td>A 60 year old woman with recurrent ALL with CN...</td>\n",
       "      <td>LEUKOCYTOSIS:   GCSF vs culture negative bacte...</td>\n",
       "      <td>History of Present Illness:\\n60-year-old woman...</td>\n",
       "      <td>Chief Complaint:\\n10% blasts on routine differ...</td>\n",
       "      <td>Brief Hospital Course:\\n60 YO F with recurrent...</td>\n",
       "      <td>Direct</td>\n",
       "    </tr>\n",
       "    <tr>\n",
       "      <th>2</th>\n",
       "      <td>575156</td>\n",
       "      <td>112508</td>\n",
       "      <td>91333</td>\n",
       "      <td>A 60 year old woman with recurrent ALL with CN...</td>\n",
       "      <td>ALL:  Currently day +43 s/p hyper-CVAD.  She i...</td>\n",
       "      <td>History of Present Illness:\\n60-year-old woman...</td>\n",
       "      <td>Chief Complaint:\\n10% blasts on routine differ...</td>\n",
       "      <td>Brief Hospital Course:\\n60 YO F with recurrent...</td>\n",
       "      <td>Indirect</td>\n",
       "    </tr>\n",
       "    <tr>\n",
       "      <th>3</th>\n",
       "      <td>575156</td>\n",
       "      <td>112508</td>\n",
       "      <td>91333</td>\n",
       "      <td>A 60 year old woman with recurrent ALL with CN...</td>\n",
       "      <td>DRUG RASH:  Appears improved today.  Evidence ...</td>\n",
       "      <td>History of Present Illness:\\n60-year-old woman...</td>\n",
       "      <td>Chief Complaint:\\n10% blasts on routine differ...</td>\n",
       "      <td>Brief Hospital Course:\\n60 YO F with recurrent...</td>\n",
       "      <td>Indirect</td>\n",
       "    </tr>\n",
       "    <tr>\n",
       "      <th>4</th>\n",
       "      <td>575156</td>\n",
       "      <td>112508</td>\n",
       "      <td>91333</td>\n",
       "      <td>A 60 year old woman with recurrent ALL with CN...</td>\n",
       "      <td>ELEVATED LIVER ENZYMES:  Consistent with shock...</td>\n",
       "      <td>History of Present Illness:\\n60-year-old woman...</td>\n",
       "      <td>Chief Complaint:\\n10% blasts on routine differ...</td>\n",
       "      <td>Brief Hospital Course:\\n60 YO F with recurrent...</td>\n",
       "      <td>Neither</td>\n",
       "    </tr>\n",
       "  </tbody>\n",
       "</table>\n",
       "</div>"
      ],
      "text/plain": [
       "   ROW ID  HADM ID  SUBJECT ID  \\\n",
       "0  575156   112508       91333   \n",
       "1  575156   112508       91333   \n",
       "2  575156   112508       91333   \n",
       "3  575156   112508       91333   \n",
       "4  575156   112508       91333   \n",
       "\n",
       "                                          Assessment  \\\n",
       "0  A 60 year old woman with recurrent ALL with CN...   \n",
       "1  A 60 year old woman with recurrent ALL with CN...   \n",
       "2  A 60 year old woman with recurrent ALL with CN...   \n",
       "3  A 60 year old woman with recurrent ALL with CN...   \n",
       "4  A 60 year old woman with recurrent ALL with CN...   \n",
       "\n",
       "                                     Plan Subsection  \\\n",
       "0  CNS VRE:  S/P Omaya removal, on linezolid for ...   \n",
       "1  LEUKOCYTOSIS:   GCSF vs culture negative bacte...   \n",
       "2  ALL:  Currently day +43 s/p hyper-CVAD.  She i...   \n",
       "3  DRUG RASH:  Appears improved today.  Evidence ...   \n",
       "4  ELEVATED LIVER ENZYMES:  Consistent with shock...   \n",
       "\n",
       "                                     present_history  \\\n",
       "0  History of Present Illness:\\n60-year-old woman...   \n",
       "1  History of Present Illness:\\n60-year-old woman...   \n",
       "2  History of Present Illness:\\n60-year-old woman...   \n",
       "3  History of Present Illness:\\n60-year-old woman...   \n",
       "4  History of Present Illness:\\n60-year-old woman...   \n",
       "\n",
       "                                     chief_complaint  \\\n",
       "0  Chief Complaint:\\n10% blasts on routine differ...   \n",
       "1  Chief Complaint:\\n10% blasts on routine differ...   \n",
       "2  Chief Complaint:\\n10% blasts on routine differ...   \n",
       "3  Chief Complaint:\\n10% blasts on routine differ...   \n",
       "4  Chief Complaint:\\n10% blasts on routine differ...   \n",
       "\n",
       "                                     hospital_course  Relation  \n",
       "0  Brief Hospital Course:\\n60 YO F with recurrent...    Direct  \n",
       "1  Brief Hospital Course:\\n60 YO F with recurrent...    Direct  \n",
       "2  Brief Hospital Course:\\n60 YO F with recurrent...  Indirect  \n",
       "3  Brief Hospital Course:\\n60 YO F with recurrent...  Indirect  \n",
       "4  Brief Hospital Course:\\n60 YO F with recurrent...   Neither  "
      ]
     },
     "execution_count": 62,
     "metadata": {},
     "output_type": "execute_result"
    }
   ],
   "source": [
    "print(len(df_dev2))\n",
    "df_dev2.head()"
   ]
  },
  {
   "cell_type": "markdown",
   "id": "e5e1d530",
   "metadata": {},
   "source": [
    "- Output to files"
   ]
  },
  {
   "cell_type": "code",
   "execution_count": 65,
   "id": "9d0703df",
   "metadata": {},
   "outputs": [],
   "source": [
    "if not os.path.exists(output_dir):\n",
    "    os.makedirs(output_dir)\n",
    "    \n",
    "df_train2.to_csv(os.path.join(output_dir, 'train.csv'), index=False)\n",
    "df_dev2.to_csv(os.path.join(output_dir, 'dev.csv'), index=False)"
   ]
  },
  {
   "cell_type": "code",
   "execution_count": 153,
   "id": "e834bd9e",
   "metadata": {},
   "outputs": [],
   "source": [
    "df_traindev2 = pd.concat([df_train2, df_dev2])\n",
    "df_traindev2.to_csv(os.path.join(output_dir, 'traindev.csv'), index=False)"
   ]
  },
  {
   "cell_type": "code",
   "execution_count": null,
   "id": "6761a62c",
   "metadata": {},
   "outputs": [],
   "source": []
  },
  {
   "cell_type": "markdown",
   "id": "21962cc6",
   "metadata": {},
   "source": [
    "# Build the test dataset"
   ]
  },
  {
   "cell_type": "markdown",
   "id": "dc673e54",
   "metadata": {},
   "source": [
    "- Provided file (no label)"
   ]
  },
  {
   "cell_type": "code",
   "execution_count": 146,
   "id": "794a1891",
   "metadata": {},
   "outputs": [],
   "source": [
    "df_test_raw = pd.read_csv(test_fpath)"
   ]
  },
  {
   "cell_type": "code",
   "execution_count": 147,
   "id": "8a74f965",
   "metadata": {},
   "outputs": [
    {
     "data": {
      "text/html": [
       "<div>\n",
       "<style scoped>\n",
       "    .dataframe tbody tr th:only-of-type {\n",
       "        vertical-align: middle;\n",
       "    }\n",
       "\n",
       "    .dataframe tbody tr th {\n",
       "        vertical-align: top;\n",
       "    }\n",
       "\n",
       "    .dataframe thead th {\n",
       "        text-align: right;\n",
       "    }\n",
       "</style>\n",
       "<table border=\"1\" class=\"dataframe\">\n",
       "  <thead>\n",
       "    <tr style=\"text-align: right;\">\n",
       "      <th></th>\n",
       "      <th>ROW ID</th>\n",
       "      <th>HADM ID</th>\n",
       "      <th>Assessment</th>\n",
       "      <th>Plan Subsection</th>\n",
       "    </tr>\n",
       "  </thead>\n",
       "  <tbody>\n",
       "    <tr>\n",
       "      <th>0</th>\n",
       "      <td>560683</td>\n",
       "      <td>106899</td>\n",
       "      <td>Ms. [**Known lastname 3847**] is a 79F with a ...</td>\n",
       "      <td>Sepsis\\n likely has sepsis physiology with hyp...</td>\n",
       "    </tr>\n",
       "    <tr>\n",
       "      <th>1</th>\n",
       "      <td>560683</td>\n",
       "      <td>106899</td>\n",
       "      <td>Ms. [**Known lastname 3847**] is a 79F with a ...</td>\n",
       "      <td>Anuria-  Renal consulted for anuria- consideri...</td>\n",
       "    </tr>\n",
       "    <tr>\n",
       "      <th>2</th>\n",
       "      <td>560683</td>\n",
       "      <td>106899</td>\n",
       "      <td>Ms. [**Known lastname 3847**] is a 79F with a ...</td>\n",
       "      <td>R pleural effusion: Unilateral nature in the s...</td>\n",
       "    </tr>\n",
       "    <tr>\n",
       "      <th>3</th>\n",
       "      <td>560683</td>\n",
       "      <td>106899</td>\n",
       "      <td>Ms. [**Known lastname 3847**] is a 79F with a ...</td>\n",
       "      <td>DM/hypoglycemia: possibly from not clearing me...</td>\n",
       "    </tr>\n",
       "    <tr>\n",
       "      <th>4</th>\n",
       "      <td>560683</td>\n",
       "      <td>106899</td>\n",
       "      <td>Ms. [**Known lastname 3847**] is a 79F with a ...</td>\n",
       "      <td>S/p recent femur fracture: held SQH overnight</td>\n",
       "    </tr>\n",
       "    <tr>\n",
       "      <th>5</th>\n",
       "      <td>560683</td>\n",
       "      <td>106899</td>\n",
       "      <td>Ms. [**Known lastname 3847**] is a 79F with a ...</td>\n",
       "      <td>Chronic anemia: stable at baseline, ?thalesemi...</td>\n",
       "    </tr>\n",
       "    <tr>\n",
       "      <th>6</th>\n",
       "      <td>560683</td>\n",
       "      <td>106899</td>\n",
       "      <td>Ms. [**Known lastname 3847**] is a 79F with a ...</td>\n",
       "      <td># FEN: NG tube\\n   # PPx: SC hep, IV ppi, bowe...</td>\n",
       "    </tr>\n",
       "    <tr>\n",
       "      <th>7</th>\n",
       "      <td>560683</td>\n",
       "      <td>194340</td>\n",
       "      <td>ssessment and Plan\\n SEPSIS WITHOUT ORGAN DYSF...</td>\n",
       "      <td>#. Sepsis: Patient has re-developed fevers on ...</td>\n",
       "    </tr>\n",
       "    <tr>\n",
       "      <th>8</th>\n",
       "      <td>560683</td>\n",
       "      <td>194340</td>\n",
       "      <td>ssessment and Plan\\n SEPSIS WITHOUT ORGAN DYSF...</td>\n",
       "      <td>#. Volume status/Chronic systolic HF- As evide...</td>\n",
       "    </tr>\n",
       "    <tr>\n",
       "      <th>9</th>\n",
       "      <td>560683</td>\n",
       "      <td>194340</td>\n",
       "      <td>ssessment and Plan\\n SEPSIS WITHOUT ORGAN DYSF...</td>\n",
       "      <td>#. Peripheral arterial disease: will follow up...</td>\n",
       "    </tr>\n",
       "    <tr>\n",
       "      <th>10</th>\n",
       "      <td>560683</td>\n",
       "      <td>194340</td>\n",
       "      <td>ssessment and Plan\\n SEPSIS WITHOUT ORGAN DYSF...</td>\n",
       "      <td>#. Insulin dependent diabetes: continue ISS wi...</td>\n",
       "    </tr>\n",
       "    <tr>\n",
       "      <th>11</th>\n",
       "      <td>560683</td>\n",
       "      <td>194340</td>\n",
       "      <td>ssessment and Plan\\n SEPSIS WITHOUT ORGAN DYSF...</td>\n",
       "      <td>#. Hypertension: hold antihypertensives while ...</td>\n",
       "    </tr>\n",
       "    <tr>\n",
       "      <th>12</th>\n",
       "      <td>560683</td>\n",
       "      <td>194340</td>\n",
       "      <td>ssessment and Plan\\n SEPSIS WITHOUT ORGAN DYSF...</td>\n",
       "      <td>#. Peripheral arterial disease: s/p recent rig...</td>\n",
       "    </tr>\n",
       "    <tr>\n",
       "      <th>13</th>\n",
       "      <td>560683</td>\n",
       "      <td>194340</td>\n",
       "      <td>ssessment and Plan\\n SEPSIS WITHOUT ORGAN DYSF...</td>\n",
       "      <td>#. Hyperlipidemia: not currently on a statin, ...</td>\n",
       "    </tr>\n",
       "    <tr>\n",
       "      <th>14</th>\n",
       "      <td>560683</td>\n",
       "      <td>194340</td>\n",
       "      <td>ssessment and Plan\\n SEPSIS WITHOUT ORGAN DYSF...</td>\n",
       "      <td>CU Care\\n   Nutrition:\\n   Glycemic Control:\\n...</td>\n",
       "    </tr>\n",
       "    <tr>\n",
       "      <th>15</th>\n",
       "      <td>560683</td>\n",
       "      <td>192318</td>\n",
       "      <td>Assessment and Plan Mr. [**Known lastname 512*...</td>\n",
       "      <td># Food impaction. The patient gives a history ...</td>\n",
       "    </tr>\n",
       "    <tr>\n",
       "      <th>16</th>\n",
       "      <td>560683</td>\n",
       "      <td>192318</td>\n",
       "      <td>Assessment and Plan Mr. [**Known lastname 512*...</td>\n",
       "      <td>Opacity on CXR. Concerning for aspiration pneu...</td>\n",
       "    </tr>\n",
       "    <tr>\n",
       "      <th>17</th>\n",
       "      <td>560683</td>\n",
       "      <td>192318</td>\n",
       "      <td>Assessment and Plan Mr. [**Known lastname 512*...</td>\n",
       "      <td># Hypertension. Patient hypertensive on floor ...</td>\n",
       "    </tr>\n",
       "    <tr>\n",
       "      <th>18</th>\n",
       "      <td>560683</td>\n",
       "      <td>192318</td>\n",
       "      <td>Assessment and Plan Mr. [**Known lastname 512*...</td>\n",
       "      <td># FEN: No IVF, replete electrolytes, NPO overn...</td>\n",
       "    </tr>\n",
       "    <tr>\n",
       "      <th>19</th>\n",
       "      <td>560683</td>\n",
       "      <td>101316</td>\n",
       "      <td>85 yo female resident of [**Hospital **] rehab...</td>\n",
       "      <td>Dyspnea, leukocytosis, subtle RML consolidatio...</td>\n",
       "    </tr>\n",
       "    <tr>\n",
       "      <th>20</th>\n",
       "      <td>560683</td>\n",
       "      <td>101316</td>\n",
       "      <td>85 yo female resident of [**Hospital **] rehab...</td>\n",
       "      <td>Fever, obstructing ureteral stone on CT: After...</td>\n",
       "    </tr>\n",
       "    <tr>\n",
       "      <th>21</th>\n",
       "      <td>560683</td>\n",
       "      <td>101316</td>\n",
       "      <td>85 yo female resident of [**Hospital **] rehab...</td>\n",
       "      <td>Tachycardia: Likely in the setting of dehydrat...</td>\n",
       "    </tr>\n",
       "    <tr>\n",
       "      <th>22</th>\n",
       "      <td>560683</td>\n",
       "      <td>101316</td>\n",
       "      <td>85 yo female resident of [**Hospital **] rehab...</td>\n",
       "      <td>Renal failure: Cre at baseline post bladder de...</td>\n",
       "    </tr>\n",
       "    <tr>\n",
       "      <th>23</th>\n",
       "      <td>560683</td>\n",
       "      <td>101316</td>\n",
       "      <td>85 yo female resident of [**Hospital **] rehab...</td>\n",
       "      <td>Urinary retention: Ddx include medication effe...</td>\n",
       "    </tr>\n",
       "    <tr>\n",
       "      <th>24</th>\n",
       "      <td>560683</td>\n",
       "      <td>101316</td>\n",
       "      <td>85 yo female resident of [**Hospital **] rehab...</td>\n",
       "      <td>Hyperglycemia:\\n   - ISS</td>\n",
       "    </tr>\n",
       "    <tr>\n",
       "      <th>25</th>\n",
       "      <td>560683</td>\n",
       "      <td>101316</td>\n",
       "      <td>85 yo female resident of [**Hospital **] rehab...</td>\n",
       "      <td>FEN: No IVF, replete electrolytes, regular die...</td>\n",
       "    </tr>\n",
       "    <tr>\n",
       "      <th>26</th>\n",
       "      <td>560683</td>\n",
       "      <td>187860</td>\n",
       "      <td>Assesment: This is a 59year-old female with a ...</td>\n",
       "      <td># Angioedema: Likely due to recently starting ...</td>\n",
       "    </tr>\n",
       "    <tr>\n",
       "      <th>27</th>\n",
       "      <td>560683</td>\n",
       "      <td>187860</td>\n",
       "      <td>Assesment: This is a 59year-old female with a ...</td>\n",
       "      <td># Hypothyroidism: Her outpatient dose of levot...</td>\n",
       "    </tr>\n",
       "    <tr>\n",
       "      <th>28</th>\n",
       "      <td>560683</td>\n",
       "      <td>187860</td>\n",
       "      <td>Assesment: This is a 59year-old female with a ...</td>\n",
       "      <td># Hypertension: patient intitially started on ...</td>\n",
       "    </tr>\n",
       "    <tr>\n",
       "      <th>29</th>\n",
       "      <td>560683</td>\n",
       "      <td>187860</td>\n",
       "      <td>Assesment: This is a 59year-old female with a ...</td>\n",
       "      <td># Osteoarthritis: patient usually takes OTC me...</td>\n",
       "    </tr>\n",
       "    <tr>\n",
       "      <th>30</th>\n",
       "      <td>560683</td>\n",
       "      <td>187860</td>\n",
       "      <td>Assesment: This is a 59year-old female with a ...</td>\n",
       "      <td># Lupus: stable, not currently on any treatmen...</td>\n",
       "    </tr>\n",
       "    <tr>\n",
       "      <th>31</th>\n",
       "      <td>560683</td>\n",
       "      <td>187860</td>\n",
       "      <td>Assesment: This is a 59year-old female with a ...</td>\n",
       "      <td># FEN: NPO for now until swelling resolves, IV...</td>\n",
       "    </tr>\n",
       "    <tr>\n",
       "      <th>32</th>\n",
       "      <td>560683</td>\n",
       "      <td>107891</td>\n",
       "      <td>This is a [**Age over 90 **] yo F with a histo...</td>\n",
       "      <td>Cholangitis, secondary to choledochocholelithi...</td>\n",
       "    </tr>\n",
       "    <tr>\n",
       "      <th>33</th>\n",
       "      <td>560683</td>\n",
       "      <td>107891</td>\n",
       "      <td>This is a [**Age over 90 **] yo F with a histo...</td>\n",
       "      <td>GERD: Con't home regimen of Ranitidine and PPI...</td>\n",
       "    </tr>\n",
       "    <tr>\n",
       "      <th>34</th>\n",
       "      <td>560683</td>\n",
       "      <td>107891</td>\n",
       "      <td>This is a [**Age over 90 **] yo F with a histo...</td>\n",
       "      <td>HTN: Hold current regimen for now given relati...</td>\n",
       "    </tr>\n",
       "    <tr>\n",
       "      <th>35</th>\n",
       "      <td>560683</td>\n",
       "      <td>107891</td>\n",
       "      <td>This is a [**Age over 90 **] yo F with a histo...</td>\n",
       "      <td>CKD: Currently at approximate baseline of 1.8\\...</td>\n",
       "    </tr>\n",
       "    <tr>\n",
       "      <th>36</th>\n",
       "      <td>560683</td>\n",
       "      <td>107891</td>\n",
       "      <td>This is a [**Age over 90 **] yo F with a histo...</td>\n",
       "      <td>Osteoporosis:  Raloxifene not on formulary, re...</td>\n",
       "    </tr>\n",
       "    <tr>\n",
       "      <th>37</th>\n",
       "      <td>560683</td>\n",
       "      <td>107891</td>\n",
       "      <td>This is a [**Age over 90 **] yo F with a histo...</td>\n",
       "      <td>FEN:  NPO for now\\n   .\\n   PPX:\\n   -DVT ppx ...</td>\n",
       "    </tr>\n",
       "    <tr>\n",
       "      <th>38</th>\n",
       "      <td>560683</td>\n",
       "      <td>107797</td>\n",
       "      <td>70 year old gentleman with diffuse large B cel...</td>\n",
       "      <td>Bradycardia/Prolonged QTC: unclear etiology at...</td>\n",
       "    </tr>\n",
       "    <tr>\n",
       "      <th>39</th>\n",
       "      <td>560683</td>\n",
       "      <td>107797</td>\n",
       "      <td>70 year old gentleman with diffuse large B cel...</td>\n",
       "      <td>HTN: He developed moderate hypertension in his...</td>\n",
       "    </tr>\n",
       "  </tbody>\n",
       "</table>\n",
       "</div>"
      ],
      "text/plain": [
       "    ROW ID  HADM ID                                         Assessment  \\\n",
       "0   560683   106899  Ms. [**Known lastname 3847**] is a 79F with a ...   \n",
       "1   560683   106899  Ms. [**Known lastname 3847**] is a 79F with a ...   \n",
       "2   560683   106899  Ms. [**Known lastname 3847**] is a 79F with a ...   \n",
       "3   560683   106899  Ms. [**Known lastname 3847**] is a 79F with a ...   \n",
       "4   560683   106899  Ms. [**Known lastname 3847**] is a 79F with a ...   \n",
       "5   560683   106899  Ms. [**Known lastname 3847**] is a 79F with a ...   \n",
       "6   560683   106899  Ms. [**Known lastname 3847**] is a 79F with a ...   \n",
       "7   560683   194340  ssessment and Plan\\n SEPSIS WITHOUT ORGAN DYSF...   \n",
       "8   560683   194340  ssessment and Plan\\n SEPSIS WITHOUT ORGAN DYSF...   \n",
       "9   560683   194340  ssessment and Plan\\n SEPSIS WITHOUT ORGAN DYSF...   \n",
       "10  560683   194340  ssessment and Plan\\n SEPSIS WITHOUT ORGAN DYSF...   \n",
       "11  560683   194340  ssessment and Plan\\n SEPSIS WITHOUT ORGAN DYSF...   \n",
       "12  560683   194340  ssessment and Plan\\n SEPSIS WITHOUT ORGAN DYSF...   \n",
       "13  560683   194340  ssessment and Plan\\n SEPSIS WITHOUT ORGAN DYSF...   \n",
       "14  560683   194340  ssessment and Plan\\n SEPSIS WITHOUT ORGAN DYSF...   \n",
       "15  560683   192318  Assessment and Plan Mr. [**Known lastname 512*...   \n",
       "16  560683   192318  Assessment and Plan Mr. [**Known lastname 512*...   \n",
       "17  560683   192318  Assessment and Plan Mr. [**Known lastname 512*...   \n",
       "18  560683   192318  Assessment and Plan Mr. [**Known lastname 512*...   \n",
       "19  560683   101316  85 yo female resident of [**Hospital **] rehab...   \n",
       "20  560683   101316  85 yo female resident of [**Hospital **] rehab...   \n",
       "21  560683   101316  85 yo female resident of [**Hospital **] rehab...   \n",
       "22  560683   101316  85 yo female resident of [**Hospital **] rehab...   \n",
       "23  560683   101316  85 yo female resident of [**Hospital **] rehab...   \n",
       "24  560683   101316  85 yo female resident of [**Hospital **] rehab...   \n",
       "25  560683   101316  85 yo female resident of [**Hospital **] rehab...   \n",
       "26  560683   187860  Assesment: This is a 59year-old female with a ...   \n",
       "27  560683   187860  Assesment: This is a 59year-old female with a ...   \n",
       "28  560683   187860  Assesment: This is a 59year-old female with a ...   \n",
       "29  560683   187860  Assesment: This is a 59year-old female with a ...   \n",
       "30  560683   187860  Assesment: This is a 59year-old female with a ...   \n",
       "31  560683   187860  Assesment: This is a 59year-old female with a ...   \n",
       "32  560683   107891  This is a [**Age over 90 **] yo F with a histo...   \n",
       "33  560683   107891  This is a [**Age over 90 **] yo F with a histo...   \n",
       "34  560683   107891  This is a [**Age over 90 **] yo F with a histo...   \n",
       "35  560683   107891  This is a [**Age over 90 **] yo F with a histo...   \n",
       "36  560683   107891  This is a [**Age over 90 **] yo F with a histo...   \n",
       "37  560683   107891  This is a [**Age over 90 **] yo F with a histo...   \n",
       "38  560683   107797  70 year old gentleman with diffuse large B cel...   \n",
       "39  560683   107797  70 year old gentleman with diffuse large B cel...   \n",
       "\n",
       "                                      Plan Subsection  \n",
       "0   Sepsis\\n likely has sepsis physiology with hyp...  \n",
       "1   Anuria-  Renal consulted for anuria- consideri...  \n",
       "2   R pleural effusion: Unilateral nature in the s...  \n",
       "3   DM/hypoglycemia: possibly from not clearing me...  \n",
       "4       S/p recent femur fracture: held SQH overnight  \n",
       "5   Chronic anemia: stable at baseline, ?thalesemi...  \n",
       "6   # FEN: NG tube\\n   # PPx: SC hep, IV ppi, bowe...  \n",
       "7   #. Sepsis: Patient has re-developed fevers on ...  \n",
       "8   #. Volume status/Chronic systolic HF- As evide...  \n",
       "9   #. Peripheral arterial disease: will follow up...  \n",
       "10  #. Insulin dependent diabetes: continue ISS wi...  \n",
       "11  #. Hypertension: hold antihypertensives while ...  \n",
       "12  #. Peripheral arterial disease: s/p recent rig...  \n",
       "13  #. Hyperlipidemia: not currently on a statin, ...  \n",
       "14  CU Care\\n   Nutrition:\\n   Glycemic Control:\\n...  \n",
       "15  # Food impaction. The patient gives a history ...  \n",
       "16  Opacity on CXR. Concerning for aspiration pneu...  \n",
       "17  # Hypertension. Patient hypertensive on floor ...  \n",
       "18  # FEN: No IVF, replete electrolytes, NPO overn...  \n",
       "19  Dyspnea, leukocytosis, subtle RML consolidatio...  \n",
       "20  Fever, obstructing ureteral stone on CT: After...  \n",
       "21  Tachycardia: Likely in the setting of dehydrat...  \n",
       "22  Renal failure: Cre at baseline post bladder de...  \n",
       "23  Urinary retention: Ddx include medication effe...  \n",
       "24                           Hyperglycemia:\\n   - ISS  \n",
       "25  FEN: No IVF, replete electrolytes, regular die...  \n",
       "26  # Angioedema: Likely due to recently starting ...  \n",
       "27  # Hypothyroidism: Her outpatient dose of levot...  \n",
       "28  # Hypertension: patient intitially started on ...  \n",
       "29  # Osteoarthritis: patient usually takes OTC me...  \n",
       "30  # Lupus: stable, not currently on any treatmen...  \n",
       "31  # FEN: NPO for now until swelling resolves, IV...  \n",
       "32  Cholangitis, secondary to choledochocholelithi...  \n",
       "33  GERD: Con't home regimen of Ranitidine and PPI...  \n",
       "34  HTN: Hold current regimen for now given relati...  \n",
       "35  CKD: Currently at approximate baseline of 1.8\\...  \n",
       "36  Osteoporosis:  Raloxifene not on formulary, re...  \n",
       "37  FEN:  NPO for now\\n   .\\n   PPX:\\n   -DVT ppx ...  \n",
       "38  Bradycardia/Prolonged QTC: unclear etiology at...  \n",
       "39  HTN: He developed moderate hypertension in his...  "
      ]
     },
     "execution_count": 147,
     "metadata": {},
     "output_type": "execute_result"
    }
   ],
   "source": [
    "df_test_raw.head(40)"
   ]
  },
  {
   "cell_type": "markdown",
   "id": "038217f1",
   "metadata": {},
   "source": [
    "- Append arbitrary labels so our code can deal with"
   ]
  },
  {
   "cell_type": "code",
   "execution_count": 75,
   "id": "2100e970",
   "metadata": {},
   "outputs": [],
   "source": [
    "# Append arbitrary labels\n",
    "df_test_raw['Relation'] = ['Direct'] * len(df_test_raw)"
   ]
  },
  {
   "cell_type": "code",
   "execution_count": 76,
   "id": "8f4e0395",
   "metadata": {},
   "outputs": [
    {
     "data": {
      "text/html": [
       "<div>\n",
       "<style scoped>\n",
       "    .dataframe tbody tr th:only-of-type {\n",
       "        vertical-align: middle;\n",
       "    }\n",
       "\n",
       "    .dataframe tbody tr th {\n",
       "        vertical-align: top;\n",
       "    }\n",
       "\n",
       "    .dataframe thead th {\n",
       "        text-align: right;\n",
       "    }\n",
       "</style>\n",
       "<table border=\"1\" class=\"dataframe\">\n",
       "  <thead>\n",
       "    <tr style=\"text-align: right;\">\n",
       "      <th></th>\n",
       "      <th>ROW ID</th>\n",
       "      <th>HADM ID</th>\n",
       "      <th>Assessment</th>\n",
       "      <th>Plan Subsection</th>\n",
       "      <th>Relation</th>\n",
       "    </tr>\n",
       "  </thead>\n",
       "  <tbody>\n",
       "    <tr>\n",
       "      <th>0</th>\n",
       "      <td>560683</td>\n",
       "      <td>106899</td>\n",
       "      <td>Ms. [**Known lastname 3847**] is a 79F with a ...</td>\n",
       "      <td>Sepsis\\n likely has sepsis physiology with hyp...</td>\n",
       "      <td>Direct</td>\n",
       "    </tr>\n",
       "    <tr>\n",
       "      <th>1</th>\n",
       "      <td>560683</td>\n",
       "      <td>106899</td>\n",
       "      <td>Ms. [**Known lastname 3847**] is a 79F with a ...</td>\n",
       "      <td>Anuria-  Renal consulted for anuria- consideri...</td>\n",
       "      <td>Direct</td>\n",
       "    </tr>\n",
       "    <tr>\n",
       "      <th>2</th>\n",
       "      <td>560683</td>\n",
       "      <td>106899</td>\n",
       "      <td>Ms. [**Known lastname 3847**] is a 79F with a ...</td>\n",
       "      <td>R pleural effusion: Unilateral nature in the s...</td>\n",
       "      <td>Direct</td>\n",
       "    </tr>\n",
       "    <tr>\n",
       "      <th>3</th>\n",
       "      <td>560683</td>\n",
       "      <td>106899</td>\n",
       "      <td>Ms. [**Known lastname 3847**] is a 79F with a ...</td>\n",
       "      <td>DM/hypoglycemia: possibly from not clearing me...</td>\n",
       "      <td>Direct</td>\n",
       "    </tr>\n",
       "    <tr>\n",
       "      <th>4</th>\n",
       "      <td>560683</td>\n",
       "      <td>106899</td>\n",
       "      <td>Ms. [**Known lastname 3847**] is a 79F with a ...</td>\n",
       "      <td>S/p recent femur fracture: held SQH overnight</td>\n",
       "      <td>Direct</td>\n",
       "    </tr>\n",
       "  </tbody>\n",
       "</table>\n",
       "</div>"
      ],
      "text/plain": [
       "   ROW ID  HADM ID                                         Assessment  \\\n",
       "0  560683   106899  Ms. [**Known lastname 3847**] is a 79F with a ...   \n",
       "1  560683   106899  Ms. [**Known lastname 3847**] is a 79F with a ...   \n",
       "2  560683   106899  Ms. [**Known lastname 3847**] is a 79F with a ...   \n",
       "3  560683   106899  Ms. [**Known lastname 3847**] is a 79F with a ...   \n",
       "4  560683   106899  Ms. [**Known lastname 3847**] is a 79F with a ...   \n",
       "\n",
       "                                     Plan Subsection Relation  \n",
       "0  Sepsis\\n likely has sepsis physiology with hyp...   Direct  \n",
       "1  Anuria-  Renal consulted for anuria- consideri...   Direct  \n",
       "2  R pleural effusion: Unilateral nature in the s...   Direct  \n",
       "3  DM/hypoglycemia: possibly from not clearing me...   Direct  \n",
       "4      S/p recent femur fracture: held SQH overnight   Direct  "
      ]
     },
     "execution_count": 76,
     "metadata": {},
     "output_type": "execute_result"
    }
   ],
   "source": [
    "df_test_raw.head()"
   ]
  },
  {
   "cell_type": "code",
   "execution_count": 70,
   "id": "1ae53649",
   "metadata": {},
   "outputs": [],
   "source": [
    "df_test_raw.to_csv(os.path.join(input_dir, 'test.csv'), index=False)"
   ]
  },
  {
   "cell_type": "markdown",
   "id": "bb8f874b",
   "metadata": {},
   "source": [
    "- Note augmentation"
   ]
  },
  {
   "cell_type": "code",
   "execution_count": 77,
   "id": "ae8f1b5b",
   "metadata": {},
   "outputs": [
    {
     "name": "stdout",
     "output_type": "stream",
     "text": [
      "Total  : 667\n",
      "ROW ID : 1\n",
      "HADM ID: 86\n"
     ]
    }
   ],
   "source": [
    "# Basic statistics\n",
    "print(f'Total  : {len(df_test_raw)}')\n",
    "print(f'ROW ID : {len(df_test_raw[\"ROW ID\"].unique())}')\n",
    "print(f'HADM ID: {len(df_test_raw[\"HADM ID\"].unique())}')"
   ]
  },
  {
   "cell_type": "code",
   "execution_count": 84,
   "id": "8ca2c8d0",
   "metadata": {},
   "outputs": [],
   "source": [
    "# Assert that HADM IDs are not leaked\n",
    "assert len(set(df_test_raw[\"HADM ID\"]) & set(df_train[\"HADM ID\"])) == 0\n",
    "assert len(set(df_test_raw[\"HADM ID\"]) & set(df_dev[\"HADM ID\"])) == 0"
   ]
  },
  {
   "cell_type": "code",
   "execution_count": 101,
   "id": "8b8a9146",
   "metadata": {
    "scrolled": true
   },
   "outputs": [
    {
     "data": {
      "application/vnd.jupyter.widget-view+json": {
       "model_id": "216068cc90154687a34ee32c358655ab",
       "version_major": 2,
       "version_minor": 0
      },
      "text/plain": [
       "  0%|          | 0/86 [00:00<?, ?it/s]"
      ]
     },
     "metadata": {},
     "output_type": "display_data"
    },
    {
     "name": "stdout",
     "output_type": "stream",
     "text": [
      "106899: DS O [560683]\n",
      "194340: DS O [388450]\n",
      "192318: DS O [734294]\n",
      "101316: DS O [590986]\n",
      "187860: DS O [536764, 536812, 536813]\n",
      "107891: DS O [496232]\n",
      "107797: DS O [326076]\n",
      "103490: DS O [575527]\n",
      "196422: DS O [374147]\n",
      "149247: DS O [372604]\n",
      "194006: DS O [684855]\n",
      "102155: DS O [325575]\n",
      "102666: DS O [708981, 708945]\n",
      "103060: DS O [485211, 485251]\n",
      "101787: DS O [406946, 406936]\n",
      "102942: DS O [456939]\n",
      "195911: DS X [543730, 543669, 543674]\n",
      "198668: DS O [716153]\n",
      "101125: DS O [495225, 495430]\n",
      "188033: DS O [532722]\n",
      "186658: DS O [550561, 550559]\n",
      "195702: DS O [390593, 390607, 390592, 390653]\n",
      "107256: DS O [371368]\n",
      "188969: DS O [338963]\n",
      "187621: DS O [436236]\n",
      "197588: DS O [585787]\n",
      "196864: DS O [475581]\n",
      "197368: DS O [674436, 674461]\n",
      "190934: DS O [391789]\n",
      "199574: DS O [393126]\n",
      "110899: DS O [631611]\n",
      "100469: DS O [412508]\n",
      "112153: DS O [351946]\n",
      "104726: DS O [541342]\n",
      "106374: DS O [344441]\n",
      "109415: DS O [586980, 586975]\n",
      "103926: DS O [560387, 560388, 560321]\n",
      "112342: DS O [516144, 516319]\n",
      "104840: DS O [409149, 409154]\n",
      "148131: DS O [626930, 626918]\n",
      "193317: DS O [386274, 386284]\n",
      "198706: DS O [705172]\n",
      "194627: DS O [700405]\n",
      "189339: DS O [314981]\n",
      "103701: DS O [700758]\n",
      "190862: DS O [637283]\n",
      "100873: DS O [717895]\n",
      "107077: DS O [611225]\n",
      "149724: DS O [443875]\n",
      "192231: DS O [693114, 693099]\n",
      "189583: DS O [580915, 580950]\n",
      "191494: DS O [335338, 335321]\n",
      "188145: DS O [410347, 410349]\n",
      "193156: DS O [333814, 333862]\n",
      "103718: DS O [542952]\n",
      "193271: DS O [647552]\n",
      "191527: DS O [717179]\n",
      "184452: DS O [633409]\n",
      "101216: DS O [354438]\n",
      "109958: DS O [338264]\n",
      "192929: DS O [693137]\n",
      "188349: DS O [586330]\n",
      "106339: DS O [335296, 335356]\n",
      "149915: DS O [722576, 722562]\n",
      "100791: DS O [730484, 730449]\n",
      "197117: DS O [479427]\n",
      "187101: DS O [366145, 366119, 366123]\n",
      "103746: DS O [368259]\n",
      "104979: DS O [687659]\n",
      "100746: DS O [568815]\n",
      "108098: DS O [638122]\n",
      "190327: DS O [449139, 449140]\n",
      "199631: DS O [717711, 717773]\n",
      "102566: DS O [734578, 734579]\n",
      "187466: DS O [493340, 493409]\n",
      "103030: DS O [582970]\n",
      "108289: DS O [543720]\n",
      "111331: DS O [465995, 465949]\n",
      "193525: DS O [444498]\n",
      "189271: DS O [602201]\n",
      "102589: DS O [609361]\n",
      "100659: DS O [464524]\n",
      "196033: DS O [479209, 479242]\n",
      "195487: DS O [451407]\n",
      "106790: DS O [517972]\n",
      "196558: DS O [688859]\n"
     ]
    }
   ],
   "source": [
    "hadm_row_dict = {}\n",
    "ds_hadm_id_set = set(df_ds.HADM_ID.unique())\n",
    "\n",
    "for hadm_id in tqdm(df_test_raw[\"HADM ID\"].unique()):\n",
    "    df_notes2 = df_notes[df_notes.HADM_ID == hadm_id]\n",
    "    df_ex = df_test_raw[df_test_raw[\"HADM ID\"] == hadm_id]\n",
    "    assert len(df_ex['Assessment'].unique()) == 1\n",
    "    text_to_check = [row['Plan Subsection'] for _, row in df_ex.iterrows()] + [df_ex.iloc[0]['Assessment']]\n",
    "\n",
    "    found_row_ids = []\n",
    "    for i, row_note in df_notes2.iterrows():\n",
    "        note = row_note.TEXT\n",
    "        found = True\n",
    "        for text in text_to_check:\n",
    "            if text not in note:\n",
    "                found = False\n",
    "                break\n",
    "        if found:\n",
    "            found_row_ids.append(row_note.ROW_ID)\n",
    "            \n",
    "    if found_row_ids:\n",
    "        hadm_row_dict[hadm_id] = found_row_ids\n",
    "    else:\n",
    "        raise ValueError()\n",
    "        \n",
    "    print(f'{hadm_id}: {\"DS \" + (\"O\" if hadm_id in ds_hadm_id_set else \"X\")} {found_row_ids}')"
   ]
  },
  {
   "cell_type": "code",
   "execution_count": 137,
   "id": "e15d2321",
   "metadata": {},
   "outputs": [
    {
     "data": {
      "application/vnd.jupyter.widget-view+json": {
       "model_id": "7cb9ca45a177419a83aa5d4ca6bb9df8",
       "version_major": 2,
       "version_minor": 0
      },
      "text/plain": [
       "  0%|          | 0/667 [00:00<?, ?it/s]"
      ]
     },
     "metadata": {},
     "output_type": "display_data"
    }
   ],
   "source": [
    "test_no_ds_cnt = 0\n",
    "test_additional_data = {name: [] for name in all_section_names}\n",
    "for i, row in tqdm(df_test_raw.iterrows(), total=len(df_test_raw)):\n",
    "    note = get_discharge_summary(row['HADM ID'])\n",
    "    section_dict = extract_sections(note)\n",
    "    for name, section in section_dict.items():\n",
    "        test_additional_data[name].append(section)\n",
    "    test_no_ds_cnt += 1 if not note else 0"
   ]
  },
  {
   "cell_type": "code",
   "execution_count": 138,
   "id": "43793229",
   "metadata": {},
   "outputs": [],
   "source": [
    "df_test2 = df_test_raw.copy()\n",
    "row_ids = [hadm_sections_dict[row_ex['HADM ID']][0] for _, row_ex in df_test2.iterrows()]\n",
    "subject_ids = [hadm_sections_dict[row_ex['HADM ID']][0] for _, row_ex in df_test2.iterrows()]\n",
    "df_test2['ROW ID'] = row_ids\n",
    "df_test2.insert(loc=2, column=\"SUBJECT ID\", value=subject_ids)\n",
    "\n",
    "for i, (name, sections) in enumerate(test_additional_data.items()):\n",
    "    df_test2.insert(loc=5 + i, column=name, value=sections)"
   ]
  },
  {
   "cell_type": "code",
   "execution_count": 139,
   "id": "d7a9a28f",
   "metadata": {},
   "outputs": [
    {
     "data": {
      "text/html": [
       "<div>\n",
       "<style scoped>\n",
       "    .dataframe tbody tr th:only-of-type {\n",
       "        vertical-align: middle;\n",
       "    }\n",
       "\n",
       "    .dataframe tbody tr th {\n",
       "        vertical-align: top;\n",
       "    }\n",
       "\n",
       "    .dataframe thead th {\n",
       "        text-align: right;\n",
       "    }\n",
       "</style>\n",
       "<table border=\"1\" class=\"dataframe\">\n",
       "  <thead>\n",
       "    <tr style=\"text-align: right;\">\n",
       "      <th></th>\n",
       "      <th>ROW ID</th>\n",
       "      <th>HADM ID</th>\n",
       "      <th>SUBJECT ID</th>\n",
       "      <th>Assessment</th>\n",
       "      <th>Plan Subsection</th>\n",
       "      <th>present_history</th>\n",
       "      <th>chief_complaint</th>\n",
       "      <th>hospital_course</th>\n",
       "      <th>Relation</th>\n",
       "    </tr>\n",
       "  </thead>\n",
       "  <tbody>\n",
       "    <tr>\n",
       "      <th>0</th>\n",
       "      <td>35704</td>\n",
       "      <td>106899</td>\n",
       "      <td>35704</td>\n",
       "      <td>Ms. [**Known lastname 3847**] is a 79F with a ...</td>\n",
       "      <td>Sepsis\\n likely has sepsis physiology with hyp...</td>\n",
       "      <td>History of Present Illness:\\nMs. [**Known last...</td>\n",
       "      <td>Chief Complaint:\\nDehydration\\n</td>\n",
       "      <td>Brief Hospital Course:\\nMs. [**Known lastname ...</td>\n",
       "      <td>Direct</td>\n",
       "    </tr>\n",
       "    <tr>\n",
       "      <th>1</th>\n",
       "      <td>35704</td>\n",
       "      <td>106899</td>\n",
       "      <td>35704</td>\n",
       "      <td>Ms. [**Known lastname 3847**] is a 79F with a ...</td>\n",
       "      <td>Anuria-  Renal consulted for anuria- consideri...</td>\n",
       "      <td>History of Present Illness:\\nMs. [**Known last...</td>\n",
       "      <td>Chief Complaint:\\nDehydration\\n</td>\n",
       "      <td>Brief Hospital Course:\\nMs. [**Known lastname ...</td>\n",
       "      <td>Direct</td>\n",
       "    </tr>\n",
       "    <tr>\n",
       "      <th>2</th>\n",
       "      <td>35704</td>\n",
       "      <td>106899</td>\n",
       "      <td>35704</td>\n",
       "      <td>Ms. [**Known lastname 3847**] is a 79F with a ...</td>\n",
       "      <td>R pleural effusion: Unilateral nature in the s...</td>\n",
       "      <td>History of Present Illness:\\nMs. [**Known last...</td>\n",
       "      <td>Chief Complaint:\\nDehydration\\n</td>\n",
       "      <td>Brief Hospital Course:\\nMs. [**Known lastname ...</td>\n",
       "      <td>Direct</td>\n",
       "    </tr>\n",
       "    <tr>\n",
       "      <th>3</th>\n",
       "      <td>35704</td>\n",
       "      <td>106899</td>\n",
       "      <td>35704</td>\n",
       "      <td>Ms. [**Known lastname 3847**] is a 79F with a ...</td>\n",
       "      <td>DM/hypoglycemia: possibly from not clearing me...</td>\n",
       "      <td>History of Present Illness:\\nMs. [**Known last...</td>\n",
       "      <td>Chief Complaint:\\nDehydration\\n</td>\n",
       "      <td>Brief Hospital Course:\\nMs. [**Known lastname ...</td>\n",
       "      <td>Direct</td>\n",
       "    </tr>\n",
       "    <tr>\n",
       "      <th>4</th>\n",
       "      <td>35704</td>\n",
       "      <td>106899</td>\n",
       "      <td>35704</td>\n",
       "      <td>Ms. [**Known lastname 3847**] is a 79F with a ...</td>\n",
       "      <td>S/p recent femur fracture: held SQH overnight</td>\n",
       "      <td>History of Present Illness:\\nMs. [**Known last...</td>\n",
       "      <td>Chief Complaint:\\nDehydration\\n</td>\n",
       "      <td>Brief Hospital Course:\\nMs. [**Known lastname ...</td>\n",
       "      <td>Direct</td>\n",
       "    </tr>\n",
       "  </tbody>\n",
       "</table>\n",
       "</div>"
      ],
      "text/plain": [
       "   ROW ID  HADM ID  SUBJECT ID  \\\n",
       "0   35704   106899       35704   \n",
       "1   35704   106899       35704   \n",
       "2   35704   106899       35704   \n",
       "3   35704   106899       35704   \n",
       "4   35704   106899       35704   \n",
       "\n",
       "                                          Assessment  \\\n",
       "0  Ms. [**Known lastname 3847**] is a 79F with a ...   \n",
       "1  Ms. [**Known lastname 3847**] is a 79F with a ...   \n",
       "2  Ms. [**Known lastname 3847**] is a 79F with a ...   \n",
       "3  Ms. [**Known lastname 3847**] is a 79F with a ...   \n",
       "4  Ms. [**Known lastname 3847**] is a 79F with a ...   \n",
       "\n",
       "                                     Plan Subsection  \\\n",
       "0  Sepsis\\n likely has sepsis physiology with hyp...   \n",
       "1  Anuria-  Renal consulted for anuria- consideri...   \n",
       "2  R pleural effusion: Unilateral nature in the s...   \n",
       "3  DM/hypoglycemia: possibly from not clearing me...   \n",
       "4      S/p recent femur fracture: held SQH overnight   \n",
       "\n",
       "                                     present_history  \\\n",
       "0  History of Present Illness:\\nMs. [**Known last...   \n",
       "1  History of Present Illness:\\nMs. [**Known last...   \n",
       "2  History of Present Illness:\\nMs. [**Known last...   \n",
       "3  History of Present Illness:\\nMs. [**Known last...   \n",
       "4  History of Present Illness:\\nMs. [**Known last...   \n",
       "\n",
       "                   chief_complaint  \\\n",
       "0  Chief Complaint:\\nDehydration\\n   \n",
       "1  Chief Complaint:\\nDehydration\\n   \n",
       "2  Chief Complaint:\\nDehydration\\n   \n",
       "3  Chief Complaint:\\nDehydration\\n   \n",
       "4  Chief Complaint:\\nDehydration\\n   \n",
       "\n",
       "                                     hospital_course Relation  \n",
       "0  Brief Hospital Course:\\nMs. [**Known lastname ...   Direct  \n",
       "1  Brief Hospital Course:\\nMs. [**Known lastname ...   Direct  \n",
       "2  Brief Hospital Course:\\nMs. [**Known lastname ...   Direct  \n",
       "3  Brief Hospital Course:\\nMs. [**Known lastname ...   Direct  \n",
       "4  Brief Hospital Course:\\nMs. [**Known lastname ...   Direct  "
      ]
     },
     "execution_count": 139,
     "metadata": {},
     "output_type": "execute_result"
    }
   ],
   "source": [
    "df_test2.head()"
   ]
  },
  {
   "cell_type": "code",
   "execution_count": 140,
   "id": "80950313",
   "metadata": {},
   "outputs": [],
   "source": [
    "df_test2.to_csv(os.path.join(output_dir, 'test.csv'), index=False)"
   ]
  },
  {
   "cell_type": "code",
   "execution_count": null,
   "id": "89d85cf2",
   "metadata": {},
   "outputs": [],
   "source": []
  },
  {
   "cell_type": "code",
   "execution_count": null,
   "id": "63461ea2",
   "metadata": {},
   "outputs": [],
   "source": []
  },
  {
   "cell_type": "markdown",
   "id": "0e9c896f",
   "metadata": {},
   "source": [
    "## Appendix: examples"
   ]
  },
  {
   "cell_type": "code",
   "execution_count": 174,
   "id": "c8bacbb4",
   "metadata": {
    "scrolled": true
   },
   "outputs": [
    {
     "data": {
      "text/html": [
       "<div>\n",
       "<style scoped>\n",
       "    .dataframe tbody tr th:only-of-type {\n",
       "        vertical-align: middle;\n",
       "    }\n",
       "\n",
       "    .dataframe tbody tr th {\n",
       "        vertical-align: top;\n",
       "    }\n",
       "\n",
       "    .dataframe thead th {\n",
       "        text-align: right;\n",
       "    }\n",
       "</style>\n",
       "<table border=\"1\" class=\"dataframe\">\n",
       "  <thead>\n",
       "    <tr style=\"text-align: right;\">\n",
       "      <th></th>\n",
       "      <th>ROW ID</th>\n",
       "      <th>HADM ID</th>\n",
       "      <th>SUBJECT ID</th>\n",
       "      <th>Assessment</th>\n",
       "      <th>Plan Subsection</th>\n",
       "      <th>present_history</th>\n",
       "      <th>chief_complaint</th>\n",
       "      <th>hospital_course</th>\n",
       "      <th>Relation</th>\n",
       "    </tr>\n",
       "  </thead>\n",
       "  <tbody>\n",
       "    <tr>\n",
       "      <th>0</th>\n",
       "      <td>701531</td>\n",
       "      <td>186454</td>\n",
       "      <td>40514</td>\n",
       "      <td>51 yr old F with a history of 3V CAD, confirme...</td>\n",
       "      <td># CORONARIES: Patient with 3 vessel disease on...</td>\n",
       "      <td>History of Present Illness:\\n51 year male that...</td>\n",
       "      <td>Chief Complaint:\\nChest pain\\n</td>\n",
       "      <td>Brief Hospital Course:\\nTransferred from outsi...</td>\n",
       "      <td>Direct</td>\n",
       "    </tr>\n",
       "    <tr>\n",
       "      <th>1</th>\n",
       "      <td>701531</td>\n",
       "      <td>186454</td>\n",
       "      <td>40514</td>\n",
       "      <td>51 yr old F with a history of 3V CAD, confirme...</td>\n",
       "      <td># Acute on Chronic systolic CHF: Patient with ...</td>\n",
       "      <td>History of Present Illness:\\n51 year male that...</td>\n",
       "      <td>Chief Complaint:\\nChest pain\\n</td>\n",
       "      <td>Brief Hospital Course:\\nTransferred from outsi...</td>\n",
       "      <td>Indirect</td>\n",
       "    </tr>\n",
       "    <tr>\n",
       "      <th>2</th>\n",
       "      <td>701531</td>\n",
       "      <td>186454</td>\n",
       "      <td>40514</td>\n",
       "      <td>51 yr old F with a history of 3V CAD, confirme...</td>\n",
       "      <td># Social stressors: Recently lost mother to ca...</td>\n",
       "      <td>History of Present Illness:\\n51 year male that...</td>\n",
       "      <td>Chief Complaint:\\nChest pain\\n</td>\n",
       "      <td>Brief Hospital Course:\\nTransferred from outsi...</td>\n",
       "      <td>Neither</td>\n",
       "    </tr>\n",
       "    <tr>\n",
       "      <th>3</th>\n",
       "      <td>701531</td>\n",
       "      <td>186454</td>\n",
       "      <td>40514</td>\n",
       "      <td>51 yr old F with a history of 3V CAD, confirme...</td>\n",
       "      <td># FEN: Replete lytes PRN, NPO for CABG today\\n...</td>\n",
       "      <td>History of Present Illness:\\n51 year male that...</td>\n",
       "      <td>Chief Complaint:\\nChest pain\\n</td>\n",
       "      <td>Brief Hospital Course:\\nTransferred from outsi...</td>\n",
       "      <td>Not Relevant</td>\n",
       "    </tr>\n",
       "    <tr>\n",
       "      <th>4</th>\n",
       "      <td>554204</td>\n",
       "      <td>196435</td>\n",
       "      <td>85490</td>\n",
       "      <td>CHRONIC OBSTRUCTIVE PULMONARY DISEASE (COPD, B...</td>\n",
       "      <td># Dyspnea: Differential in this patient would ...</td>\n",
       "      <td>History of Present Illness:\\n57 y/o man with a...</td>\n",
       "      <td>Chief Complaint:\\nDyspnea\\n</td>\n",
       "      <td>Brief Hospital Course:\\n57 y/o man with long s...</td>\n",
       "      <td>Direct</td>\n",
       "    </tr>\n",
       "    <tr>\n",
       "      <th>...</th>\n",
       "      <td>...</td>\n",
       "      <td>...</td>\n",
       "      <td>...</td>\n",
       "      <td>...</td>\n",
       "      <td>...</td>\n",
       "      <td>...</td>\n",
       "      <td>...</td>\n",
       "      <td>...</td>\n",
       "      <td>...</td>\n",
       "    </tr>\n",
       "    <tr>\n",
       "      <th>4628</th>\n",
       "      <td>548032</td>\n",
       "      <td>148906</td>\n",
       "      <td>55750</td>\n",
       "      <td>The patient is a 71 year old female with a his...</td>\n",
       "      <td>Polymyositis: On long term prednisone\\n   - co...</td>\n",
       "      <td>History of Present Illness:\\n71 year old woman...</td>\n",
       "      <td>Chief Complaint:\\nNSTEMI\\n</td>\n",
       "      <td>Brief Hospital Course:\\nPatient is a 71 yo F a...</td>\n",
       "      <td>Neither</td>\n",
       "    </tr>\n",
       "    <tr>\n",
       "      <th>4629</th>\n",
       "      <td>548032</td>\n",
       "      <td>148906</td>\n",
       "      <td>55750</td>\n",
       "      <td>The patient is a 71 year old female with a his...</td>\n",
       "      <td>Diabetes Type II: Cover with sliding scale\\n   .</td>\n",
       "      <td>History of Present Illness:\\n71 year old woman...</td>\n",
       "      <td>Chief Complaint:\\nNSTEMI\\n</td>\n",
       "      <td>Brief Hospital Course:\\nPatient is a 71 yo F a...</td>\n",
       "      <td>Indirect</td>\n",
       "    </tr>\n",
       "    <tr>\n",
       "      <th>4630</th>\n",
       "      <td>548032</td>\n",
       "      <td>148906</td>\n",
       "      <td>55750</td>\n",
       "      <td>The patient is a 71 year old female with a his...</td>\n",
       "      <td>COPD: Continue home medications\\n   .</td>\n",
       "      <td>History of Present Illness:\\n71 year old woman...</td>\n",
       "      <td>Chief Complaint:\\nNSTEMI\\n</td>\n",
       "      <td>Brief Hospital Course:\\nPatient is a 71 yo F a...</td>\n",
       "      <td>Indirect</td>\n",
       "    </tr>\n",
       "    <tr>\n",
       "      <th>4631</th>\n",
       "      <td>548032</td>\n",
       "      <td>148906</td>\n",
       "      <td>55750</td>\n",
       "      <td>The patient is a 71 year old female with a his...</td>\n",
       "      <td>Anxiety: Continue home medications, but holdin...</td>\n",
       "      <td>History of Present Illness:\\n71 year old woman...</td>\n",
       "      <td>Chief Complaint:\\nNSTEMI\\n</td>\n",
       "      <td>Brief Hospital Course:\\nPatient is a 71 yo F a...</td>\n",
       "      <td>Neither</td>\n",
       "    </tr>\n",
       "    <tr>\n",
       "      <th>4632</th>\n",
       "      <td>548032</td>\n",
       "      <td>148906</td>\n",
       "      <td>55750</td>\n",
       "      <td>The patient is a 71 year old female with a his...</td>\n",
       "      <td>FEN:  Soft diet with thin liquids, heart healt...</td>\n",
       "      <td>History of Present Illness:\\n71 year old woman...</td>\n",
       "      <td>Chief Complaint:\\nNSTEMI\\n</td>\n",
       "      <td>Brief Hospital Course:\\nPatient is a 71 yo F a...</td>\n",
       "      <td>Not Relevant</td>\n",
       "    </tr>\n",
       "  </tbody>\n",
       "</table>\n",
       "<p>4633 rows × 9 columns</p>\n",
       "</div>"
      ],
      "text/plain": [
       "      ROW ID  HADM ID  SUBJECT ID  \\\n",
       "0     701531   186454       40514   \n",
       "1     701531   186454       40514   \n",
       "2     701531   186454       40514   \n",
       "3     701531   186454       40514   \n",
       "4     554204   196435       85490   \n",
       "...      ...      ...         ...   \n",
       "4628  548032   148906       55750   \n",
       "4629  548032   148906       55750   \n",
       "4630  548032   148906       55750   \n",
       "4631  548032   148906       55750   \n",
       "4632  548032   148906       55750   \n",
       "\n",
       "                                             Assessment  \\\n",
       "0     51 yr old F with a history of 3V CAD, confirme...   \n",
       "1     51 yr old F with a history of 3V CAD, confirme...   \n",
       "2     51 yr old F with a history of 3V CAD, confirme...   \n",
       "3     51 yr old F with a history of 3V CAD, confirme...   \n",
       "4     CHRONIC OBSTRUCTIVE PULMONARY DISEASE (COPD, B...   \n",
       "...                                                 ...   \n",
       "4628  The patient is a 71 year old female with a his...   \n",
       "4629  The patient is a 71 year old female with a his...   \n",
       "4630  The patient is a 71 year old female with a his...   \n",
       "4631  The patient is a 71 year old female with a his...   \n",
       "4632  The patient is a 71 year old female with a his...   \n",
       "\n",
       "                                        Plan Subsection  \\\n",
       "0     # CORONARIES: Patient with 3 vessel disease on...   \n",
       "1     # Acute on Chronic systolic CHF: Patient with ...   \n",
       "2     # Social stressors: Recently lost mother to ca...   \n",
       "3     # FEN: Replete lytes PRN, NPO for CABG today\\n...   \n",
       "4     # Dyspnea: Differential in this patient would ...   \n",
       "...                                                 ...   \n",
       "4628  Polymyositis: On long term prednisone\\n   - co...   \n",
       "4629   Diabetes Type II: Cover with sliding scale\\n   .   \n",
       "4630              COPD: Continue home medications\\n   .   \n",
       "4631  Anxiety: Continue home medications, but holdin...   \n",
       "4632  FEN:  Soft diet with thin liquids, heart healt...   \n",
       "\n",
       "                                        present_history  \\\n",
       "0     History of Present Illness:\\n51 year male that...   \n",
       "1     History of Present Illness:\\n51 year male that...   \n",
       "2     History of Present Illness:\\n51 year male that...   \n",
       "3     History of Present Illness:\\n51 year male that...   \n",
       "4     History of Present Illness:\\n57 y/o man with a...   \n",
       "...                                                 ...   \n",
       "4628  History of Present Illness:\\n71 year old woman...   \n",
       "4629  History of Present Illness:\\n71 year old woman...   \n",
       "4630  History of Present Illness:\\n71 year old woman...   \n",
       "4631  History of Present Illness:\\n71 year old woman...   \n",
       "4632  History of Present Illness:\\n71 year old woman...   \n",
       "\n",
       "                     chief_complaint  \\\n",
       "0     Chief Complaint:\\nChest pain\\n   \n",
       "1     Chief Complaint:\\nChest pain\\n   \n",
       "2     Chief Complaint:\\nChest pain\\n   \n",
       "3     Chief Complaint:\\nChest pain\\n   \n",
       "4        Chief Complaint:\\nDyspnea\\n   \n",
       "...                              ...   \n",
       "4628      Chief Complaint:\\nNSTEMI\\n   \n",
       "4629      Chief Complaint:\\nNSTEMI\\n   \n",
       "4630      Chief Complaint:\\nNSTEMI\\n   \n",
       "4631      Chief Complaint:\\nNSTEMI\\n   \n",
       "4632      Chief Complaint:\\nNSTEMI\\n   \n",
       "\n",
       "                                        hospital_course      Relation  \n",
       "0     Brief Hospital Course:\\nTransferred from outsi...        Direct  \n",
       "1     Brief Hospital Course:\\nTransferred from outsi...      Indirect  \n",
       "2     Brief Hospital Course:\\nTransferred from outsi...       Neither  \n",
       "3     Brief Hospital Course:\\nTransferred from outsi...  Not Relevant  \n",
       "4     Brief Hospital Course:\\n57 y/o man with long s...        Direct  \n",
       "...                                                 ...           ...  \n",
       "4628  Brief Hospital Course:\\nPatient is a 71 yo F a...       Neither  \n",
       "4629  Brief Hospital Course:\\nPatient is a 71 yo F a...      Indirect  \n",
       "4630  Brief Hospital Course:\\nPatient is a 71 yo F a...      Indirect  \n",
       "4631  Brief Hospital Course:\\nPatient is a 71 yo F a...       Neither  \n",
       "4632  Brief Hospital Course:\\nPatient is a 71 yo F a...  Not Relevant  \n",
       "\n",
       "[4633 rows x 9 columns]"
      ]
     },
     "execution_count": 174,
     "metadata": {},
     "output_type": "execute_result"
    }
   ],
   "source": [
    "df_train2"
   ]
  },
  {
   "cell_type": "code",
   "execution_count": 228,
   "id": "128819e8",
   "metadata": {
    "scrolled": false
   },
   "outputs": [
    {
     "name": "stdout",
     "output_type": "stream",
     "text": [
      "Patient is a 58 year old male with history of atrial fibrillation on\n",
      "   coumadin, hyperlipidemia, hypertension, peripheral vascular disease,\n",
      "   s/p CVA who presented to [**Hospital3 847**] on [**2185-3-2**] with heart\n",
      "   failure exacerbation and atrial fibrillation with RVR, transferred due\n",
      "   to difficulty with diuresis [**2-7**] hypotension.\n"
     ]
    }
   ],
   "source": [
    "print(df_train2.iloc[123]['Assessment'])"
   ]
  },
  {
   "cell_type": "code",
   "execution_count": 231,
   "id": "c687fbc0",
   "metadata": {
    "scrolled": false
   },
   "outputs": [
    {
     "name": "stdout",
     "output_type": "stream",
     "text": [
      "GERD\n",
      "   - Continue [**Hospital1 **] PPI\n"
     ]
    }
   ],
   "source": [
    "print(df_train2.iloc[123]['Plan Subsection'])"
   ]
  },
  {
   "cell_type": "code",
   "execution_count": 232,
   "id": "2c749b88",
   "metadata": {
    "scrolled": false
   },
   "outputs": [
    {
     "name": "stdout",
     "output_type": "stream",
     "text": [
      "Chief Complaint:\n",
      "Atrial fibrillation with RVR, CHF\n",
      "\n"
     ]
    }
   ],
   "source": [
    "print(df_train2.iloc[123]['chief_complaint'])"
   ]
  },
  {
   "cell_type": "code",
   "execution_count": 229,
   "id": "73ddc356",
   "metadata": {
    "scrolled": false
   },
   "outputs": [
    {
     "name": "stdout",
     "output_type": "stream",
     "text": [
      "History of Present Illness:\n",
      "Mr. [**Known lastname 34850**] is a 58 year old male with history of atrial\n",
      "fibrillation on coumadin, hyperlipidemia, hypertension,\n",
      "peripheral vascular disease, s/p CVA who presented to [**Hospital 11373**] on [**2185-3-2**] with heart failure exacerbation and atrial\n",
      "fibrillation with RVR. He presented with a one week history of\n",
      "increased dyspnea on exertion, PND, 3 pillow orthopnea and\n",
      "decreased exercise tolerance. Prior to presentation to the\n",
      "hospital he was unable to transfer from his bed without marked\n",
      "SOB. At [**Location (un) **], BNP was noted to be elevated and CXR showed\n",
      "increased interstitial markings. He was seen by Cardiology\n",
      "consult service who recommended rule out for MI, repeat echo,\n",
      "beta blockers and calcium channel blockers. He was diuresed and\n",
      "for his AF initially started on a diltiazem gtt and then\n",
      "converted to Metoprolol 25mg q6H to treat his heart rate. At\n",
      "some point during the hospitalization he was started on\n",
      "amiodarone and cardioverted. He was reportedly hypotensive on\n",
      "[**3-5**] and therefore the consulting cardiologist requested\n",
      "transfer to [**Hospital1 18**].\n",
      ".\n",
      "He was also noted to be in acute renal failure with increase in\n",
      "creatinine from 1.0 to 2.1 attributed to treatment with lasix,\n",
      "ACE and beta blocker. He was treated with Duonebs for COPD.\n",
      ".\n",
      "On [**2185-2-4**] the patient was hospitalized at [**Hospital3 417**] for\n",
      "chest pain. He was found to be in 2nd degree heart block\n",
      "attributed to medications. His digoxin was stopped at that time.\n",
      "He required intubation transiently. He ruled out for MI. During\n",
      "that admission he was diuresed, treated with low dose beta\n",
      "blocker, ACE and diuretics and was started on amiodarone for HR\n",
      "control.\n",
      ".\n",
      "On arrival to the CCU the patient is comfortable. He is\n",
      "oxygenating well on 2L NC. He is in sinus rhythm.\n",
      ".\n",
      "\n",
      "\n"
     ]
    }
   ],
   "source": [
    "print(df_train2.iloc[123]['present_history'])"
   ]
  },
  {
   "cell_type": "code",
   "execution_count": 233,
   "id": "7fbd025b",
   "metadata": {
    "scrolled": false
   },
   "outputs": [
    {
     "name": "stdout",
     "output_type": "stream",
     "text": [
      "Brief Hospital Course:\n",
      "Patient is a 58 year old male with history of atrial\n",
      "fibrillation on coumadin, hyperlipidemia, hypertension,\n",
      "peripheral vascular disease, s/p CVA who presented to [**Hospital 11373**] on [**2185-3-2**] with heart failure exacerbation and atrial\n",
      "fibrillation with RVR, transferred due to difficulty with\n",
      "diuresis [**2-7**] hypotension.\n",
      ".\n",
      "# Pump: Appears euvolemic on admission creatinine normalized.\n",
      "Weaned off oxygen. Denies SOB. Monitor sats on RA, with\n",
      "ambulation.  Lasix held but will resume outpatient dose on d/c.\n",
      "Cont lisinopril.\n",
      ".\n",
      "# Acute renal failure: Resolved.\n",
      ".\n",
      "# Atrial fibrillation: Currently in sinus rhythm s/p\n",
      "cardioversion. INR 3.5 in setting of starting amiodarone.\n",
      "Monitored on telemetry. Cont metoprolol and loading dose of\n",
      "amiodarone 400mg PO BID with plans to wean in 10 days to 200 PO\n",
      "daily. Held warfarin as INR supratherapeutic.\n",
      ".\n",
      "# Leukocytosis: Resolved. Afebrile, urine cx negative, no focal\n",
      "evidence of infection on ROS, exam, CXR.\n",
      ".\n",
      "#. CAD: Reported history of CAD. No history of MI and no prior\n",
      "cardiac intervention.  Continued ASA. Smoking cessation\n",
      "encouraged.\n",
      ".\n",
      "#. COPD: Likely a contributer to patient's recent SOB. Change\n",
      "ipratropium to tiotropium but can consider combivent upon\n",
      "discharge.\n",
      ".\n",
      "# Peripheral vascular disease- Continue ASA\n",
      ".\n",
      "# GERD-still active, increased omeprazole to 40mg PO BID\n",
      ".\n",
      "# Chronic pain syndrome-in b/l legs, continued oxycodone 5mg\n",
      "1-2tab prn.\n",
      ".\n",
      "# General care-Low salt, cardiac heart healthy diet, Monitor\n",
      "lytes and replete PRN, Access: PIVs, PPx: PPI [**Hospital1 **], bowel\n",
      "regimen, supratherapeutic INR, Code: Full\n",
      "\n",
      "\n",
      "\n"
     ]
    }
   ],
   "source": [
    "print(df_train2.iloc[123]['hospital_course'])"
   ]
  },
  {
   "cell_type": "markdown",
   "id": "d029a0d5",
   "metadata": {},
   "source": [
    "## Appendix: token length for Clinical Longformer"
   ]
  },
  {
   "cell_type": "code",
   "execution_count": 176,
   "id": "eae5cc8a",
   "metadata": {},
   "outputs": [],
   "source": [
    "tokenizer_lf = AutoTokenizer.from_pretrained(\"yikuan8/Clinical-Longformer\")"
   ]
  },
  {
   "cell_type": "code",
   "execution_count": 180,
   "id": "dea2ab7f",
   "metadata": {},
   "outputs": [],
   "source": [
    "def get_token_len(text):\n",
    "    text = text.lower()\n",
    "    text = re.sub(' +', ' ', text)\n",
    "    return len(tokenizer_lf.encode(text, add_special_tokens=False))"
   ]
  },
  {
   "cell_type": "code",
   "execution_count": 186,
   "id": "229ef800",
   "metadata": {},
   "outputs": [],
   "source": [
    "df_train2_lens = {}\n",
    "for col in ['Assessment', 'Plan Subsection', 'present_history', 'chief_complaint', 'hospital_course']:\n",
    "    df_train2_lens[col] = df_train2[col].map(get_token_len)\n",
    "df_train2_lens = pd.DataFrame(df_train2_lens)"
   ]
  },
  {
   "cell_type": "code",
   "execution_count": 188,
   "id": "7a1d2e80",
   "metadata": {},
   "outputs": [
    {
     "data": {
      "text/html": [
       "<div>\n",
       "<style scoped>\n",
       "    .dataframe tbody tr th:only-of-type {\n",
       "        vertical-align: middle;\n",
       "    }\n",
       "\n",
       "    .dataframe tbody tr th {\n",
       "        vertical-align: top;\n",
       "    }\n",
       "\n",
       "    .dataframe thead th {\n",
       "        text-align: right;\n",
       "    }\n",
       "</style>\n",
       "<table border=\"1\" class=\"dataframe\">\n",
       "  <thead>\n",
       "    <tr style=\"text-align: right;\">\n",
       "      <th></th>\n",
       "      <th>Assessment</th>\n",
       "      <th>Plan Subsection</th>\n",
       "      <th>present_history</th>\n",
       "      <th>chief_complaint</th>\n",
       "      <th>hospital_course</th>\n",
       "    </tr>\n",
       "  </thead>\n",
       "  <tbody>\n",
       "    <tr>\n",
       "      <th>count</th>\n",
       "      <td>4633.000000</td>\n",
       "      <td>4633.000000</td>\n",
       "      <td>4633.000000</td>\n",
       "      <td>4633.000000</td>\n",
       "      <td>4633.000000</td>\n",
       "    </tr>\n",
       "    <tr>\n",
       "      <th>mean</th>\n",
       "      <td>62.723721</td>\n",
       "      <td>80.531837</td>\n",
       "      <td>453.994172</td>\n",
       "      <td>12.774013</td>\n",
       "      <td>887.287719</td>\n",
       "    </tr>\n",
       "    <tr>\n",
       "      <th>std</th>\n",
       "      <td>32.771466</td>\n",
       "      <td>68.016243</td>\n",
       "      <td>207.145040</td>\n",
       "      <td>29.314713</td>\n",
       "      <td>550.330935</td>\n",
       "    </tr>\n",
       "    <tr>\n",
       "      <th>min</th>\n",
       "      <td>13.000000</td>\n",
       "      <td>2.000000</td>\n",
       "      <td>0.000000</td>\n",
       "      <td>0.000000</td>\n",
       "      <td>0.000000</td>\n",
       "    </tr>\n",
       "    <tr>\n",
       "      <th>25%</th>\n",
       "      <td>41.000000</td>\n",
       "      <td>30.000000</td>\n",
       "      <td>329.000000</td>\n",
       "      <td>8.000000</td>\n",
       "      <td>527.000000</td>\n",
       "    </tr>\n",
       "    <tr>\n",
       "      <th>50%</th>\n",
       "      <td>56.000000</td>\n",
       "      <td>60.000000</td>\n",
       "      <td>434.000000</td>\n",
       "      <td>10.000000</td>\n",
       "      <td>803.000000</td>\n",
       "    </tr>\n",
       "    <tr>\n",
       "      <th>75%</th>\n",
       "      <td>76.000000</td>\n",
       "      <td>113.000000</td>\n",
       "      <td>566.000000</td>\n",
       "      <td>13.000000</td>\n",
       "      <td>1140.000000</td>\n",
       "    </tr>\n",
       "    <tr>\n",
       "      <th>max</th>\n",
       "      <td>231.000000</td>\n",
       "      <td>565.000000</td>\n",
       "      <td>1562.000000</td>\n",
       "      <td>855.000000</td>\n",
       "      <td>3871.000000</td>\n",
       "    </tr>\n",
       "  </tbody>\n",
       "</table>\n",
       "</div>"
      ],
      "text/plain": [
       "        Assessment  Plan Subsection  present_history  chief_complaint  \\\n",
       "count  4633.000000      4633.000000      4633.000000      4633.000000   \n",
       "mean     62.723721        80.531837       453.994172        12.774013   \n",
       "std      32.771466        68.016243       207.145040        29.314713   \n",
       "min      13.000000         2.000000         0.000000         0.000000   \n",
       "25%      41.000000        30.000000       329.000000         8.000000   \n",
       "50%      56.000000        60.000000       434.000000        10.000000   \n",
       "75%      76.000000       113.000000       566.000000        13.000000   \n",
       "max     231.000000       565.000000      1562.000000       855.000000   \n",
       "\n",
       "       hospital_course  \n",
       "count      4633.000000  \n",
       "mean        887.287719  \n",
       "std         550.330935  \n",
       "min           0.000000  \n",
       "25%         527.000000  \n",
       "50%         803.000000  \n",
       "75%        1140.000000  \n",
       "max        3871.000000  "
      ]
     },
     "execution_count": 188,
     "metadata": {},
     "output_type": "execute_result"
    }
   ],
   "source": [
    "df_train2_lens.describe()"
   ]
  },
  {
   "cell_type": "code",
   "execution_count": 221,
   "id": "0ddf88c0",
   "metadata": {},
   "outputs": [
    {
     "data": {
      "text/plain": [
       "count    4633.000000\n",
       "mean     1366.709260\n",
       "std       433.083707\n",
       "min        31.000000\n",
       "25%      1061.000000\n",
       "50%      1405.000000\n",
       "75%      1706.000000\n",
       "max      2251.000000\n",
       "dtype: float64"
      ]
     },
     "execution_count": 221,
     "metadata": {},
     "output_type": "execute_result"
    }
   ],
   "source": [
    "train_lens_trim = [\n",
    "    df_train2_lens['Assessment'].map(lambda x: min(x, 150)),\n",
    "    df_train2_lens['Plan Subsection'].map(lambda x: min(x, 250)),\n",
    "    df_train2_lens['chief_complaint'],\n",
    "    df_train2_lens['hospital_course'].map(lambda x: min(x, 1240)),\n",
    "    df_train2_lens['present_history'].map(lambda x: min(x, 590)),\n",
    "]\n",
    "pd.Series(np.array(train_lens_trim).sum(axis=0)).describe()"
   ]
  },
  {
   "cell_type": "code",
   "execution_count": 219,
   "id": "f7c1b31c",
   "metadata": {},
   "outputs": [
    {
     "data": {
      "text/plain": [
       "130.0"
      ]
     },
     "execution_count": 219,
     "metadata": {},
     "output_type": "execute_result"
    }
   ],
   "source": [
    "np.percentile(df_train2_lens['Assessment'], 95)"
   ]
  },
  {
   "cell_type": "code",
   "execution_count": 220,
   "id": "33976b61",
   "metadata": {},
   "outputs": [
    {
     "data": {
      "text/plain": [
       "216.0"
      ]
     },
     "execution_count": 220,
     "metadata": {},
     "output_type": "execute_result"
    }
   ],
   "source": [
    "np.percentile(df_train2_lens['Plan Subsection'], 95)"
   ]
  },
  {
   "cell_type": "code",
   "execution_count": 215,
   "id": "ab263542",
   "metadata": {},
   "outputs": [
    {
     "data": {
      "text/plain": [
       "590.0"
      ]
     },
     "execution_count": 215,
     "metadata": {},
     "output_type": "execute_result"
    }
   ],
   "source": [
    "np.percentile(df_train2_lens['present_history'], 80)"
   ]
  },
  {
   "cell_type": "code",
   "execution_count": 216,
   "id": "1b9db987",
   "metadata": {},
   "outputs": [
    {
     "data": {
      "text/plain": [
       "1240.0"
      ]
     },
     "execution_count": 216,
     "metadata": {},
     "output_type": "execute_result"
    }
   ],
   "source": [
    "np.percentile(df_train2_lens['hospital_course'], 80)"
   ]
  },
  {
   "cell_type": "code",
   "execution_count": 189,
   "id": "b8db0bc0",
   "metadata": {},
   "outputs": [],
   "source": [
    "df_dev2_lens = {}\n",
    "for col in ['Assessment', 'Plan Subsection', 'present_history', 'chief_complaint', 'hospital_course']:\n",
    "    df_dev2_lens[col] = df_dev2[col].map(get_token_len)\n",
    "df_dev2_lens = pd.DataFrame(df_dev2_lens)"
   ]
  },
  {
   "cell_type": "code",
   "execution_count": 190,
   "id": "61b079e0",
   "metadata": {},
   "outputs": [
    {
     "data": {
      "text/html": [
       "<div>\n",
       "<style scoped>\n",
       "    .dataframe tbody tr th:only-of-type {\n",
       "        vertical-align: middle;\n",
       "    }\n",
       "\n",
       "    .dataframe tbody tr th {\n",
       "        vertical-align: top;\n",
       "    }\n",
       "\n",
       "    .dataframe thead th {\n",
       "        text-align: right;\n",
       "    }\n",
       "</style>\n",
       "<table border=\"1\" class=\"dataframe\">\n",
       "  <thead>\n",
       "    <tr style=\"text-align: right;\">\n",
       "      <th></th>\n",
       "      <th>Assessment</th>\n",
       "      <th>Plan Subsection</th>\n",
       "      <th>present_history</th>\n",
       "      <th>chief_complaint</th>\n",
       "      <th>hospital_course</th>\n",
       "    </tr>\n",
       "  </thead>\n",
       "  <tbody>\n",
       "    <tr>\n",
       "      <th>count</th>\n",
       "      <td>597.000000</td>\n",
       "      <td>597.000000</td>\n",
       "      <td>597.000000</td>\n",
       "      <td>597.000000</td>\n",
       "      <td>597.000000</td>\n",
       "    </tr>\n",
       "    <tr>\n",
       "      <th>mean</th>\n",
       "      <td>69.293132</td>\n",
       "      <td>75.122278</td>\n",
       "      <td>422.137353</td>\n",
       "      <td>10.832496</td>\n",
       "      <td>945.231156</td>\n",
       "    </tr>\n",
       "    <tr>\n",
       "      <th>std</th>\n",
       "      <td>42.793905</td>\n",
       "      <td>72.869679</td>\n",
       "      <td>222.834120</td>\n",
       "      <td>5.002893</td>\n",
       "      <td>618.727846</td>\n",
       "    </tr>\n",
       "    <tr>\n",
       "      <th>min</th>\n",
       "      <td>11.000000</td>\n",
       "      <td>4.000000</td>\n",
       "      <td>0.000000</td>\n",
       "      <td>0.000000</td>\n",
       "      <td>0.000000</td>\n",
       "    </tr>\n",
       "    <tr>\n",
       "      <th>25%</th>\n",
       "      <td>40.000000</td>\n",
       "      <td>26.000000</td>\n",
       "      <td>321.000000</td>\n",
       "      <td>8.000000</td>\n",
       "      <td>507.000000</td>\n",
       "    </tr>\n",
       "    <tr>\n",
       "      <th>50%</th>\n",
       "      <td>59.000000</td>\n",
       "      <td>54.000000</td>\n",
       "      <td>409.000000</td>\n",
       "      <td>10.000000</td>\n",
       "      <td>881.000000</td>\n",
       "    </tr>\n",
       "    <tr>\n",
       "      <th>75%</th>\n",
       "      <td>80.000000</td>\n",
       "      <td>101.000000</td>\n",
       "      <td>522.000000</td>\n",
       "      <td>14.000000</td>\n",
       "      <td>1237.000000</td>\n",
       "    </tr>\n",
       "    <tr>\n",
       "      <th>max</th>\n",
       "      <td>226.000000</td>\n",
       "      <td>896.000000</td>\n",
       "      <td>1379.000000</td>\n",
       "      <td>26.000000</td>\n",
       "      <td>3960.000000</td>\n",
       "    </tr>\n",
       "  </tbody>\n",
       "</table>\n",
       "</div>"
      ],
      "text/plain": [
       "       Assessment  Plan Subsection  present_history  chief_complaint  \\\n",
       "count  597.000000       597.000000       597.000000       597.000000   \n",
       "mean    69.293132        75.122278       422.137353        10.832496   \n",
       "std     42.793905        72.869679       222.834120         5.002893   \n",
       "min     11.000000         4.000000         0.000000         0.000000   \n",
       "25%     40.000000        26.000000       321.000000         8.000000   \n",
       "50%     59.000000        54.000000       409.000000        10.000000   \n",
       "75%     80.000000       101.000000       522.000000        14.000000   \n",
       "max    226.000000       896.000000      1379.000000        26.000000   \n",
       "\n",
       "       hospital_course  \n",
       "count       597.000000  \n",
       "mean        945.231156  \n",
       "std         618.727846  \n",
       "min           0.000000  \n",
       "25%         507.000000  \n",
       "50%         881.000000  \n",
       "75%        1237.000000  \n",
       "max        3960.000000  "
      ]
     },
     "execution_count": 190,
     "metadata": {},
     "output_type": "execute_result"
    }
   ],
   "source": [
    "df_dev2_lens.describe()"
   ]
  },
  {
   "cell_type": "code",
   "execution_count": null,
   "id": "86edcdf9",
   "metadata": {},
   "outputs": [],
   "source": []
  }
 ],
 "metadata": {
  "kernelspec": {
   "display_name": "Python 3 (ipykernel)",
   "language": "python",
   "name": "python3"
  },
  "language_info": {
   "codemirror_mode": {
    "name": "ipython",
    "version": 3
   },
   "file_extension": ".py",
   "mimetype": "text/x-python",
   "name": "python",
   "nbconvert_exporter": "python",
   "pygments_lexer": "ipython3",
   "version": "3.9.7"
  }
 },
 "nbformat": 4,
 "nbformat_minor": 5
}

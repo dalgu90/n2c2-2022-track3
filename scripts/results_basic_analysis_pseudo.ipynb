{
 "cells": [
  {
   "cell_type": "code",
   "execution_count": 1,
   "id": "38e114a0",
   "metadata": {},
   "outputs": [],
   "source": [
    "import collections\n",
    "import os\n",
    "import pickle\n",
    "\n",
    "import numpy as np\n",
    "import pandas as pd\n",
    "import sklearn\n",
    "import matplotlib.pyplot as plt\n",
    "import transformers\n",
    "\n",
    "from sklearn.metrics import ConfusionMatrixDisplay"
   ]
  },
  {
   "cell_type": "code",
   "execution_count": 2,
   "id": "a7d75e7b",
   "metadata": {},
   "outputs": [],
   "source": [
    "def textbf(text):\n",
    "    return '\\033[1m' + text + '\\033[0m'\n",
    "\n",
    "def textcolor(text, color):\n",
    "    code = {'red': '31', 'green': '32', 'yellow': '33', 'blue': '34', 'magenta': '35', 'cyan': '36', 'white': '37'}\n",
    "    return '\\033[' + code[color] + 'm' + text + '\\033[0m'"
   ]
  },
  {
   "cell_type": "code",
   "execution_count": 3,
   "id": "4d73bef0",
   "metadata": {},
   "outputs": [
    {
     "name": "stdout",
     "output_type": "stream",
     "text": [
      "Train 4633 rows\n",
      "Dev 597 rows\n"
     ]
    }
   ],
   "source": [
    "data_dir = '../data/N2C2-Track3-May3_pseudo/'\n",
    "df_train = pd.read_csv(os.path.join(data_dir, 'train.csv'), low_memory=False)\n",
    "print(f'Train {len(df_train)} rows')\n",
    "df_dev = pd.read_csv(os.path.join(data_dir, 'dev.csv'), low_memory=False)\n",
    "print(f'Dev {len(df_dev)} rows')"
   ]
  },
  {
   "cell_type": "code",
   "execution_count": 4,
   "id": "f765eb3d",
   "metadata": {},
   "outputs": [],
   "source": [
    "_relation_labels = {'Direct': 0, 'Indirect': 1, 'Neither': 2, 'Not Relevant': 3}\n",
    "relations, labels = list(zip(*_relation_labels.items()))\n",
    "relation_to_label = _relation_labels\n",
    "label_to_relation = {v: k for k, v in relation_to_label.items()}\n",
    "num_labels = len(relation_to_label)"
   ]
  },
  {
   "cell_type": "markdown",
   "id": "7ca2504b",
   "metadata": {},
   "source": [
    "## Accuracy / conf matrix"
   ]
  },
  {
   "cell_type": "code",
   "execution_count": 5,
   "id": "1289fbcd",
   "metadata": {},
   "outputs": [],
   "source": [
    "def confusion_matrix_strs(y_true, y_pred, dataset=''):\n",
    "    conf_mat = sklearn.metrics.confusion_matrix(y_true=y_true, y_pred=y_pred)\n",
    "    results = []\n",
    "    results.append(f'{dataset.upper():<9}' + ' '.join([f'{r[:8]:>8}' for r in relations]) + '  Lbl cnt')\n",
    "    for i in range(4):\n",
    "        results.append(f'{relations[i][:8]:>8} ' + ' '.join([f'{c:8}' for c in conf_mat[i]]) + f' {sum(conf_mat[i]):8}')    \n",
    "    results.append(f'Pred cnt ' + ' '.join([f'{sum(conf_mat[:,i]):8}' for i in range(4)]) + f' {np.sum(conf_mat):8}')    \n",
    "    return results\n",
    "\n",
    "def plot_confusion_matrix_traindev(results_dir):\n",
    "    print(f'[Experiment {results_dir}]')\n",
    "    \n",
    "    train_labels = np.array([relation_to_label[row['Relation']] for _, row in df_train.iterrows()])\n",
    "    dev_labels = np.array([relation_to_label[row['Relation']] for _, row in df_dev.iterrows()])\n",
    "    with open(os.path.join(results_dir, 'results_train_9999.pkl'), 'rb') as fd:\n",
    "        train_results = pickle.load(fd)\n",
    "    with open(os.path.join(results_dir, 'results_dev_9999.pkl'), 'rb') as fd:\n",
    "        dev_results = pickle.load(fd)\n",
    "    train_preds = np.argmax(np.array([r['logits'] for r in train_results]), axis=1)\n",
    "    dev_preds = np.argmax(np.array([r['logits'] for r in dev_results]), axis=1)\n",
    "\n",
    "    plt.figure(figsize=(12, 4))\n",
    "    ax = plt.subplot(1, 2, 1)\n",
    "    ConfusionMatrixDisplay.from_predictions(y_true=train_labels, y_pred=train_preds, normalize='true', cmap=plt.cm.Blues, ax=ax)\n",
    "    plt.title('Train prediction'); plt.xticks(*zip(*label_to_relation.items())); plt.yticks(*zip(*label_to_relation.items()))\n",
    "    ax = plt.subplot(1, 2, 2)\n",
    "    ConfusionMatrixDisplay.from_predictions(y_true=dev_labels, y_pred=dev_preds, normalize='true', cmap=plt.cm.Blues, ax=ax)\n",
    "    plt.title('Dev prediction'); plt.xticks(*zip(*label_to_relation.items())); plt.yticks(*zip(*label_to_relation.items()))\n",
    "\n",
    "    train_correct = train_labels == train_preds\n",
    "    dev_correct = dev_labels == dev_preds\n",
    "    print(f'- Train set performance')\n",
    "    print(f'    - Accuracy: {np.mean(train_correct):.6f} ({sum(train_correct)}/{len(train_correct)})')\n",
    "    print(f'    - Macro F1: {sklearn.metrics.f1_score(y_true=train_labels, y_pred=train_preds, average=\"macro\"):.6f}')\n",
    "    print(f'- Dev set performance')\n",
    "    print(f'    - Accuracy: {np.mean(dev_correct):.6f} ({sum(dev_correct)}/{len(dev_correct)})')\n",
    "    print(f'    - Macro F1: {sklearn.metrics.f1_score(y_true=dev_labels, y_pred=dev_preds, average=\"macro\"):.6f}')\n",
    "    \n",
    "    train_conf_strs = confusion_matrix_strs(train_labels, train_preds, 'train')\n",
    "    dev_conf_strs = confusion_matrix_strs(dev_labels, dev_preds, 'dev')\n",
    "    for str1, str2 in zip(train_conf_strs, dev_conf_strs):\n",
    "        print(str1 + ' | ' + str2)"
   ]
  },
  {
   "cell_type": "code",
   "execution_count": 6,
   "id": "9225a6cc",
   "metadata": {},
   "outputs": [
    {
     "name": "stdout",
     "output_type": "stream",
     "text": [
      "[Experiment ../results/sent_rel_PubMedBERT_pseudo/]\n",
      "- Train set performance\n",
      "    - Accuracy: 0.997842 (4623/4633)\n",
      "    - Macro F1: 0.997913\n",
      "- Dev set performance\n",
      "    - Accuracy: 0.748744 (447/597)\n",
      "    - Macro F1: 0.766857\n",
      "TRAIN      Direct Indirect  Neither Not Rele  Lbl cnt | DEV        Direct Indirect  Neither Not Rele  Lbl cnt\n",
      "  Direct     1090        0        0        0     1090 |   Direct      119       19        5        2      145\n",
      "Indirect        8     1240        1        0     1249 | Indirect       27      106       43        3      179\n",
      " Neither        0        1     1483        0     1484 |  Neither        5       33      134        1      173\n",
      "Not Rele        0        0        0      810      810 | Not Rele        6        3        3       88      100\n",
      "Pred cnt     1098     1241     1484      810     4633 | Pred cnt      157      161      185       94      597\n"
     ]
    },
    {
     "data": {
      "image/png": "[encoded data removed]",
      "text/plain": [
       "<Figure size 864x288 with 4 Axes>"
      ]
     },
     "metadata": {
      "needs_background": "light"
     },
     "output_type": "display_data"
    }
   ],
   "source": [
    "plot_confusion_matrix_traindev('../results/sent_rel_PubMedBERT_pseudo/')"
   ]
  },
  {
   "cell_type": "code",
   "execution_count": 7,
   "id": "5efb1656",
   "metadata": {},
   "outputs": [
    {
     "name": "stdout",
     "output_type": "stream",
     "text": [
      "[Experiment ../results/sent_rel_BlueBERT-Large_pseudo/]\n",
      "- Train set performance\n",
      "    - Accuracy: 0.998273 (4625/4633)\n",
      "    - Macro F1: 0.998296\n",
      "- Dev set performance\n",
      "    - Accuracy: 0.738693 (441/597)\n",
      "    - Macro F1: 0.763730\n",
      "TRAIN      Direct Indirect  Neither Not Rele  Lbl cnt | DEV        Direct Indirect  Neither Not Rele  Lbl cnt\n",
      "  Direct     1088        2        0        0     1090 |   Direct      106       31        5        3      145\n",
      "Indirect        1     1248        0        0     1249 | Indirect       13      137       28        1      179\n",
      " Neither        0        3     1481        0     1484 |  Neither        2       60      111        0      173\n",
      "Not Rele        1        0        1      808      810 | Not Rele        2        6        5       87      100\n",
      "Pred cnt     1090     1253     1482      808     4633 | Pred cnt      123      234      149       91      597\n"
     ]
    },
    {
     "data": {
      "image/png": "[encoded data removed]",
      "text/plain": [
       "<Figure size 864x288 with 4 Axes>"
      ]
     },
     "metadata": {
      "needs_background": "light"
     },
     "output_type": "display_data"
    }
   ],
   "source": [
    "plot_confusion_matrix_traindev('../results/sent_rel_BlueBERT-Large_pseudo/')"
   ]
  },
  {
   "cell_type": "markdown",
   "id": "adb1e4b0",
   "metadata": {},
   "source": [
    "## Examples / results"
   ]
  },
  {
   "cell_type": "code",
   "execution_count": 8,
   "id": "e370bd8e",
   "metadata": {},
   "outputs": [],
   "source": [
    "results_dir = '../results/sent_rel_PubMedBERT_pseudo/'\n",
    "ckpt_step = 9999\n",
    "\n",
    "with open(os.path.join(results_dir, f'results_train_{ckpt_step}.pkl'), 'rb') as fd:\n",
    "    train_results = pickle.load(fd)\n",
    "with open(os.path.join(results_dir, f'results_dev_{ckpt_step}.pkl'), 'rb') as fd:\n",
    "    dev_results = pickle.load(fd)\n",
    "    \n",
    "assert len(train_results) == len(df_train)\n",
    "assert len(dev_results) == len(df_dev)"
   ]
  },
  {
   "cell_type": "code",
   "execution_count": 9,
   "id": "6dde5ef0",
   "metadata": {},
   "outputs": [],
   "source": [
    "tokenizer = transformers.AutoTokenizer.from_pretrained(\"microsoft/BiomedNLP-PubMedBERT-base-uncased-abstract-fulltext\")"
   ]
  },
  {
   "cell_type": "code",
   "execution_count": 10,
   "id": "5c407c7a",
   "metadata": {},
   "outputs": [],
   "source": [
    "def print_example(idx, dataset='train'):\n",
    "    if dataset == 'train':\n",
    "        row = df_train.iloc[idx]\n",
    "    elif dataset == 'dev':\n",
    "        row = df_test.iloc[idx]\n",
    "    else:\n",
    "        raise ValueError(f'Wrong dataset: {dataset}')\n",
    "        \n",
    "    row_id, hadm_id, assessment, plan, relation = \\\n",
    "        (row['ROW ID'], row['HADM ID'], row['Assessment'], row['Plan Subsection'], row['Relation'])\n",
    "    print(f'[{dataset.upper()} example #{idx}, ROW_ID:{row_id:7}, HADM_ID:{hadm_id:7}]')\n",
    "    num_assess_tokens = len(tokenizer.encode(assessment, add_special_tokens=False))\n",
    "    print(f'- Assessment ({num_assess_tokens} tokens): \\n{assessment}')\n",
    "    num_plan_tokens = len(tokenizer.encode(plan, add_special_tokens=False))\n",
    "    print(f'- Plan Subsection ({num_plan_tokens} tokens): \\n{plan}')\n",
    "    print(f'- Relation: {relation} (label {relation_to_label[relation]})')"
   ]
  },
  {
   "cell_type": "code",
   "execution_count": 11,
   "id": "cc6a5dbd",
   "metadata": {},
   "outputs": [
    {
     "name": "stdout",
     "output_type": "stream",
     "text": [
      "[TRAIN example #0, ROW_ID: 701359, HADM_ID: 186454]\n",
      "- Assessment (53 tokens): \n",
      "51 yr old F with a history of 3V CAD, confirmed on C. cath during this\n",
      "   admission, EF of 40%, who is transferred to CCU for monitoring of\n",
      "   recurrent chest pain. Plan for CABG today to revascularize due to\n",
      "   3-vessel disease.\n",
      "- Plan Subsection (124 tokens): \n",
      "# CORONARIES: Patient with 3 vessel disease on cath. Previously found\n",
      "   to be the case in 2174, but had been treated medically. On the floor,\n",
      "   patient with recurrent chest pain and EKG changes, concerning for\n",
      "   further ischemia. Chest pain has been controlled on nitro gtt. Patient\n",
      "   in CCU for monitoring; plan for CABG today.\n",
      "   - continue nitro gtt\n",
      "   - if has further CP, would uptitrate nitro, and contact KINNAMAN and\n",
      "   attending for potential balloon pump vs. urgent CABG\n",
      "   - appreciate CT NENITA recs\n",
      "   - continue KONOPNICKI, LESLIE, ACE-i, simvastatin\n",
      "- Relation: Direct (label 0)\n"
     ]
    }
   ],
   "source": [
    "print_example(0)"
   ]
  },
  {
   "cell_type": "code",
   "execution_count": 12,
   "id": "76646c05",
   "metadata": {},
   "outputs": [],
   "source": [
    "def print_results(idx, dataset='train'):\n",
    "    if dataset == 'train':\n",
    "        row, result = df_train.iloc[idx], train_results[idx]\n",
    "    elif dataset == 'dev':\n",
    "        row, result = df_dev.iloc[idx], dev_results[idx]\n",
    "    else:\n",
    "        raise ValueError(f'Wrong dataset: {dataset}')\n",
    "    \n",
    "    row_id, hadm_id, assessment, plan, relation = \\\n",
    "        (row['ROW ID'], row['HADM ID'], row['Assessment'], row['Plan Subsection'], row['Relation'])\n",
    "    assert row_id == result['row_id'] and hadm_id == result['hadm_id'] and relation_to_label[relation] == result['label']\n",
    "    logits = result['logits']\n",
    "    probs = np.exp(logits) / np.sum(np.exp(logits))\n",
    "    pred = np.argmax(logits)\n",
    "    correct = pred == relation_to_label[relation]\n",
    "    color = \"green\" if correct else \"red\"\n",
    "        \n",
    "    print(f'[{dataset.upper()} example #{idx}, ROW_ID:{row_id:7}, HADM_ID:{hadm_id:7}]')\n",
    "    num_assess_tokens = len(tokenizer.encode(assessment, add_special_tokens=False))\n",
    "    print(f'- Assessment ({num_assess_tokens} tokens): \\n{assessment}')\n",
    "    num_plan_tokens = len(tokenizer.encode(plan, add_special_tokens=False))\n",
    "    print(f'- Plan Subsection ({num_plan_tokens} tokens): \\n{plan}')\n",
    "    print(f'- Relation  : {relation} (label {relation_to_label[relation]})')\n",
    "    print(f'- Prediction: {textcolor(label_to_relation[pred] + \" (label \" + str(pred) + \")\", color)}')\\\n",
    "    \n",
    "    for i in range(4):\n",
    "        prob_str = f'  {i}) {label_to_relation[i]:>12} {probs[i]:.4f}'\n",
    "        print(textbf(prob_str) if i == pred else prob_str)\n",
    "    "
   ]
  },
  {
   "cell_type": "code",
   "execution_count": 13,
   "id": "c35d2243",
   "metadata": {},
   "outputs": [
    {
     "name": "stdout",
     "output_type": "stream",
     "text": [
      "[DEV example #0, ROW_ID: 576487, HADM_ID: 112508]\n",
      "- Assessment (51 tokens): \n",
      "A 60 year old woman with recurrent ALL with CNS involvement s/p Omaya\n",
      "   removal due to VRE contamination & SDH evacuation.  She is now doing\n",
      "   well and awake s/p extubation, afebrile and her WBC count is trending\n",
      "   downward.\n",
      "- Plan Subsection (91 tokens): \n",
      "CNS VRE:  S/P Omaya removal, on linezolid for greater CNS penetration\n",
      "   despite risk of CNS penetration. No TEE performed.\n",
      "   - continue linezolid (D1=4-16), course to be determined by TEE (4 vs 8\n",
      "   weeks) gentamicin D/C\n",
      "d per ID\n",
      "   - f/u culture data and sensitivities\n",
      "   - TEE deferred at this time.\n",
      "   - f/u tigacycline sensitivities for long-term therapy\n",
      "- Relation  : Direct (label 0)\n",
      "- Prediction: \u001b[32mDirect (label 0)\u001b[0m\n",
      "\u001b[1m  0)       Direct 1.0000\u001b[0m\n",
      "  1)     Indirect 0.0000\n",
      "  2)      Neither 0.0000\n",
      "  3) Not Relevant 0.0000\n"
     ]
    }
   ],
   "source": [
    "print_results(0, 'dev')"
   ]
  },
  {
   "cell_type": "code",
   "execution_count": 14,
   "id": "a3aba0de",
   "metadata": {},
   "outputs": [
    {
     "name": "stdout",
     "output_type": "stream",
     "text": [
      "[DEV example #2, ROW_ID: 576487, HADM_ID: 112508]\n",
      "- Assessment (51 tokens): \n",
      "A 60 year old woman with recurrent ALL with CNS involvement s/p Omaya\n",
      "   removal due to VRE contamination & SDH evacuation.  She is now doing\n",
      "   well and awake s/p extubation, afebrile and her WBC count is trending\n",
      "   downward.\n",
      "- Plan Subsection (70 tokens): \n",
      "ALL:  Currently day +43 s/p hyper-CVAD.  She is also s/p intrathecal\n",
      "   MTX and DLI this admission.  Per BMT, will need further treatment for\n",
      "   CNS lymphoma in the future.\n",
      "   - f/u BMT recommendations\n",
      "   - follow CBC/diff\n",
      "   - continue acyclovir, micafungin in addition to linezolid\n",
      "- Relation  : Indirect (label 1)\n",
      "- Prediction: \u001b[31mDirect (label 0)\u001b[0m\n",
      "\u001b[1m  0)       Direct 0.9981\u001b[0m\n",
      "  1)     Indirect 0.0019\n",
      "  2)      Neither 0.0000\n",
      "  3) Not Relevant 0.0000\n"
     ]
    }
   ],
   "source": [
    "print_results(2, 'dev')"
   ]
  }
 ],
 "metadata": {
  "kernelspec": {
   "display_name": "Python 3 (ipykernel)",
   "language": "python",
   "name": "python3"
  },
  "language_info": {
   "codemirror_mode": {
    "name": "ipython",
    "version": 3
   },
   "file_extension": ".py",
   "mimetype": "text/x-python",
   "name": "python",
   "nbconvert_exporter": "python",
   "pygments_lexer": "ipython3",
   "version": "3.8.13"
  }
 },
 "nbformat": 4,
 "nbformat_minor": 5
}
